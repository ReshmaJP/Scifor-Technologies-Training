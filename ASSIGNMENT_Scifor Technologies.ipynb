{
 "cells": [
  {
   "cell_type": "markdown",
   "id": "8c601835",
   "metadata": {},
   "source": [
    "Q1. Create a python program to sort the given list of tuples based on integer value using a\n",
    "lambda function.\n",
    "[('Sachin Tendulkar', 34357), ('Ricky Ponting', 27483), ('Jack Kallis', 25534), ('Virat Kohli',\n",
    "24936)]"
   ]
  },
  {
   "cell_type": "code",
   "execution_count": 37,
   "id": "e4fbb82b",
   "metadata": {},
   "outputs": [
    {
     "name": "stdout",
     "output_type": "stream",
     "text": [
      "('Virat Kohli', 24936)\n",
      "('Jack Kallis', 25534)\n",
      "('Ricky Ponting', 27483)\n",
      "('Sachin Tendulkar', 34357)\n"
     ]
    }
   ],
   "source": [
    "# List of tuples\n",
    "list1 = [('Sachin Tendulkar', 34357), ('Ricky Ponting', 27483), ('Jack Kallis', 25534), ('Virat Kohli', 24936)]\n",
    "# Sorted data based on integer values\n",
    "sorted_data = sorted(list1, key=lambda x: x[1])\n",
    "for item in sorted_data:\n",
    "    print(item)\n"
   ]
  },
  {
   "cell_type": "markdown",
   "id": "7a8f9934",
   "metadata": {},
   "source": [
    "Q2. Write a Python Program to find the squares of all the numbers in the given list of integers\n",
    "using lambda and map functions.\n",
    "[1, 2, 3, 4, 5, 6, 7, 8, 9, 10]"
   ]
  },
  {
   "cell_type": "code",
   "execution_count": 38,
   "id": "35f47f45",
   "metadata": {},
   "outputs": [
    {
     "name": "stdout",
     "output_type": "stream",
     "text": [
      "[1, 4, 9, 16, 25, 36, 49, 64, 81, 100]\n"
     ]
    }
   ],
   "source": [
    "# List of integers\n",
    "l1 = [1, 2, 3, 4, 5, 6, 7, 8, 9, 10]\n",
    "# Squares of all numbers in the given list\n",
    "l1_squared = list(map(lambda x: x**2, l1))\n",
    "print(l1_squared)"
   ]
  },
  {
   "cell_type": "markdown",
   "id": "a754d4da",
   "metadata": {},
   "source": [
    "Q3. Write a python program to convert the given list of integers into a tuple of strings. Use map\n",
    "and lambda functions"
   ]
  },
  {
   "cell_type": "code",
   "execution_count": 39,
   "id": "c2013e79",
   "metadata": {},
   "outputs": [
    {
     "name": "stdout",
     "output_type": "stream",
     "text": [
      "('1', '2', '3', '4', '5', '6', '7', '8', '9', '10')\n"
     ]
    }
   ],
   "source": [
    "# List of integers\n",
    "int_list = [1, 2, 3, 4, 5, 6, 7, 8, 9, 10]\n",
    "\n",
    "# Convert integers to tuple of strings\n",
    "tuple_of_strings = tuple(map(lambda x: str(x), int_list))\n",
    "print(tuple_of_strings)"
   ]
  },
  {
   "cell_type": "markdown",
   "id": "e8335b98",
   "metadata": {},
   "source": [
    "Q4. Write a python program using reduce function to compute the product of a list containing\n",
    "numbers from 1 to 25"
   ]
  },
  {
   "cell_type": "code",
   "execution_count": 40,
   "id": "372c1c04",
   "metadata": {},
   "outputs": [
    {
     "name": "stdout",
     "output_type": "stream",
     "text": [
      "[1, 2, 3, 4, 5, 6, 7, 8, 9, 10, 11, 12, 13, 14, 15, 16, 17, 18, 19, 20, 21, 22, 23, 24, 25]\n",
      "15511210043330985984000000\n"
     ]
    }
   ],
   "source": [
    "# List containing numbers from 1 to 25\n",
    "l2 = [num for num in range(1, 26)]\n",
    "print(l2)\n",
    "\n",
    "# Use reduce function to compute the product of the numbers in the list\n",
    "import functools\n",
    "product = functools.reduce(lambda x, y: x * y, l2)\n",
    "print(product)"
   ]
  },
  {
   "cell_type": "markdown",
   "id": "e3a9cc8b",
   "metadata": {},
   "source": [
    "Q5. Write a python program to filter the numbers in a given list that are divisible by 2 and 3\n",
    "[2, 3, 6, 9, 27, 60, 90, 120, 55, 46]"
   ]
  },
  {
   "cell_type": "code",
   "execution_count": 41,
   "id": "12014f56",
   "metadata": {},
   "outputs": [
    {
     "name": "stdout",
     "output_type": "stream",
     "text": [
      "Numbers Divisible by 2 and 3: [6, 60, 90, 120]\n"
     ]
    }
   ],
   "source": [
    "# List of numbers\n",
    "numbers_list = [2, 3, 6, 9, 27, 60, 90, 120, 55, 46]\n",
    "\n",
    "# Filter the numbers in the given list that are divisible by 2 and 3\n",
    "filtered_numbers = list(filter(lambda x: x % 2 == 0 and x % 3 == 0, numbers_list))\n",
    "print(\"Numbers Divisible by 2 and 3:\", filtered_numbers)"
   ]
  },
  {
   "cell_type": "markdown",
   "id": "cb9b8f08",
   "metadata": {},
   "source": [
    "Q6. Write a python program to find palindromes in the given list of strings using lambda and\n",
    "filter function"
   ]
  },
  {
   "cell_type": "code",
   "execution_count": 42,
   "id": "d9f0e781",
   "metadata": {},
   "outputs": [
    {
     "name": "stdout",
     "output_type": "stream",
     "text": [
      "['php', 'aba', 'level']\n"
     ]
    }
   ],
   "source": [
    "# List of strings\n",
    "string_list = ['python', 'php', 'aba', \"level\"]\n",
    "\n",
    "# Find palindromes\n",
    "palindromes = list(filter(lambda s: s == s[::-1], string_list))\n",
    "print(palindromes)"
   ]
  }
 ],
 "metadata": {
  "kernelspec": {
   "display_name": "Python 3 (ipykernel)",
   "language": "python",
   "name": "python3"
  },
  "language_info": {
   "codemirror_mode": {
    "name": "ipython",
    "version": 3
   },
   "file_extension": ".py",
   "mimetype": "text/x-python",
   "name": "python",
   "nbconvert_exporter": "python",
   "pygments_lexer": "ipython3",
   "version": "3.10.9"
  }
 },
 "nbformat": 4,
 "nbformat_minor": 5
}
