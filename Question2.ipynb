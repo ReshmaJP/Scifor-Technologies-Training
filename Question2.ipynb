{
 "cells": [
  {
   "cell_type": "markdown",
   "id": "6c12b1ba",
   "metadata": {},
   "source": [
    "# Qus. Extract Email ID from the uploaded resume"
   ]
  },
  {
   "cell_type": "code",
   "execution_count": 2,
   "id": "e71df5d3",
   "metadata": {},
   "outputs": [
    {
     "name": "stdout",
     "output_type": "stream",
     "text": [
      "rshm.jp07@gmail.com\n"
     ]
    }
   ],
   "source": [
    "import pdfplumber\n",
    "import re\n",
    "\n",
    "def read_pdf_with_pdfplumber(file_path):\n",
    "    with pdfplumber.open(file_path) as pdf:\n",
    "        text = ''\n",
    "        for page_num in range(len(pdf.pages)):\n",
    "            page = pdf.pages[page_num]\n",
    "            text += page.extract_text()\n",
    "\n",
    "    return text\n",
    "\n",
    "pdf_path = 'D:/Other/July2023_Resume_Reshma Jayaprakash.pdf'\n",
    "text_content = read_pdf_with_pdfplumber(pdf_path)\n",
    "\n",
    "#print(text_content)\n",
    "\n",
    "def extract_email_from_resume(resume_text):\n",
    "    email_regex = r'\\b[A-Za-z0-9._%+-]+@[A-Za-z0-9.-]+\\.[A-Z|a-z]{2,}\\b'\n",
    "    matches = re.findall(email_regex, resume_text)\n",
    "    \n",
    "    # Assuming the first match is the primary email address\n",
    "    if matches:\n",
    "        return matches[0]\n",
    "    \n",
    "    return None\n",
    "\n",
    "# Assuming text_content contains your resume text\n",
    "email_address = extract_email_from_resume(text_content)\n",
    "\n",
    "print(email_address)"
   ]
  },
  {
   "cell_type": "code",
   "execution_count": null,
   "id": "28390762",
   "metadata": {},
   "outputs": [],
   "source": []
  }
 ],
 "metadata": {
  "kernelspec": {
   "display_name": "Python 3 (ipykernel)",
   "language": "python",
   "name": "python3"
  },
  "language_info": {
   "codemirror_mode": {
    "name": "ipython",
    "version": 3
   },
   "file_extension": ".py",
   "mimetype": "text/x-python",
   "name": "python",
   "nbconvert_exporter": "python",
   "pygments_lexer": "ipython3",
   "version": "3.10.9"
  }
 },
 "nbformat": 4,
 "nbformat_minor": 5
}
