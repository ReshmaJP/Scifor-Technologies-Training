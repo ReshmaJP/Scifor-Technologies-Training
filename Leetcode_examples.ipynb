{
 "cells": [
  {
   "cell_type": "markdown",
   "id": "4f834ce3",
   "metadata": {},
   "source": [
    "# Basic Implementation"
   ]
  },
  {
   "cell_type": "markdown",
   "id": "535dcff0",
   "metadata": {},
   "source": [
    "# Merge Strings Alternately"
   ]
  },
  {
   "cell_type": "code",
   "execution_count": 38,
   "id": "bd3946f0",
   "metadata": {},
   "outputs": [
    {
     "name": "stdout",
     "output_type": "stream",
     "text": [
      "Example 1: apbqcr\n",
      "Example 2: apbqrs\n",
      "Example 3: apbqcd\n"
     ]
    }
   ],
   "source": [
    "class Solution:\n",
    "    def mergeAlternately(self, word1, word2):\n",
    "        merged = \"\"\n",
    "        min_length = min(len(word1), len(word2))\n",
    "\n",
    "        for i in range(min_length):\n",
    "            merged += word1[i] + word2[i]\n",
    "\n",
    "        merged += word1[min_length:] + word2[min_length:]\n",
    "\n",
    "        return merged\n",
    "\n",
    "def main():\n",
    "    sol = Solution()\n",
    "\n",
    "    # Example 1\n",
    "    word1_1 = \"abc\"\n",
    "    word2_1 = \"pqr\"\n",
    "    result_1 = sol.mergeAlternately(word1_1, word2_1)\n",
    "    print(\"Example 1:\", result_1)\n",
    "\n",
    "    # Example 2\n",
    "    word1_2 = \"ab\"\n",
    "    word2_2 = \"pqrs\"\n",
    "    result_2 = sol.mergeAlternately(word1_2, word2_2)\n",
    "    print(\"Example 2:\", result_2)\n",
    "\n",
    "    # Example 3\n",
    "    word1_3 = \"abcd\"\n",
    "    word2_3 = \"pq\"\n",
    "    result_3 = sol.mergeAlternately(word1_3, word2_3)\n",
    "    print(\"Example 3:\", result_3)\n",
    "\n",
    "# Call the main function\n",
    "if __name__ == \"__main__\":\n",
    "    main()"
   ]
  },
  {
   "cell_type": "markdown",
   "id": "70d6e961",
   "metadata": {},
   "source": [
    "# Find the Difference"
   ]
  },
  {
   "cell_type": "code",
   "execution_count": 39,
   "id": "584175ad",
   "metadata": {},
   "outputs": [
    {
     "name": "stdout",
     "output_type": "stream",
     "text": [
      "Example 1: e\n",
      "Example 2: y\n"
     ]
    }
   ],
   "source": [
    "class Solution(object):\n",
    "    def findTheDifference(self, s, t):\n",
    "        \"\"\"\n",
    "        :type s: str\n",
    "        :type t: str\n",
    "        :rtype: str\n",
    "        \"\"\"\n",
    "        result = 0\n",
    "        for char in s + t:\n",
    "            result ^= ord(char)\n",
    "        return chr(result)\n",
    "\n",
    "def main():\n",
    "    sol = Solution()\n",
    "\n",
    "    # Example 1\n",
    "    s_1 = \"abcd\"\n",
    "    t_1 = \"abcde\"\n",
    "    result_1 = sol.findTheDifference(s_1, t_1)\n",
    "    print(\"Example 1:\", result_1)\n",
    "\n",
    "    # Example 2\n",
    "    s_2 = \"\"\n",
    "    t_2 = \"y\"\n",
    "    result_2 = sol.findTheDifference(s_2, t_2)\n",
    "    print(\"Example 2:\", result_2)\n",
    "\n",
    "# Call the main function\n",
    "if __name__ == \"__main__\":\n",
    "    main()"
   ]
  },
  {
   "cell_type": "markdown",
   "id": "b0b24eca",
   "metadata": {},
   "source": [
    "# Find the Index of the First Occurrence in a String"
   ]
  },
  {
   "cell_type": "code",
   "execution_count": 40,
   "id": "fa157985",
   "metadata": {},
   "outputs": [
    {
     "name": "stdout",
     "output_type": "stream",
     "text": [
      "Example 1: 0\n",
      "Example 2: -1\n"
     ]
    }
   ],
   "source": [
    "class Solution(object):\n",
    "    def strStr(self, haystack, needle):\n",
    "        \"\"\"\n",
    "        :type haystack: str\n",
    "        :type needle: str\n",
    "        :rtype: int\n",
    "        \"\"\"\n",
    "        return haystack.find(needle)\n",
    "\n",
    "def main():\n",
    "    sol = Solution()\n",
    "\n",
    "    # Example 1\n",
    "    haystack_1 = \"sadbutsad\"\n",
    "    needle_1 = \"sad\"\n",
    "    result_1 = sol.strStr(haystack_1, needle_1)\n",
    "    print(\"Example 1:\", result_1)\n",
    "\n",
    "    # Example 2\n",
    "    haystack_2 = \"leetcode\"\n",
    "    needle_2 = \"leeto\"\n",
    "    result_2 = sol.strStr(haystack_2, needle_2)\n",
    "    print(\"Example 2:\", result_2)\n",
    "\n",
    "# Call the main function\n",
    "if __name__ == \"__main__\":\n",
    "    main()"
   ]
  },
  {
   "cell_type": "markdown",
   "id": "bbca7ba1",
   "metadata": {},
   "source": [
    "# Valid Anagram"
   ]
  },
  {
   "cell_type": "code",
   "execution_count": 41,
   "id": "9935f1a0",
   "metadata": {},
   "outputs": [
    {
     "name": "stdout",
     "output_type": "stream",
     "text": [
      "Example 1: True\n",
      "Example 2: False\n"
     ]
    }
   ],
   "source": [
    "class Solution(object):\n",
    "    def isAnagram(self, s, t):\n",
    "        \"\"\"\n",
    "        :type s: str\n",
    "        :type t: str\n",
    "        :rtype: bool\n",
    "        \"\"\"\n",
    "        if len(s) != len(t):\n",
    "            return False\n",
    "\n",
    "        char_count_s = {}\n",
    "        char_count_t = {}\n",
    "\n",
    "        # Count occurrences in string s\n",
    "        for char in s:\n",
    "            char_count_s[char] = char_count_s.get(char, 0) + 1\n",
    "\n",
    "        # Count occurrences in string t\n",
    "        for char in t:\n",
    "            char_count_t[char] = char_count_t.get(char, 0) + 1\n",
    "\n",
    "        # Check if the dictionaries are equal\n",
    "        return char_count_s == char_count_t\n",
    "\n",
    "def main():\n",
    "    sol = Solution()\n",
    "\n",
    "    # Example 1\n",
    "    s_1 = \"anagram\"\n",
    "    t_1 = \"nagaram\"\n",
    "    result_1 = sol.isAnagram(s_1, t_1)\n",
    "    print(\"Example 1:\", result_1)\n",
    "\n",
    "    # Example 2\n",
    "    s_2 = \"rat\"\n",
    "    t_2 = \"car\"\n",
    "    result_2 = sol.isAnagram(s_2, t_2)\n",
    "    print(\"Example 2:\", result_2)\n",
    "\n",
    "# Call the main function\n",
    "if __name__ == \"__main__\":\n",
    "    main()"
   ]
  },
  {
   "cell_type": "markdown",
   "id": "e8b120b9",
   "metadata": {},
   "source": [
    "# Repeated Substring Pattern"
   ]
  },
  {
   "cell_type": "code",
   "execution_count": 42,
   "id": "62217faa",
   "metadata": {},
   "outputs": [
    {
     "name": "stdout",
     "output_type": "stream",
     "text": [
      "Example 1: True\n",
      "Example 2: False\n",
      "Example 3: True\n"
     ]
    }
   ],
   "source": [
    "class Solution(object):\n",
    "    def repeatedSubstringPattern(self, s):\n",
    "        \"\"\"\n",
    "        :type s: str\n",
    "        :rtype: bool\n",
    "        \"\"\"\n",
    "        length = len(s)\n",
    "\n",
    "        # Check substrings of lengths from 1 to half of the original length\n",
    "        for i in range(1, length // 2 + 1):\n",
    "            # If the current substring divides evenly into the original string\n",
    "            if length % i == 0:\n",
    "                substring = s[:i]\n",
    "                repeats = length // i\n",
    "                reconstructed_string = substring * repeats\n",
    "\n",
    "                # If the reconstructed string matches the original string\n",
    "                if reconstructed_string == s:\n",
    "                    return True\n",
    "\n",
    "        return False\n",
    "\n",
    "def main():\n",
    "    sol = Solution()\n",
    "\n",
    "    # Example 1\n",
    "    s_1 = \"abab\"\n",
    "    result_1 = sol.repeatedSubstringPattern(s_1)\n",
    "    print(\"Example 1:\", result_1)\n",
    "\n",
    "    # Example 2\n",
    "    s_2 = \"aba\"\n",
    "    result_2 = sol.repeatedSubstringPattern(s_2)\n",
    "    print(\"Example 2:\", result_2)\n",
    "\n",
    "    # Example 3\n",
    "    s_3 = \"abcabcabcabc\"\n",
    "    result_3 = sol.repeatedSubstringPattern(s_3)\n",
    "    print(\"Example 3:\", result_3)\n",
    "\n",
    "# Call the main function\n",
    "if __name__ == \"__main__\":\n",
    "    main()"
   ]
  },
  {
   "cell_type": "markdown",
   "id": "05e708e6",
   "metadata": {},
   "source": [
    "# Move Zeroes"
   ]
  },
  {
   "cell_type": "code",
   "execution_count": 43,
   "id": "bebd094c",
   "metadata": {},
   "outputs": [
    {
     "name": "stdout",
     "output_type": "stream",
     "text": [
      "Example 1: [1, 3, 12, 0, 0]\n",
      "Example 2: [0]\n"
     ]
    }
   ],
   "source": [
    "class Solution(object):\n",
    "    def moveZeroes(self, nums):\n",
    "        \"\"\"\n",
    "        :type nums: List[int]\n",
    "        :rtype: None Do not return anything, modify nums in-place instead.\n",
    "        \"\"\"\n",
    "        non_zero_index = 0\n",
    "\n",
    "        # Iterate through the array\n",
    "        for i in range(len(nums)):\n",
    "            # If the current element is non-zero\n",
    "            if nums[i] != 0:\n",
    "                # Swap the current element with the next non-zero position\n",
    "                nums[i], nums[non_zero_index] = nums[non_zero_index], nums[i]\n",
    "                non_zero_index += 1\n",
    "\n",
    "def main():\n",
    "    sol = Solution()\n",
    "\n",
    "    # Example 1\n",
    "    nums_1 = [0, 1, 0, 3, 12]\n",
    "    sol.moveZeroes(nums_1)\n",
    "    print(\"Example 1:\", nums_1)\n",
    "\n",
    "    # Example 2\n",
    "    nums_2 = [0]\n",
    "    sol.moveZeroes(nums_2)\n",
    "    print(\"Example 2:\", nums_2)\n",
    "\n",
    "# Call the main function\n",
    "if __name__ == \"__main__\":\n",
    "    main()"
   ]
  },
  {
   "cell_type": "markdown",
   "id": "c73e65ac",
   "metadata": {},
   "source": [
    "# Plus One"
   ]
  },
  {
   "cell_type": "code",
   "execution_count": 44,
   "id": "16839de4",
   "metadata": {},
   "outputs": [
    {
     "name": "stdout",
     "output_type": "stream",
     "text": [
      "Example 1: [1, 2, 4]\n",
      "Example 2: [4, 3, 2, 2]\n",
      "Example 3: [1, 0]\n"
     ]
    }
   ],
   "source": [
    "class Solution(object):\n",
    "    def plusOne(self, digits):\n",
    "        \"\"\"\n",
    "        :type digits: List[int]\n",
    "        :rtype: List[int]\n",
    "        \"\"\"\n",
    "        # Start from the least significant digit\n",
    "        for i in range(len(digits) - 1, -1, -1):\n",
    "            # Increment the current digit\n",
    "            digits[i] += 1\n",
    "\n",
    "            # If there is no carry, return the updated array\n",
    "            if digits[i] < 10:\n",
    "                return digits\n",
    "\n",
    "            # If there is a carry, set the current digit to 0\n",
    "            digits[i] = 0\n",
    "\n",
    "        # If there is still a carry after iterating through all digits\n",
    "        # Add a new digit at the beginning of the array\n",
    "        return [1] + digits\n",
    "\n",
    "def main():\n",
    "    sol = Solution()\n",
    "\n",
    "    # Example 1\n",
    "    digits_1 = [1, 2, 3]\n",
    "    result_1 = sol.plusOne(digits_1)\n",
    "    print(\"Example 1:\", result_1)\n",
    "\n",
    "    # Example 2\n",
    "    digits_2 = [4, 3, 2, 1]\n",
    "    result_2 = sol.plusOne(digits_2)\n",
    "    print(\"Example 2:\", result_2)\n",
    "\n",
    "    # Example 3\n",
    "    digits_3 = [9]\n",
    "    result_3 = sol.plusOne(digits_3)\n",
    "    print(\"Example 3:\", result_3)\n",
    "\n",
    "# Call the main function\n",
    "if __name__ == \"__main__\":\n",
    "    main()"
   ]
  },
  {
   "cell_type": "markdown",
   "id": "3e70ca6b",
   "metadata": {},
   "source": [
    "# Sign of the Product of an Array"
   ]
  },
  {
   "cell_type": "code",
   "execution_count": 45,
   "id": "26a2f0dd",
   "metadata": {},
   "outputs": [
    {
     "name": "stdout",
     "output_type": "stream",
     "text": [
      "Example 1: 1\n",
      "Example 2: 0\n",
      "Example 3: -1\n"
     ]
    }
   ],
   "source": [
    "class Solution(object):\n",
    "    def arraySign(self, nums):\n",
    "        \"\"\"\n",
    "        :type nums: List[int]\n",
    "        :rtype: int\n",
    "        \"\"\"\n",
    "        count_negatives = 0\n",
    "\n",
    "        for num in nums:\n",
    "            if num == 0:\n",
    "                return 0\n",
    "            elif num < 0:\n",
    "                count_negatives += 1\n",
    "\n",
    "        # If count of negative numbers is even, the product is positive\n",
    "        if count_negatives % 2 == 0:\n",
    "            return 1\n",
    "        # If count of negative numbers is odd, the product is negative\n",
    "        else:\n",
    "            return -1\n",
    "\n",
    "def main():\n",
    "    sol = Solution()\n",
    "\n",
    "    # Example 1\n",
    "    nums_1 = [-1, -2, -3, -4, 3, 2, 1]\n",
    "    result_1 = sol.arraySign(nums_1)\n",
    "    print(\"Example 1:\", result_1)\n",
    "\n",
    "    # Example 2\n",
    "    nums_2 = [1, 5, 0, 2, -3]\n",
    "    result_2 = sol.arraySign(nums_2)\n",
    "    print(\"Example 2:\", result_2)\n",
    "\n",
    "    # Example 3\n",
    "    nums_3 = [-1, 1, -1, 1, -1]\n",
    "    result_3 = sol.arraySign(nums_3)\n",
    "    print(\"Example 3:\", result_3)\n",
    "\n",
    "# Call the main function\n",
    "if __name__ == \"__main__\":\n",
    "    main()"
   ]
  },
  {
   "cell_type": "markdown",
   "id": "2da7b033",
   "metadata": {},
   "source": [
    "# Can Make Arithmetic Progression From Sequence"
   ]
  },
  {
   "cell_type": "code",
   "execution_count": 46,
   "id": "abc2314d",
   "metadata": {},
   "outputs": [
    {
     "name": "stdout",
     "output_type": "stream",
     "text": [
      "Example 1: True\n",
      "Example 2: False\n"
     ]
    }
   ],
   "source": [
    "class Solution(object):\n",
    "    def canMakeArithmeticProgression(self, arr):\n",
    "        \"\"\"\n",
    "        :type arr: List[int]\n",
    "        :rtype: bool\n",
    "        \"\"\"\n",
    "        # Sort the array\n",
    "        arr.sort()\n",
    "\n",
    "        # Calculate the common difference\n",
    "        common_diff = arr[1] - arr[0]\n",
    "\n",
    "        # Check if the difference between any two consecutive elements is the same\n",
    "        for i in range(2, len(arr)):\n",
    "            if arr[i] - arr[i - 1] != common_diff:\n",
    "                return False\n",
    "\n",
    "        return True\n",
    "\n",
    "def main():\n",
    "    sol = Solution()\n",
    "\n",
    "    # Example 1\n",
    "    arr_1 = [3, 5, 1]\n",
    "    result_1 = sol.canMakeArithmeticProgression(arr_1)\n",
    "    print(\"Example 1:\", result_1)\n",
    "\n",
    "    # Example 2\n",
    "    arr_2 = [1, 2, 4]\n",
    "    result_2 = sol.canMakeArithmeticProgression(arr_2)\n",
    "    print(\"Example 2:\", result_2)\n",
    "\n",
    "# Call the main function\n",
    "if __name__ == \"__main__\":\n",
    "    main()"
   ]
  },
  {
   "cell_type": "markdown",
   "id": "1919bb4b",
   "metadata": {},
   "source": [
    "# Monotonic Array"
   ]
  },
  {
   "cell_type": "code",
   "execution_count": 47,
   "id": "c4527dab",
   "metadata": {},
   "outputs": [
    {
     "name": "stdout",
     "output_type": "stream",
     "text": [
      "Example 1: True\n",
      "Example 2: True\n",
      "Example 3: False\n"
     ]
    }
   ],
   "source": [
    "class Solution(object):\n",
    "    def isMonotonic(self, nums):\n",
    "        \"\"\"\n",
    "        :type nums: List[int]\n",
    "        :rtype: bool\n",
    "        \"\"\"\n",
    "        # Check if the array is monotone increasing\n",
    "        increasing = all(nums[i] <= nums[i + 1] for i in range(len(nums) - 1))\n",
    "        \n",
    "        # Check if the array is monotone decreasing\n",
    "        decreasing = all(nums[i] >= nums[i + 1] for i in range(len(nums) - 1))\n",
    "\n",
    "        # Return True if either increasing or decreasing is True\n",
    "        return increasing or decreasing\n",
    "\n",
    "def main():\n",
    "    sol = Solution()\n",
    "\n",
    "    # Example 1\n",
    "    nums_1 = [1, 2, 2, 3]\n",
    "    result_1 = sol.isMonotonic(nums_1)\n",
    "    print(\"Example 1:\", result_1)\n",
    "\n",
    "    # Example 2\n",
    "    nums_2 = [6, 5, 4, 4]\n",
    "    result_2 = sol.isMonotonic(nums_2)\n",
    "    print(\"Example 2:\", result_2)\n",
    "\n",
    "    # Example 3\n",
    "    nums_3 = [1, 3, 2]\n",
    "    result_3 = sol.isMonotonic(nums_3)\n",
    "    print(\"Example 3:\", result_3)\n",
    "\n",
    "# Call the main function\n",
    "if __name__ == \"__main__\":\n",
    "    main()"
   ]
  },
  {
   "cell_type": "markdown",
   "id": "53b9f6b4",
   "metadata": {},
   "source": [
    "# Roman to Integer"
   ]
  },
  {
   "cell_type": "code",
   "execution_count": 48,
   "id": "038c06f2",
   "metadata": {},
   "outputs": [
    {
     "name": "stdout",
     "output_type": "stream",
     "text": [
      "Example 1: 3\n",
      "Example 2: 58\n",
      "Example 3: 1994\n"
     ]
    }
   ],
   "source": [
    "class Solution(object):\n",
    "    def romanToInt(self, s):\n",
    "        \"\"\"\n",
    "        :type s: str\n",
    "        :rtype: int\n",
    "        \"\"\"\n",
    "        # Dictionary to store the values of Roman numerals\n",
    "        roman_values = {'I': 1, 'V': 5, 'X': 10, 'L': 50, 'C': 100, 'D': 500, 'M': 1000}\n",
    "\n",
    "        result = 0\n",
    "        prev_value = 0\n",
    "\n",
    "        # Iterate through the string in reverse order\n",
    "        for char in reversed(s):\n",
    "            value = roman_values[char]\n",
    "\n",
    "            # If the current value is less than the previous value, subtract it\n",
    "            if value < prev_value:\n",
    "                result -= value\n",
    "            # Otherwise, add it to the result\n",
    "            else:\n",
    "                result += value\n",
    "\n",
    "            # Update the previous value for the next iteration\n",
    "            prev_value = value\n",
    "\n",
    "        return result\n",
    "\n",
    "def main():\n",
    "    sol = Solution()\n",
    "\n",
    "    # Example 1\n",
    "    s_1 = \"III\"\n",
    "    result_1 = sol.romanToInt(s_1)\n",
    "    print(\"Example 1:\", result_1)\n",
    "\n",
    "    # Example 2\n",
    "    s_2 = \"LVIII\"\n",
    "    result_2 = sol.romanToInt(s_2)\n",
    "    print(\"Example 2:\", result_2)\n",
    "\n",
    "    # Example 3\n",
    "    s_3 = \"MCMXCIV\"\n",
    "    result_3 = sol.romanToInt(s_3)\n",
    "    print(\"Example 3:\", result_3)\n",
    "\n",
    "# Call the main function\n",
    "if __name__ == \"__main__\":\n",
    "    main()"
   ]
  },
  {
   "cell_type": "markdown",
   "id": "b4775489",
   "metadata": {},
   "source": [
    "# Built-In Functions"
   ]
  },
  {
   "cell_type": "markdown",
   "id": "35700f3f",
   "metadata": {},
   "source": [
    "Length of Last Word"
   ]
  },
  {
   "cell_type": "code",
   "execution_count": 49,
   "id": "df32d222",
   "metadata": {},
   "outputs": [
    {
     "name": "stdout",
     "output_type": "stream",
     "text": [
      "Example 1: 5\n",
      "Example 2: 4\n",
      "Example 3: 6\n"
     ]
    }
   ],
   "source": [
    "class Solution(object):\n",
    "    def lengthOfLastWord(self, s):\n",
    "        \"\"\"\n",
    "        :type s: str\n",
    "        :rtype: int\n",
    "        \"\"\"\n",
    "        # Split the string into words\n",
    "        words = s.split()\n",
    "\n",
    "        # Check if there are any words in the string\n",
    "        if not words:\n",
    "            return 0\n",
    "\n",
    "        # Return the length of the last word\n",
    "        return len(words[-1])\n",
    "\n",
    "def main():\n",
    "    sol = Solution()\n",
    "\n",
    "    # Example 1\n",
    "    s_1 = \"Hello World\"\n",
    "    result_1 = sol.lengthOfLastWord(s_1)\n",
    "    print(\"Example 1:\", result_1)\n",
    "\n",
    "    # Example 2\n",
    "    s_2 = \"   fly me   to   the moon  \"\n",
    "    result_2 = sol.lengthOfLastWord(s_2)\n",
    "    print(\"Example 2:\", result_2)\n",
    "\n",
    "    # Example 3\n",
    "    s_3 = \"luffy is still joyboy\"\n",
    "    result_3 = sol.lengthOfLastWord(s_3)\n",
    "    print(\"Example 3:\", result_3)\n",
    "\n",
    "# Call the main function\n",
    "if __name__ == \"__main__\":\n",
    "    main()"
   ]
  },
  {
   "cell_type": "markdown",
   "id": "5a48a2a1",
   "metadata": {},
   "source": [
    "# To Lower Case"
   ]
  },
  {
   "cell_type": "code",
   "execution_count": 50,
   "id": "3842893d",
   "metadata": {},
   "outputs": [
    {
     "name": "stdout",
     "output_type": "stream",
     "text": [
      "Example 1: hello\n",
      "Example 2: here\n",
      "Example 3: lovely\n"
     ]
    }
   ],
   "source": [
    "class Solution(object):\n",
    "    def toLowerCase(self, s):\n",
    "        \"\"\"\n",
    "        :type s: str\n",
    "        :rtype: str\n",
    "        \"\"\"\n",
    "        # Use the lower() method to convert the string to lowercase\n",
    "        return s.lower()\n",
    "\n",
    "def main():\n",
    "    sol = Solution()\n",
    "\n",
    "    # Example 1\n",
    "    s_1 = \"Hello\"\n",
    "    result_1 = sol.toLowerCase(s_1)\n",
    "    print(\"Example 1:\", result_1)\n",
    "\n",
    "    # Example 2\n",
    "    s_2 = \"here\"\n",
    "    result_2 = sol.toLowerCase(s_2)\n",
    "    print(\"Example 2:\", result_2)\n",
    "\n",
    "    # Example 3\n",
    "    s_3 = \"LOVELY\"\n",
    "    result_3 = sol.toLowerCase(s_3)\n",
    "    print(\"Example 3:\", result_3)\n",
    "\n",
    "# Call the main function\n",
    "if __name__ == \"__main__\":\n",
    "    main()"
   ]
  },
  {
   "cell_type": "markdown",
   "id": "663c7b7c",
   "metadata": {},
   "source": [
    "# Simulation"
   ]
  },
  {
   "cell_type": "markdown",
   "id": "3e997383",
   "metadata": {},
   "source": [
    "# Baseball Game"
   ]
  },
  {
   "cell_type": "code",
   "execution_count": 51,
   "id": "d2f88128",
   "metadata": {},
   "outputs": [
    {
     "name": "stdout",
     "output_type": "stream",
     "text": [
      "Example 1: 30\n",
      "Example 2: 27\n",
      "Example 3: 0\n"
     ]
    }
   ],
   "source": [
    "class Solution(object):\n",
    "    def calPoints(self, operations):\n",
    "        \"\"\"\n",
    "        :type operations: List[str]\n",
    "        :rtype: int\n",
    "        \"\"\"\n",
    "        stack = []\n",
    "\n",
    "        for op in operations:\n",
    "            if op == \"+\":\n",
    "                # Add the sum of the last two scores to the stack\n",
    "                stack.append(stack[-1] + stack[-2])\n",
    "            elif op == \"D\":\n",
    "                # Double the last score and add it to the stack\n",
    "                stack.append(2 * stack[-1])\n",
    "            elif op == \"C\":\n",
    "                # Remove the last score from the stack\n",
    "                stack.pop()\n",
    "            else:\n",
    "                # Convert the string to an integer and add it to the stack\n",
    "                stack.append(int(op))\n",
    "\n",
    "        # Return the sum of all scores on the stack\n",
    "        return sum(stack)\n",
    "\n",
    "def main():\n",
    "    sol = Solution()\n",
    "\n",
    "    # Example 1\n",
    "    ops_1 = [\"5\", \"2\", \"C\", \"D\", \"+\"]\n",
    "    result_1 = sol.calPoints(ops_1)\n",
    "    print(\"Example 1:\", result_1)\n",
    "\n",
    "    # Example 2\n",
    "    ops_2 = [\"5\", \"-2\", \"4\", \"C\", \"D\", \"9\", \"+\", \"+\"]\n",
    "    result_2 = sol.calPoints(ops_2)\n",
    "    print(\"Example 2:\", result_2)\n",
    "\n",
    "    # Example 3\n",
    "    ops_3 = [\"1\", \"C\"]\n",
    "    result_3 = sol.calPoints(ops_3)\n",
    "    print(\"Example 3:\", result_3)\n",
    "\n",
    "# Call the main function\n",
    "if __name__ == \"__main__\":\n",
    "    main()"
   ]
  },
  {
   "cell_type": "markdown",
   "id": "e3fb189e",
   "metadata": {},
   "source": [
    "# Robot Return to Origin"
   ]
  },
  {
   "cell_type": "code",
   "execution_count": 52,
   "id": "babb87ba",
   "metadata": {},
   "outputs": [
    {
     "name": "stdout",
     "output_type": "stream",
     "text": [
      "Example 1: True\n",
      "Example 2: False\n"
     ]
    }
   ],
   "source": [
    "class Solution(object):\n",
    "    def judgeCircle(self, moves):\n",
    "        \"\"\"\n",
    "        :type moves: str\n",
    "        :rtype: bool\n",
    "        \"\"\"\n",
    "        x, y = 0, 0\n",
    "\n",
    "        for move in moves:\n",
    "            if move == \"U\":\n",
    "                y += 1\n",
    "            elif move == \"D\":\n",
    "                y -= 1\n",
    "            elif move == \"L\":\n",
    "                x -= 1\n",
    "            elif move == \"R\":\n",
    "                x += 1\n",
    "\n",
    "        # Check if the robot is back at the origin\n",
    "        return x == 0 and y == 0\n",
    "\n",
    "def main():\n",
    "    sol = Solution()\n",
    "\n",
    "    # Example 1\n",
    "    moves_1 = \"UD\"\n",
    "    result_1 = sol.judgeCircle(moves_1)\n",
    "    print(\"Example 1:\", result_1)\n",
    "\n",
    "    # Example 2\n",
    "    moves_2 = \"LL\"\n",
    "    result_2 = sol.judgeCircle(moves_2)\n",
    "    print(\"Example 2:\", result_2)\n",
    "\n",
    "# Call the main function\n",
    "if __name__ == \"__main__\":\n",
    "    main()\n"
   ]
  },
  {
   "cell_type": "markdown",
   "id": "05f96b44",
   "metadata": {},
   "source": [
    "# Find Winner on a Tic Tac Toe Game"
   ]
  },
  {
   "cell_type": "code",
   "execution_count": 53,
   "id": "1be2244f",
   "metadata": {},
   "outputs": [
    {
     "name": "stdout",
     "output_type": "stream",
     "text": [
      "Example 1: A\n",
      "Example 2: B\n",
      "Example 3: Draw\n"
     ]
    }
   ],
   "source": [
    "class Solution(object):\n",
    "    def tictactoe(self, moves):\n",
    "        \"\"\"\n",
    "        :type moves: List[List[int]]\n",
    "        :rtype: str\n",
    "        \"\"\"\n",
    "        # Initialize a 3x3 grid with empty spaces\n",
    "        grid = [[' ']*3 for _ in range(3)]\n",
    "\n",
    "        def check_winner(player):\n",
    "            # Check rows and columns\n",
    "            for i in range(3):\n",
    "                if all(grid[i][j] == player for j in range(3)) or all(grid[j][i] == player for j in range(3)):\n",
    "                    return True\n",
    "\n",
    "            # Check diagonals\n",
    "            if all(grid[i][i] == player for i in range(3)) or all(grid[i][2 - i] == player for i in range(3)):\n",
    "                return True\n",
    "\n",
    "            return False\n",
    "\n",
    "        # Simulate moves and check for a winner or draw\n",
    "        for i, (row, col) in enumerate(moves):\n",
    "            player = 'X' if i % 2 == 0 else 'O'\n",
    "            grid[row][col] = player\n",
    "\n",
    "            if check_winner(player):\n",
    "                return \"A\" if player == 'X' else \"B\"\n",
    "\n",
    "        # Check for a draw or pending game\n",
    "        return \"Draw\" if len(moves) == 9 else \"Pending\"\n",
    "\n",
    "def main():\n",
    "    sol = Solution()\n",
    "\n",
    "    # Example 1\n",
    "    moves_1 = [[0, 0], [2, 0], [1, 1], [2, 1], [2, 2]]\n",
    "    result_1 = sol.tictactoe(moves_1)\n",
    "    print(\"Example 1:\", result_1)\n",
    "\n",
    "    # Example 2\n",
    "    moves_2 = [[0, 0], [1, 1], [0, 1], [0, 2], [1, 0], [2, 0]]\n",
    "    result_2 = sol.tictactoe(moves_2)\n",
    "    print(\"Example 2:\", result_2)\n",
    "\n",
    "    # Example 3\n",
    "    moves_3 = [[0, 0], [1, 1], [2, 0], [1, 0], [1, 2], [2, 1], [0, 1], [0, 2], [2, 2]]\n",
    "    result_3 = sol.tictactoe(moves_3)\n",
    "    print(\"Example 3:\", result_3)\n",
    "\n",
    "# Call the main function\n",
    "if __name__ == \"__main__\":\n",
    "    main()"
   ]
  },
  {
   "cell_type": "markdown",
   "id": "809552fc",
   "metadata": {},
   "source": [
    "# Robot Bounded In Circle"
   ]
  },
  {
   "cell_type": "code",
   "execution_count": 54,
   "id": "353dfc8c",
   "metadata": {},
   "outputs": [
    {
     "name": "stdout",
     "output_type": "stream",
     "text": [
      "Example 1: True\n",
      "Example 2: False\n",
      "Example 3: True\n"
     ]
    }
   ],
   "source": [
    "class Solution(object):\n",
    "    def isRobotBounded(self, instructions):\n",
    "        \"\"\"\n",
    "        :type instructions: str\n",
    "        :rtype: bool\n",
    "        \"\"\"\n",
    "        # Define directions: north, east, south, west\n",
    "        directions = [(0, 1), (1, 0), (0, -1), (-1, 0)]\n",
    "        \n",
    "        # Initial position and direction\n",
    "        x, y, direction_index = 0, 0, 0\n",
    "        \n",
    "        # Simulate the robot's movement\n",
    "        for instruction in instructions:\n",
    "            if instruction == 'G':\n",
    "                x += directions[direction_index][0]\n",
    "                y += directions[direction_index][1]\n",
    "            elif instruction == 'L':\n",
    "                direction_index = (direction_index - 1) % 4\n",
    "            elif instruction == 'R':\n",
    "                direction_index = (direction_index + 1) % 4\n",
    "        \n",
    "        # Check if the robot returns to the initial position or faces a direction other than north\n",
    "        return (x, y) == (0, 0) or direction_index != 0\n",
    "\n",
    "# Test cases\n",
    "def test():\n",
    "    sol = Solution()\n",
    "\n",
    "    # Example 1\n",
    "    instructions_1 = \"GGLLGG\"\n",
    "    result_1 = sol.isRobotBounded(instructions_1)\n",
    "    print(\"Example 1:\", result_1)  # Expected output: True\n",
    "\n",
    "    # Example 2\n",
    "    instructions_2 = \"GG\"\n",
    "    result_2 = sol.isRobotBounded(instructions_2)\n",
    "    print(\"Example 2:\", result_2)  # Expected output: False\n",
    "\n",
    "    # Example 3\n",
    "    instructions_3 = \"GL\"\n",
    "    result_3 = sol.isRobotBounded(instructions_3)\n",
    "    print(\"Example 3:\", result_3)  # Expected output: True\n",
    "\n",
    "# Run the test cases\n",
    "if __name__ == \"__main__\":\n",
    "    test()"
   ]
  },
  {
   "cell_type": "markdown",
   "id": "1b919e87",
   "metadata": {},
   "source": [
    "# Matrix"
   ]
  },
  {
   "cell_type": "markdown",
   "id": "8b0a329a",
   "metadata": {},
   "source": [
    "# Richest Customer Wealth"
   ]
  },
  {
   "cell_type": "code",
   "execution_count": 55,
   "id": "b4b630c9",
   "metadata": {},
   "outputs": [
    {
     "name": "stdout",
     "output_type": "stream",
     "text": [
      "Example 1: 6\n",
      "Example 2: 10\n",
      "Example 3: 17\n"
     ]
    }
   ],
   "source": [
    "class Solution(object):\n",
    "    def maximumWealth(self, accounts):\n",
    "        \"\"\"\n",
    "        :type accounts: List[List[int]]\n",
    "        :rtype: int\n",
    "        \"\"\"\n",
    "        max_wealth = 0\n",
    "        \n",
    "        for customer in accounts:\n",
    "            wealth = sum(customer)\n",
    "            max_wealth = max(max_wealth, wealth)\n",
    "        \n",
    "        return max_wealth\n",
    "\n",
    "# Test case\n",
    "def test():\n",
    "    sol = Solution()\n",
    "\n",
    "    # Example 1\n",
    "    accounts_1 = [[1,2,3],[3,2,1]]\n",
    "    result_1 = sol.maximumWealth(accounts_1)\n",
    "    print(\"Example 1:\", result_1)  # Expected output: 6\n",
    "\n",
    "    # Example 2\n",
    "    accounts_2 = [[1,5],[7,3],[3,5]]\n",
    "    result_2 = sol.maximumWealth(accounts_2)\n",
    "    print(\"Example 2:\", result_2)  # Expected output: 10\n",
    "\n",
    "    # Example 3\n",
    "    accounts_3 = [[2,8,7],[7,1,3],[1,9,5]]\n",
    "    result_3 = sol.maximumWealth(accounts_3)\n",
    "    print(\"Example 3:\", result_3)  # Expected output: 17\n",
    "\n",
    "# Run the test case\n",
    "if __name__ == \"__main__\":\n",
    "    test()"
   ]
  },
  {
   "cell_type": "markdown",
   "id": "8a9e6056",
   "metadata": {},
   "source": [
    "# Matrix Diagonal Sum"
   ]
  },
  {
   "cell_type": "code",
   "execution_count": 56,
   "id": "38f53e70",
   "metadata": {},
   "outputs": [
    {
     "name": "stdout",
     "output_type": "stream",
     "text": [
      "Example 1: 25\n",
      "Example 2: 8\n",
      "Example 3: 5\n"
     ]
    }
   ],
   "source": [
    "class Solution(object):\n",
    "    def diagonalSum(self, mat):\n",
    "        \"\"\"\n",
    "        :type mat: List[List[int]]\n",
    "        :rtype: int\n",
    "        \"\"\"\n",
    "        n = len(mat)\n",
    "        diagonal_sum = 0\n",
    "\n",
    "        for i in range(n):\n",
    "            diagonal_sum += mat[i][i]  # Add elements on the primary diagonal\n",
    "            diagonal_sum += mat[i][n - 1 - i]  # Add elements on the secondary diagonal\n",
    "\n",
    "        # If the matrix has an odd size, subtract the double-counted center element\n",
    "        if n % 2 == 1:\n",
    "            diagonal_sum -= mat[n // 2][n // 2]\n",
    "\n",
    "        return diagonal_sum\n",
    "\n",
    "# Test case\n",
    "def test():\n",
    "    sol = Solution()\n",
    "\n",
    "    # Example 1\n",
    "    mat_1 = [[1,2,3],\n",
    "             [4,5,6],\n",
    "             [7,8,9]]\n",
    "    result_1 = sol.diagonalSum(mat_1)\n",
    "    print(\"Example 1:\", result_1)  # Expected output: 25\n",
    "\n",
    "    # Example 2\n",
    "    mat_2 = [[1,1,1,1],\n",
    "             [1,1,1,1],\n",
    "             [1,1,1,1],\n",
    "             [1,1,1,1]]\n",
    "    result_2 = sol.diagonalSum(mat_2)\n",
    "    print(\"Example 2:\", result_2)  # Expected output: 8\n",
    "\n",
    "    # Example 3\n",
    "    mat_3 = [[5]]\n",
    "    result_3 = sol.diagonalSum(mat_3)\n",
    "    print(\"Example 3:\", result_3)  # Expected output: 5\n",
    "\n",
    "# Run the test case\n",
    "if __name__ == \"__main__\":\n",
    "    test()"
   ]
  },
  {
   "cell_type": "markdown",
   "id": "8d080702",
   "metadata": {},
   "source": [
    "# Spiral Matrix"
   ]
  },
  {
   "cell_type": "code",
   "execution_count": 57,
   "id": "4d61f928",
   "metadata": {},
   "outputs": [
    {
     "name": "stdout",
     "output_type": "stream",
     "text": [
      "Example 1: [1, 2, 3, 6, 9, 8, 7, 4, 5]\n",
      "Example 2: [1, 2, 3, 4, 8, 12, 11, 10, 9, 5, 6, 7]\n"
     ]
    }
   ],
   "source": [
    "class Solution(object):\n",
    "    def spiralOrder(self, matrix):\n",
    "        \"\"\"\n",
    "        :type matrix: List[List[int]]\n",
    "        :rtype: List[int]\n",
    "        \"\"\"\n",
    "        result = []\n",
    "\n",
    "        while matrix:\n",
    "            # Move right\n",
    "            result += matrix.pop(0)\n",
    "\n",
    "            # Move down\n",
    "            if matrix and matrix[0]:\n",
    "                for row in matrix:\n",
    "                    result.append(row.pop())\n",
    "\n",
    "            # Move left\n",
    "            if matrix:\n",
    "                result += matrix.pop()[::-1]\n",
    "\n",
    "            # Move up\n",
    "            if matrix and matrix[0]:\n",
    "                for row in matrix[::-1]:\n",
    "                    result.append(row.pop(0))\n",
    "\n",
    "        return result\n",
    "\n",
    "# Test case\n",
    "def test():\n",
    "    sol = Solution()\n",
    "\n",
    "    # Example 1\n",
    "    matrix_1 = [[1, 2, 3], [4, 5, 6], [7, 8, 9]]\n",
    "    result_1 = sol.spiralOrder(matrix_1)\n",
    "    print(\"Example 1:\", result_1)  # Expected output: [1, 2, 3, 6, 9, 8, 7, 4, 5]\n",
    "\n",
    "    # Example 2\n",
    "    matrix_2 = [[1, 2, 3, 4], [5, 6, 7, 8], [9, 10, 11, 12]]\n",
    "    result_2 = sol.spiralOrder(matrix_2)\n",
    "    print(\"Example 2:\", result_2)  # Expected output: [1, 2, 3, 4, 8, 12, 11, 10, 9, 5, 6, 7]\n",
    "\n",
    "# Run the test case\n",
    "if __name__ == \"__main__\":\n",
    "    test()"
   ]
  },
  {
   "cell_type": "markdown",
   "id": "44c446ce",
   "metadata": {},
   "source": [
    "# Set Matrix Zeroes"
   ]
  },
  {
   "cell_type": "code",
   "execution_count": 58,
   "id": "d6e59a5d",
   "metadata": {},
   "outputs": [
    {
     "name": "stdout",
     "output_type": "stream",
     "text": [
      "Example 1: [[1, 0, 1], [0, 0, 0], [1, 0, 1]]\n",
      "Example 2: [[0, 0, 0, 0], [0, 4, 5, 0], [0, 3, 1, 0]]\n"
     ]
    }
   ],
   "source": [
    "class Solution(object):\n",
    "    def setZeroes(self, matrix):\n",
    "        \"\"\"\n",
    "        :type matrix: List[List[int]]\n",
    "        :rtype: None Do not return anything, modify matrix in-place instead.\n",
    "        \"\"\"\n",
    "        if not matrix or not matrix[0]:\n",
    "            return\n",
    "\n",
    "        rows, cols = len(matrix), len(matrix[0])\n",
    "        first_row_zero, first_col_zero = False, False\n",
    "\n",
    "        # Check if the first row contains zero\n",
    "        for j in range(cols):\n",
    "            if matrix[0][j] == 0:\n",
    "                first_row_zero = True\n",
    "                break\n",
    "\n",
    "        # Check if the first column contains zero\n",
    "        for i in range(rows):\n",
    "            if matrix[i][0] == 0:\n",
    "                first_col_zero = True\n",
    "                break\n",
    "\n",
    "        # Use the first row and first column to mark rows and columns to be zeroed\n",
    "        for i in range(1, rows):\n",
    "            for j in range(1, cols):\n",
    "                if matrix[i][j] == 0:\n",
    "                    matrix[i][0] = 0\n",
    "                    matrix[0][j] = 0\n",
    "\n",
    "        # Set zeros based on the marks in the first row and first column\n",
    "        for i in range(1, rows):\n",
    "            for j in range(1, cols):\n",
    "                if matrix[i][0] == 0 or matrix[0][j] == 0:\n",
    "                    matrix[i][j] = 0\n",
    "\n",
    "        # Set zeros in the first row and first column if needed\n",
    "        if first_row_zero:\n",
    "            for j in range(cols):\n",
    "                matrix[0][j] = 0\n",
    "\n",
    "        if first_col_zero:\n",
    "            for i in range(rows):\n",
    "                matrix[i][0] = 0\n",
    "\n",
    "# Test case\n",
    "def test():\n",
    "    sol = Solution()\n",
    "\n",
    "    # Example 1\n",
    "    matrix_1 = [[1, 1, 1], [1, 0, 1], [1, 1, 1]]\n",
    "    sol.setZeroes(matrix_1)\n",
    "    print(\"Example 1:\", matrix_1)\n",
    "    # Expected output: [[1, 0, 1], [0, 0, 0], [1, 0, 1]]\n",
    "\n",
    "    # Example 2\n",
    "    matrix_2 = [[0, 1, 2, 0], [3, 4, 5, 2], [1, 3, 1, 5]]\n",
    "    sol.setZeroes(matrix_2)\n",
    "    print(\"Example 2:\", matrix_2)\n",
    "    # Expected output: [[0, 0, 0, 0], [0, 4, 5, 0], [0, 3, 1, 0]]\n",
    "\n",
    "# Run the test case\n",
    "if __name__ == \"__main__\":\n",
    "    test()"
   ]
  },
  {
   "cell_type": "markdown",
   "id": "4c6af9bc",
   "metadata": {},
   "source": [
    "# Math"
   ]
  },
  {
   "cell_type": "markdown",
   "id": "16d10e2e",
   "metadata": {},
   "source": [
    "# Count Odd Numbers in an Interval Range"
   ]
  },
  {
   "cell_type": "code",
   "execution_count": 59,
   "id": "946e4dd3",
   "metadata": {},
   "outputs": [
    {
     "name": "stdout",
     "output_type": "stream",
     "text": [
      "Example 1: 3\n",
      "Example 2: 1\n"
     ]
    }
   ],
   "source": [
    "class Solution(object):\n",
    "    def countOdds(self, low, high):\n",
    "        \"\"\"\n",
    "        :type low: int\n",
    "        :type high: int\n",
    "        :rtype: int\n",
    "        \"\"\"\n",
    "        if low % 2 == 0:\n",
    "            low += 1\n",
    "        if high % 2 == 0:\n",
    "            high -= 1\n",
    "\n",
    "        return (high - low) // 2 + 1\n",
    "\n",
    "# Test cases\n",
    "def test():\n",
    "    sol = Solution()\n",
    "\n",
    "    # Example 1\n",
    "    low_1, high_1 = 3, 7\n",
    "    result_1 = sol.countOdds(low_1, high_1)\n",
    "    print(\"Example 1:\", result_1)\n",
    "    # Expected output: 3\n",
    "\n",
    "    # Example 2\n",
    "    low_2, high_2 = 8, 10\n",
    "    result_2 = sol.countOdds(low_2, high_2)\n",
    "    print(\"Example 2:\", result_2)\n",
    "    # Expected output: 1\n",
    "\n",
    "# Run the test cases\n",
    "if __name__ == \"__main__\":\n",
    "    test()"
   ]
  },
  {
   "cell_type": "markdown",
   "id": "72626ab7",
   "metadata": {},
   "source": [
    "Average Salary Excluding the Minimum and Maximum Salary"
   ]
  },
  {
   "cell_type": "code",
   "execution_count": 60,
   "id": "2c429cb7",
   "metadata": {},
   "outputs": [
    {
     "name": "stdout",
     "output_type": "stream",
     "text": [
      "Example 1: 2500.0\n",
      "Example 2: 2000.0\n"
     ]
    }
   ],
   "source": [
    "class Solution(object):\n",
    "    def average(self, salary):\n",
    "        \"\"\"\n",
    "        :type salary: List[int]\n",
    "        :rtype: float\n",
    "        \"\"\"\n",
    "        min_salary = min(salary)\n",
    "        max_salary = max(salary)\n",
    "\n",
    "        total_salary = sum(x for x in salary if x != min_salary and x != max_salary)\n",
    "        count = len(salary) - 2  # Exclude the minimum and maximum salaries from the count\n",
    "\n",
    "        return total_salary / float(count)\n",
    "\n",
    "# Test case\n",
    "def test():\n",
    "    sol = Solution()\n",
    "\n",
    "    # Example 1\n",
    "    salary_1 = [4000, 3000, 1000, 2000]\n",
    "    result_1 = sol.average(salary_1)\n",
    "    print(\"Example 1:\", result_1)\n",
    "    # Expected output: 2500.0\n",
    "\n",
    "    # Example 2\n",
    "    salary_2 = [1000, 2000, 3000]\n",
    "    result_2 = sol.average(salary_2)\n",
    "    print(\"Example 2:\", result_2)\n",
    "    # Expected output: 2000.0\n",
    "\n",
    "# Run the test case\n",
    "if __name__ == \"__main__\":\n",
    "    test()"
   ]
  },
  {
   "cell_type": "markdown",
   "id": "6f83133d",
   "metadata": {},
   "source": [
    "# Lemonade Change"
   ]
  },
  {
   "cell_type": "code",
   "execution_count": 61,
   "id": "d97e2d2b",
   "metadata": {},
   "outputs": [
    {
     "name": "stdout",
     "output_type": "stream",
     "text": [
      "Example 1: True\n",
      "Example 2: False\n"
     ]
    }
   ],
   "source": [
    "class Solution(object):\n",
    "    def lemonadeChange(self, bills):\n",
    "        \"\"\"\n",
    "        :type bills: List[int]\n",
    "        :rtype: bool\n",
    "        \"\"\"\n",
    "        # Variables to store available change for $5, $10, and $20 bills\n",
    "        change_5 = 0\n",
    "        change_10 = 0\n",
    "\n",
    "        for bill in bills:\n",
    "            if bill == 5:\n",
    "                change_5 += 1\n",
    "            elif bill == 10:\n",
    "                # If a customer pays with $10, give back $5 as change\n",
    "                change_5 -= 1\n",
    "                change_10 += 1\n",
    "            elif bill == 20:\n",
    "                # If a customer pays with $20, give back change using $10 and $5 bills\n",
    "                if change_10 > 0:\n",
    "                    change_10 -= 1\n",
    "                    change_5 -= 1\n",
    "                else:\n",
    "                    change_5 -= 3\n",
    "\n",
    "            # Check if there is enough change for the current transaction\n",
    "            if change_5 < 0:\n",
    "                return False\n",
    "\n",
    "        return True\n",
    "\n",
    "# Test case\n",
    "def test():\n",
    "    sol = Solution()\n",
    "\n",
    "    # Example 1\n",
    "    bills_1 = [5, 5, 5, 10, 20]\n",
    "    result_1 = sol.lemonadeChange(bills_1)\n",
    "    print(\"Example 1:\", result_1)\n",
    "    # Expected output: True\n",
    "\n",
    "    # Example 2\n",
    "    bills_2 = [5, 5, 10, 10, 20]\n",
    "    result_2 = sol.lemonadeChange(bills_2)\n",
    "    print(\"Example 2:\", result_2)\n",
    "    # Expected output: False\n",
    "\n",
    "# Run the test case\n",
    "if __name__ == \"__main__\":\n",
    "    test()"
   ]
  },
  {
   "cell_type": "markdown",
   "id": "6a90793b",
   "metadata": {},
   "source": [
    "# Largest Perimeter Traingle"
   ]
  },
  {
   "cell_type": "code",
   "execution_count": 62,
   "id": "09941427",
   "metadata": {},
   "outputs": [
    {
     "name": "stdout",
     "output_type": "stream",
     "text": [
      "Example 1: 5\n",
      "Example 2: 0\n"
     ]
    }
   ],
   "source": [
    "class Solution(object):\n",
    "    def largestPerimeter(self, nums):\n",
    "        \"\"\"\n",
    "        :type nums: List[int]\n",
    "        :rtype: int\n",
    "        \"\"\"\n",
    "        nums.sort(reverse=True)\n",
    "\n",
    "        for i in range(len(nums) - 2):\n",
    "            if nums[i] < nums[i + 1] + nums[i + 2]:\n",
    "                return nums[i] + nums[i + 1] + nums[i + 2]\n",
    "\n",
    "        return 0\n",
    "\n",
    "# Test case\n",
    "def test():\n",
    "    sol = Solution()\n",
    "\n",
    "    # Example 1\n",
    "    nums_1 = [2, 1, 2]\n",
    "    result_1 = sol.largestPerimeter(nums_1)\n",
    "    print(\"Example 1:\", result_1)\n",
    "    # Expected output: 5\n",
    "\n",
    "    # Example 2\n",
    "    nums_2 = [1, 2, 1, 10]\n",
    "    result_2 = sol.largestPerimeter(nums_2)\n",
    "    print(\"Example 2:\", result_2)\n",
    "    # Expected output: 0\n",
    "\n",
    "# Run the test case\n",
    "if __name__ == \"__main__\":\n",
    "    test()"
   ]
  },
  {
   "cell_type": "markdown",
   "id": "d0f27bb4",
   "metadata": {},
   "source": [
    "# Check If It Is a Straight Line"
   ]
  },
  {
   "cell_type": "code",
   "execution_count": 63,
   "id": "e66dd33e",
   "metadata": {},
   "outputs": [
    {
     "name": "stdout",
     "output_type": "stream",
     "text": [
      "Example 1: True\n",
      "Example 2: False\n"
     ]
    }
   ],
   "source": [
    "class Solution(object):\n",
    "    def checkStraightLine(self, coordinates):\n",
    "        \"\"\"\n",
    "        :type coordinates: List[List[int]]\n",
    "        :rtype: bool\n",
    "        \"\"\"\n",
    "        if len(coordinates) <= 2:\n",
    "            return True\n",
    "\n",
    "        # Calculate the slope between the first two points\n",
    "        x1, y1 = coordinates[0]\n",
    "        x2, y2 = coordinates[1]\n",
    "\n",
    "        # Check if all other points have the same slope\n",
    "        for i in range(2, len(coordinates)):\n",
    "            xi, yi = coordinates[i]\n",
    "            \n",
    "            # Check if the slopes are equal\n",
    "            if (y2 - y1) * (xi - x1) != (yi - y1) * (x2 - x1):\n",
    "                return False\n",
    "\n",
    "        return True\n",
    "\n",
    "# Test case\n",
    "def test():\n",
    "    sol = Solution()\n",
    "\n",
    "    # Example 1\n",
    "    coordinates_1 = [[1,2],[2,3],[3,4],[4,5],[5,6],[6,7]]\n",
    "    result_1 = sol.checkStraightLine(coordinates_1)\n",
    "    print(\"Example 1:\", result_1)\n",
    "    # Expected output: True\n",
    "\n",
    "    # Example 2\n",
    "    coordinates_2 = [[1,1],[2,2],[3,4],[4,5],[5,6],[7,7]]\n",
    "    result_2 = sol.checkStraightLine(coordinates_2)\n",
    "    print(\"Example 2:\", result_2)\n",
    "    # Expected output: False\n",
    "\n",
    "# Run the test case\n",
    "if __name__ == \"__main__\":\n",
    "    test()"
   ]
  },
  {
   "cell_type": "markdown",
   "id": "2b625644",
   "metadata": {},
   "source": [
    "# Add Binary"
   ]
  },
  {
   "cell_type": "code",
   "execution_count": 64,
   "id": "03fbd236",
   "metadata": {},
   "outputs": [
    {
     "name": "stdout",
     "output_type": "stream",
     "text": [
      "100\n",
      "10101\n"
     ]
    }
   ],
   "source": [
    "class Solution(object):\n",
    "    def addBinary(self, a, b):\n",
    "        \"\"\"\n",
    "        :type a: str\n",
    "        :type b: str\n",
    "        :rtype: str\n",
    "        \"\"\"\n",
    "        result = []\n",
    "        carry = 0\n",
    "\n",
    "        # Iterate from the rightmost bit to the leftmost bit\n",
    "        i, j = len(a) - 1, len(b) - 1\n",
    "        while i >= 0 or j >= 0 or carry:\n",
    "            # Get the current bits\n",
    "            bit_a = int(a[i]) if i >= 0 else 0\n",
    "            bit_b = int(b[j]) if j >= 0 else 0\n",
    "\n",
    "            # Perform binary addition\n",
    "            binary_sum = bit_a + bit_b + carry\n",
    "\n",
    "            # Calculate the current bit and carry for the next iteration\n",
    "            result.append(str(binary_sum % 2))\n",
    "            carry = binary_sum // 2\n",
    "\n",
    "            # Move to the next bits\n",
    "            i -= 1\n",
    "            j -= 1\n",
    "\n",
    "        # Reverse the result and join to get the final binary string\n",
    "        return ''.join(result[::-1])\n",
    "\n",
    "# Test cases\n",
    "sol = Solution()\n",
    "print(sol.addBinary(\"11\", \"1\"))  # Output: \"100\"\n",
    "print(sol.addBinary(\"1010\", \"1011\"))  # Output: \"10101\""
   ]
  },
  {
   "cell_type": "markdown",
   "id": "81069f60",
   "metadata": {},
   "source": [
    "# Multiply Strings"
   ]
  },
  {
   "cell_type": "code",
   "execution_count": 65,
   "id": "24b67ecb",
   "metadata": {},
   "outputs": [
    {
     "name": "stdout",
     "output_type": "stream",
     "text": [
      "6\n",
      "56088\n"
     ]
    }
   ],
   "source": [
    "class Solution(object):\n",
    "    def multiply(self, num1, num2):\n",
    "        \"\"\"\n",
    "        :type num1: str\n",
    "        :type num2: str\n",
    "        :rtype: str\n",
    "        \"\"\"\n",
    "        # Initialize the result with zeros\n",
    "        result = [0] * (len(num1) + len(num2))\n",
    "        \n",
    "        # Multiply each digit of num1 with each digit of num2\n",
    "        for i in range(len(num1) - 1, -1, -1):\n",
    "            for j in range(len(num2) - 1, -1, -1):\n",
    "                digit1 = int(num1[i])\n",
    "                digit2 = int(num2[j])\n",
    "                \n",
    "                # Calculate the product and add it to the appropriate position\n",
    "                temp_sum = digit1 * digit2 + result[i + j + 1]\n",
    "                result[i + j + 1] = temp_sum % 10\n",
    "                result[i + j] += temp_sum // 10\n",
    "        \n",
    "        # Remove leading zeros and convert to string\n",
    "        result_str = ''.join(map(str, result))\n",
    "        result_str = result_str.lstrip('0')\n",
    "        \n",
    "        # If the result is an empty string, return '0'\n",
    "        return result_str if result_str else '0'\n",
    "\n",
    "# Test cases\n",
    "sol = Solution()\n",
    "print(sol.multiply(\"2\", \"3\"))  # Output: \"6\"\n",
    "print(sol.multiply(\"123\", \"456\"))  # Output: \"56088\""
   ]
  },
  {
   "cell_type": "markdown",
   "id": "f5570737",
   "metadata": {},
   "source": [
    "# Pow(x,n)"
   ]
  },
  {
   "cell_type": "code",
   "execution_count": 66,
   "id": "37090a1b",
   "metadata": {},
   "outputs": [
    {
     "name": "stdout",
     "output_type": "stream",
     "text": [
      "1024.0\n",
      "9.261000000000001\n",
      "0.25\n"
     ]
    }
   ],
   "source": [
    "class Solution(object):\n",
    "    def myPow(self, x, n):\n",
    "        \"\"\"\n",
    "        :type x: float\n",
    "        :type n: int\n",
    "        :rtype: float\n",
    "        \"\"\"\n",
    "        # Base case: x^0 = 1\n",
    "        if n == 0:\n",
    "            return 1.0\n",
    "        \n",
    "        # If n is negative, convert it to positive and take the reciprocal of the result\n",
    "        if n < 0:\n",
    "            x = 1 / x\n",
    "            n = -n\n",
    "        \n",
    "        # Use the exponentiation by squaring algorithm\n",
    "        result = 1.0\n",
    "        while n > 0:\n",
    "            # If n is odd, multiply the result by x and reduce n by 1\n",
    "            if n % 2 == 1:\n",
    "                result *= x\n",
    "            # Square x and divide n by 2\n",
    "            x *= x\n",
    "            n //= 2\n",
    "        \n",
    "        return result\n",
    "\n",
    "# Test cases\n",
    "sol = Solution()\n",
    "print(sol.myPow(2.00000, 10))  # Output: 1024.00000\n",
    "print(sol.myPow(2.10000, 3))   # Output: 9.26100\n",
    "print(sol.myPow(2.00000, -2))  # Output: 0.25000"
   ]
  },
  {
   "cell_type": "code",
   "execution_count": null,
   "id": "11fa116c",
   "metadata": {},
   "outputs": [],
   "source": []
  }
 ],
 "metadata": {
  "kernelspec": {
   "display_name": "Python 3 (ipykernel)",
   "language": "python",
   "name": "python3"
  },
  "language_info": {
   "codemirror_mode": {
    "name": "ipython",
    "version": 3
   },
   "file_extension": ".py",
   "mimetype": "text/x-python",
   "name": "python",
   "nbconvert_exporter": "python",
   "pygments_lexer": "ipython3",
   "version": "3.10.9"
  }
 },
 "nbformat": 4,
 "nbformat_minor": 5
}
