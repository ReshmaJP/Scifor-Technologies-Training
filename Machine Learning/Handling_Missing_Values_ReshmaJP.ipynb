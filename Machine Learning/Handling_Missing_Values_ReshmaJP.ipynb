{
 "cells": [
  {
   "cell_type": "code",
   "execution_count": 1,
   "id": "9d6e127d",
   "metadata": {},
   "outputs": [],
   "source": [
    "# Importing libraries\n",
    "import numpy as np\n",
    "import pandas as pd\n",
    "import matplotlib.pyplot as plt\n",
    "import seaborn as sns"
   ]
  },
  {
   "cell_type": "code",
   "execution_count": 2,
   "id": "833383b0",
   "metadata": {},
   "outputs": [
    {
     "data": {
      "text/html": [
       "<div>\n",
       "<style scoped>\n",
       "    .dataframe tbody tr th:only-of-type {\n",
       "        vertical-align: middle;\n",
       "    }\n",
       "\n",
       "    .dataframe tbody tr th {\n",
       "        vertical-align: top;\n",
       "    }\n",
       "\n",
       "    .dataframe thead th {\n",
       "        text-align: right;\n",
       "    }\n",
       "</style>\n",
       "<table border=\"1\" class=\"dataframe\">\n",
       "  <thead>\n",
       "    <tr style=\"text-align: right;\">\n",
       "      <th></th>\n",
       "      <th>ride_id</th>\n",
       "      <th>rideable_type</th>\n",
       "      <th>started_at</th>\n",
       "      <th>ended_at</th>\n",
       "      <th>start_station_name</th>\n",
       "      <th>start_station_id</th>\n",
       "      <th>end_station_name</th>\n",
       "      <th>end_station_id</th>\n",
       "      <th>start_lat</th>\n",
       "      <th>start_lng</th>\n",
       "      <th>end_lat</th>\n",
       "      <th>end_lng</th>\n",
       "      <th>member_casual</th>\n",
       "    </tr>\n",
       "  </thead>\n",
       "  <tbody>\n",
       "    <tr>\n",
       "      <th>0</th>\n",
       "      <td>C2F7DD78E82EC875</td>\n",
       "      <td>electric_bike</td>\n",
       "      <td>2022-01-13 11:59:47</td>\n",
       "      <td>2022-01-13 12:02:44</td>\n",
       "      <td>Glenwood Ave &amp; Touhy Ave</td>\n",
       "      <td>525</td>\n",
       "      <td>Clark St &amp; Touhy Ave</td>\n",
       "      <td>RP-007</td>\n",
       "      <td>42.012800</td>\n",
       "      <td>-87.665906</td>\n",
       "      <td>42.012560</td>\n",
       "      <td>-87.674367</td>\n",
       "      <td>casual</td>\n",
       "    </tr>\n",
       "    <tr>\n",
       "      <th>1</th>\n",
       "      <td>A6CF8980A652D272</td>\n",
       "      <td>electric_bike</td>\n",
       "      <td>2022-01-10 08:41:56</td>\n",
       "      <td>2022-01-10 08:46:17</td>\n",
       "      <td>Glenwood Ave &amp; Touhy Ave</td>\n",
       "      <td>525</td>\n",
       "      <td>Clark St &amp; Touhy Ave</td>\n",
       "      <td>RP-007</td>\n",
       "      <td>42.012763</td>\n",
       "      <td>-87.665967</td>\n",
       "      <td>42.012560</td>\n",
       "      <td>-87.674367</td>\n",
       "      <td>casual</td>\n",
       "    </tr>\n",
       "    <tr>\n",
       "      <th>2</th>\n",
       "      <td>BD0F91DFF741C66D</td>\n",
       "      <td>classic_bike</td>\n",
       "      <td>2022-01-25 04:53:40</td>\n",
       "      <td>2022-01-25 04:58:01</td>\n",
       "      <td>Sheffield Ave &amp; Fullerton Ave</td>\n",
       "      <td>TA1306000016</td>\n",
       "      <td>Greenview Ave &amp; Fullerton Ave</td>\n",
       "      <td>TA1307000001</td>\n",
       "      <td>41.925602</td>\n",
       "      <td>-87.653708</td>\n",
       "      <td>41.925330</td>\n",
       "      <td>-87.665800</td>\n",
       "      <td>member</td>\n",
       "    </tr>\n",
       "    <tr>\n",
       "      <th>3</th>\n",
       "      <td>CBB80ED419105406</td>\n",
       "      <td>classic_bike</td>\n",
       "      <td>2022-01-04 00:18:04</td>\n",
       "      <td>2022-01-04 00:33:00</td>\n",
       "      <td>Clark St &amp; Bryn Mawr Ave</td>\n",
       "      <td>KA1504000151</td>\n",
       "      <td>Paulina St &amp; Montrose Ave</td>\n",
       "      <td>TA1309000021</td>\n",
       "      <td>41.983593</td>\n",
       "      <td>-87.669154</td>\n",
       "      <td>41.961507</td>\n",
       "      <td>-87.671387</td>\n",
       "      <td>casual</td>\n",
       "    </tr>\n",
       "    <tr>\n",
       "      <th>4</th>\n",
       "      <td>DDC963BFDDA51EEA</td>\n",
       "      <td>classic_bike</td>\n",
       "      <td>2022-01-20 01:31:10</td>\n",
       "      <td>2022-01-20 01:37:12</td>\n",
       "      <td>Michigan Ave &amp; Jackson Blvd</td>\n",
       "      <td>TA1309000002</td>\n",
       "      <td>State St &amp; Randolph St</td>\n",
       "      <td>TA1305000029</td>\n",
       "      <td>41.877850</td>\n",
       "      <td>-87.624080</td>\n",
       "      <td>41.884621</td>\n",
       "      <td>-87.627834</td>\n",
       "      <td>member</td>\n",
       "    </tr>\n",
       "    <tr>\n",
       "      <th>...</th>\n",
       "      <td>...</td>\n",
       "      <td>...</td>\n",
       "      <td>...</td>\n",
       "      <td>...</td>\n",
       "      <td>...</td>\n",
       "      <td>...</td>\n",
       "      <td>...</td>\n",
       "      <td>...</td>\n",
       "      <td>...</td>\n",
       "      <td>...</td>\n",
       "      <td>...</td>\n",
       "      <td>...</td>\n",
       "      <td>...</td>\n",
       "    </tr>\n",
       "    <tr>\n",
       "      <th>103765</th>\n",
       "      <td>8788DA3EDE8FD8AB</td>\n",
       "      <td>electric_bike</td>\n",
       "      <td>2022-01-18 12:36:48</td>\n",
       "      <td>2022-01-18 12:46:19</td>\n",
       "      <td>Clinton St &amp; Washington Blvd</td>\n",
       "      <td>WL-012</td>\n",
       "      <td>NaN</td>\n",
       "      <td>NaN</td>\n",
       "      <td>41.883436</td>\n",
       "      <td>-87.641391</td>\n",
       "      <td>41.890000</td>\n",
       "      <td>-87.620000</td>\n",
       "      <td>casual</td>\n",
       "    </tr>\n",
       "    <tr>\n",
       "      <th>103766</th>\n",
       "      <td>C6C3B64FDC827D8C</td>\n",
       "      <td>electric_bike</td>\n",
       "      <td>2022-01-27 11:00:06</td>\n",
       "      <td>2022-01-27 11:02:40</td>\n",
       "      <td>Racine Ave &amp; Randolph St</td>\n",
       "      <td>13155</td>\n",
       "      <td>NaN</td>\n",
       "      <td>NaN</td>\n",
       "      <td>41.884158</td>\n",
       "      <td>-87.656977</td>\n",
       "      <td>41.880000</td>\n",
       "      <td>-87.650000</td>\n",
       "      <td>casual</td>\n",
       "    </tr>\n",
       "    <tr>\n",
       "      <th>103767</th>\n",
       "      <td>CA281AE7D8B06F5A</td>\n",
       "      <td>electric_bike</td>\n",
       "      <td>2022-01-10 16:14:51</td>\n",
       "      <td>2022-01-10 16:20:58</td>\n",
       "      <td>Broadway &amp; Waveland Ave</td>\n",
       "      <td>13325</td>\n",
       "      <td>Clark St &amp; Grace St</td>\n",
       "      <td>TA1307000127</td>\n",
       "      <td>41.949066</td>\n",
       "      <td>-87.648611</td>\n",
       "      <td>41.950780</td>\n",
       "      <td>-87.659172</td>\n",
       "      <td>casual</td>\n",
       "    </tr>\n",
       "    <tr>\n",
       "      <th>103768</th>\n",
       "      <td>44E348991862319B</td>\n",
       "      <td>electric_bike</td>\n",
       "      <td>2022-01-19 13:22:11</td>\n",
       "      <td>2022-01-19 13:24:27</td>\n",
       "      <td>Racine Ave &amp; Randolph St</td>\n",
       "      <td>13155</td>\n",
       "      <td>NaN</td>\n",
       "      <td>NaN</td>\n",
       "      <td>41.884005</td>\n",
       "      <td>-87.657031</td>\n",
       "      <td>41.880000</td>\n",
       "      <td>-87.660000</td>\n",
       "      <td>casual</td>\n",
       "    </tr>\n",
       "    <tr>\n",
       "      <th>103769</th>\n",
       "      <td>E477C594A182AE58</td>\n",
       "      <td>electric_bike</td>\n",
       "      <td>2022-01-13 17:24:43</td>\n",
       "      <td>2022-01-13 17:28:14</td>\n",
       "      <td>Clinton St &amp; Washington Blvd</td>\n",
       "      <td>WL-012</td>\n",
       "      <td>Desplaines St &amp; Kinzie St</td>\n",
       "      <td>TA1306000003</td>\n",
       "      <td>41.883248</td>\n",
       "      <td>-87.641244</td>\n",
       "      <td>41.888716</td>\n",
       "      <td>-87.644448</td>\n",
       "      <td>casual</td>\n",
       "    </tr>\n",
       "  </tbody>\n",
       "</table>\n",
       "<p>103770 rows × 13 columns</p>\n",
       "</div>"
      ],
      "text/plain": [
       "                 ride_id  rideable_type           started_at  \\\n",
       "0       C2F7DD78E82EC875  electric_bike  2022-01-13 11:59:47   \n",
       "1       A6CF8980A652D272  electric_bike  2022-01-10 08:41:56   \n",
       "2       BD0F91DFF741C66D   classic_bike  2022-01-25 04:53:40   \n",
       "3       CBB80ED419105406   classic_bike  2022-01-04 00:18:04   \n",
       "4       DDC963BFDDA51EEA   classic_bike  2022-01-20 01:31:10   \n",
       "...                  ...            ...                  ...   \n",
       "103765  8788DA3EDE8FD8AB  electric_bike  2022-01-18 12:36:48   \n",
       "103766  C6C3B64FDC827D8C  electric_bike  2022-01-27 11:00:06   \n",
       "103767  CA281AE7D8B06F5A  electric_bike  2022-01-10 16:14:51   \n",
       "103768  44E348991862319B  electric_bike  2022-01-19 13:22:11   \n",
       "103769  E477C594A182AE58  electric_bike  2022-01-13 17:24:43   \n",
       "\n",
       "                   ended_at             start_station_name start_station_id  \\\n",
       "0       2022-01-13 12:02:44       Glenwood Ave & Touhy Ave              525   \n",
       "1       2022-01-10 08:46:17       Glenwood Ave & Touhy Ave              525   \n",
       "2       2022-01-25 04:58:01  Sheffield Ave & Fullerton Ave     TA1306000016   \n",
       "3       2022-01-04 00:33:00       Clark St & Bryn Mawr Ave     KA1504000151   \n",
       "4       2022-01-20 01:37:12    Michigan Ave & Jackson Blvd     TA1309000002   \n",
       "...                     ...                            ...              ...   \n",
       "103765  2022-01-18 12:46:19   Clinton St & Washington Blvd           WL-012   \n",
       "103766  2022-01-27 11:02:40       Racine Ave & Randolph St            13155   \n",
       "103767  2022-01-10 16:20:58        Broadway & Waveland Ave            13325   \n",
       "103768  2022-01-19 13:24:27       Racine Ave & Randolph St            13155   \n",
       "103769  2022-01-13 17:28:14   Clinton St & Washington Blvd           WL-012   \n",
       "\n",
       "                     end_station_name end_station_id  start_lat  start_lng  \\\n",
       "0                Clark St & Touhy Ave         RP-007  42.012800 -87.665906   \n",
       "1                Clark St & Touhy Ave         RP-007  42.012763 -87.665967   \n",
       "2       Greenview Ave & Fullerton Ave   TA1307000001  41.925602 -87.653708   \n",
       "3           Paulina St & Montrose Ave   TA1309000021  41.983593 -87.669154   \n",
       "4              State St & Randolph St   TA1305000029  41.877850 -87.624080   \n",
       "...                               ...            ...        ...        ...   \n",
       "103765                            NaN            NaN  41.883436 -87.641391   \n",
       "103766                            NaN            NaN  41.884158 -87.656977   \n",
       "103767            Clark St & Grace St   TA1307000127  41.949066 -87.648611   \n",
       "103768                            NaN            NaN  41.884005 -87.657031   \n",
       "103769      Desplaines St & Kinzie St   TA1306000003  41.883248 -87.641244   \n",
       "\n",
       "          end_lat    end_lng member_casual  \n",
       "0       42.012560 -87.674367        casual  \n",
       "1       42.012560 -87.674367        casual  \n",
       "2       41.925330 -87.665800        member  \n",
       "3       41.961507 -87.671387        casual  \n",
       "4       41.884621 -87.627834        member  \n",
       "...           ...        ...           ...  \n",
       "103765  41.890000 -87.620000        casual  \n",
       "103766  41.880000 -87.650000        casual  \n",
       "103767  41.950780 -87.659172        casual  \n",
       "103768  41.880000 -87.660000        casual  \n",
       "103769  41.888716 -87.644448        casual  \n",
       "\n",
       "[103770 rows x 13 columns]"
      ]
     },
     "execution_count": 2,
     "metadata": {},
     "output_type": "execute_result"
    }
   ],
   "source": [
    "# Read the dataset\n",
    "data = pd.read_csv('202201-divvy-tripdata.csv')\n",
    "data"
   ]
  },
  {
   "cell_type": "code",
   "execution_count": 3,
   "id": "8b156ca2",
   "metadata": {},
   "outputs": [
    {
     "data": {
      "text/plain": [
       "(103770, 13)"
      ]
     },
     "execution_count": 3,
     "metadata": {},
     "output_type": "execute_result"
    }
   ],
   "source": [
    "# Size of the data\n",
    "data.shape"
   ]
  },
  {
   "cell_type": "code",
   "execution_count": 4,
   "id": "a2a88c2e",
   "metadata": {},
   "outputs": [
    {
     "name": "stdout",
     "output_type": "stream",
     "text": [
      "<class 'pandas.core.frame.DataFrame'>\n",
      "RangeIndex: 103770 entries, 0 to 103769\n",
      "Data columns (total 13 columns):\n",
      " #   Column              Non-Null Count   Dtype  \n",
      "---  ------              --------------   -----  \n",
      " 0   ride_id             103770 non-null  object \n",
      " 1   rideable_type       103770 non-null  object \n",
      " 2   started_at          103770 non-null  object \n",
      " 3   ended_at            103770 non-null  object \n",
      " 4   start_station_name  87510 non-null   object \n",
      " 5   start_station_id    87510 non-null   object \n",
      " 6   end_station_name    85843 non-null   object \n",
      " 7   end_station_id      85843 non-null   object \n",
      " 8   start_lat           103770 non-null  float64\n",
      " 9   start_lng           103770 non-null  float64\n",
      " 10  end_lat             103684 non-null  float64\n",
      " 11  end_lng             103684 non-null  float64\n",
      " 12  member_casual       103770 non-null  object \n",
      "dtypes: float64(4), object(9)\n",
      "memory usage: 10.3+ MB\n"
     ]
    }
   ],
   "source": [
    "# Data info\n",
    "data.info()"
   ]
  },
  {
   "cell_type": "code",
   "execution_count": 5,
   "id": "2acb32f7",
   "metadata": {},
   "outputs": [
    {
     "data": {
      "text/html": [
       "<div>\n",
       "<style scoped>\n",
       "    .dataframe tbody tr th:only-of-type {\n",
       "        vertical-align: middle;\n",
       "    }\n",
       "\n",
       "    .dataframe tbody tr th {\n",
       "        vertical-align: top;\n",
       "    }\n",
       "\n",
       "    .dataframe thead th {\n",
       "        text-align: right;\n",
       "    }\n",
       "</style>\n",
       "<table border=\"1\" class=\"dataframe\">\n",
       "  <thead>\n",
       "    <tr style=\"text-align: right;\">\n",
       "      <th></th>\n",
       "      <th>start_lat</th>\n",
       "      <th>start_lng</th>\n",
       "      <th>end_lat</th>\n",
       "      <th>end_lng</th>\n",
       "    </tr>\n",
       "  </thead>\n",
       "  <tbody>\n",
       "    <tr>\n",
       "      <th>count</th>\n",
       "      <td>103770.000000</td>\n",
       "      <td>103770.000000</td>\n",
       "      <td>103684.000000</td>\n",
       "      <td>103684.000000</td>\n",
       "    </tr>\n",
       "    <tr>\n",
       "      <th>mean</th>\n",
       "      <td>41.896850</td>\n",
       "      <td>-87.648622</td>\n",
       "      <td>41.896950</td>\n",
       "      <td>-87.648964</td>\n",
       "    </tr>\n",
       "    <tr>\n",
       "      <th>std</th>\n",
       "      <td>0.049664</td>\n",
       "      <td>0.053199</td>\n",
       "      <td>0.048400</td>\n",
       "      <td>0.031342</td>\n",
       "    </tr>\n",
       "    <tr>\n",
       "      <th>min</th>\n",
       "      <td>41.650000</td>\n",
       "      <td>-87.830000</td>\n",
       "      <td>41.648501</td>\n",
       "      <td>-87.830000</td>\n",
       "    </tr>\n",
       "    <tr>\n",
       "      <th>25%</th>\n",
       "      <td>41.879255</td>\n",
       "      <td>-87.664169</td>\n",
       "      <td>41.879344</td>\n",
       "      <td>-87.664358</td>\n",
       "    </tr>\n",
       "    <tr>\n",
       "      <th>50%</th>\n",
       "      <td>41.894877</td>\n",
       "      <td>-87.644098</td>\n",
       "      <td>41.895501</td>\n",
       "      <td>-87.644098</td>\n",
       "    </tr>\n",
       "    <tr>\n",
       "      <th>75%</th>\n",
       "      <td>41.925602</td>\n",
       "      <td>-87.629912</td>\n",
       "      <td>41.925602</td>\n",
       "      <td>-87.629912</td>\n",
       "    </tr>\n",
       "    <tr>\n",
       "      <th>max</th>\n",
       "      <td>45.635034</td>\n",
       "      <td>-73.796477</td>\n",
       "      <td>42.070000</td>\n",
       "      <td>-87.520000</td>\n",
       "    </tr>\n",
       "  </tbody>\n",
       "</table>\n",
       "</div>"
      ],
      "text/plain": [
       "           start_lat      start_lng        end_lat        end_lng\n",
       "count  103770.000000  103770.000000  103684.000000  103684.000000\n",
       "mean       41.896850     -87.648622      41.896950     -87.648964\n",
       "std         0.049664       0.053199       0.048400       0.031342\n",
       "min        41.650000     -87.830000      41.648501     -87.830000\n",
       "25%        41.879255     -87.664169      41.879344     -87.664358\n",
       "50%        41.894877     -87.644098      41.895501     -87.644098\n",
       "75%        41.925602     -87.629912      41.925602     -87.629912\n",
       "max        45.635034     -73.796477      42.070000     -87.520000"
      ]
     },
     "execution_count": 5,
     "metadata": {},
     "output_type": "execute_result"
    }
   ],
   "source": [
    "# Data Stats\n",
    "data.describe()"
   ]
  },
  {
   "cell_type": "code",
   "execution_count": 6,
   "id": "4e8fab12",
   "metadata": {},
   "outputs": [
    {
     "name": "stderr",
     "output_type": "stream",
     "text": [
      "C:\\Users\\SONY\\AppData\\Local\\Temp\\ipykernel_4184\\3611415369.py:3: FutureWarning: The default value of numeric_only in DataFrame.corr is deprecated. In a future version, it will default to False. Select only valid columns or specify the value of numeric_only to silence this warning.\n",
      "  sns.heatmap(data.corr(), annot = True)\n"
     ]
    },
    {
     "data": {
      "text/plain": [
       "(array([0.5, 1.5, 2.5, 3.5]),\n",
       " [Text(0.5, 0, 'start_lat'),\n",
       "  Text(1.5, 0, 'start_lng'),\n",
       "  Text(2.5, 0, 'end_lat'),\n",
       "  Text(3.5, 0, 'end_lng')])"
      ]
     },
     "execution_count": 6,
     "metadata": {},
     "output_type": "execute_result"
    },
    {
     "data": {
      "image/png": "[encoded data removed]",
      "text/plain": [
       "<Figure size 800x800 with 2 Axes>"
      ]
     },
     "metadata": {},
     "output_type": "display_data"
    }
   ],
   "source": [
    "# Heatmap of data\n",
    "plt.subplots(figsize=(8,8))\n",
    "sns.heatmap(data.corr(), annot = True)\n",
    "plt.xticks(rotation = 90)"
   ]
  },
  {
   "cell_type": "code",
   "execution_count": 7,
   "id": "aff3ff16",
   "metadata": {},
   "outputs": [
    {
     "data": {
      "text/plain": [
       "ride_id                   0\n",
       "rideable_type             0\n",
       "started_at                0\n",
       "ended_at                  0\n",
       "start_station_name    16260\n",
       "start_station_id      16260\n",
       "end_station_name      17927\n",
       "end_station_id        17927\n",
       "start_lat                 0\n",
       "start_lng                 0\n",
       "end_lat                  86\n",
       "end_lng                  86\n",
       "member_casual             0\n",
       "dtype: int64"
      ]
     },
     "execution_count": 7,
     "metadata": {},
     "output_type": "execute_result"
    }
   ],
   "source": [
    "# To find missing values\n",
    "data.isnull().sum()"
   ]
  },
  {
   "cell_type": "code",
   "execution_count": 8,
   "id": "00b4a6cc",
   "metadata": {},
   "outputs": [],
   "source": [
    "# Fill missing values\n",
    "data['start_station_name']=data['start_station_name'].fillna(data['start_station_name'].mode().iloc[0])\n",
    "data['start_station_id']=data['start_station_id'].fillna(data['start_station_id'].mode().iloc[0])\n",
    "data['end_station_name']=data['end_station_name'].fillna(data['end_station_name'].mode().iloc[0])\n",
    "data['end_station_id']=data['end_station_id'].fillna(data['end_station_id'].mode().iloc[0])\n",
    "data['end_lat']=data['end_lat'].fillna(data['end_lat'].median())\n",
    "data['end_lng']=data['end_lng'].fillna(data['end_lng'].median())"
   ]
  },
  {
   "cell_type": "code",
   "execution_count": 9,
   "id": "8a7dd254",
   "metadata": {},
   "outputs": [
    {
     "data": {
      "text/plain": [
       "ride_id               0\n",
       "rideable_type         0\n",
       "started_at            0\n",
       "ended_at              0\n",
       "start_station_name    0\n",
       "start_station_id      0\n",
       "end_station_name      0\n",
       "end_station_id        0\n",
       "start_lat             0\n",
       "start_lng             0\n",
       "end_lat               0\n",
       "end_lng               0\n",
       "member_casual         0\n",
       "dtype: int64"
      ]
     },
     "execution_count": 9,
     "metadata": {},
     "output_type": "execute_result"
    }
   ],
   "source": [
    "# Check for missing values after filling\n",
    "data.isna().sum()"
   ]
  },
  {
   "cell_type": "code",
   "execution_count": 10,
   "id": "6de648d9",
   "metadata": {},
   "outputs": [
    {
     "data": {
      "text/plain": [
       "array(['electric_bike', 'classic_bike', 'docked_bike'], dtype=object)"
      ]
     },
     "execution_count": 10,
     "metadata": {},
     "output_type": "execute_result"
    }
   ],
   "source": [
    "# Check for unique values in 'rideable_type'\n",
    "unique_rideable_type = data['rideable_type'].unique()\n",
    "unique_rideable_type"
   ]
  },
  {
   "cell_type": "code",
   "execution_count": 11,
   "id": "a47e0c81",
   "metadata": {},
   "outputs": [
    {
     "data": {
      "text/plain": [
       "rideable_type\n",
       "classic_bike     55067\n",
       "docked_bike        961\n",
       "electric_bike    47742\n",
       "Name: rideable_type, dtype: int64"
      ]
     },
     "execution_count": 11,
     "metadata": {},
     "output_type": "execute_result"
    }
   ],
   "source": [
    "# Count of each 'rideable_type'\n",
    "data.groupby('rideable_type')['rideable_type'].count()"
   ]
  },
  {
   "cell_type": "code",
   "execution_count": 12,
   "id": "0fb8dc01",
   "metadata": {},
   "outputs": [
    {
     "data": {
      "text/plain": [
       "3"
      ]
     },
     "execution_count": 12,
     "metadata": {},
     "output_type": "execute_result"
    }
   ],
   "source": [
    "# no. of 'rideable_type'\n",
    "len(data['rideable_type'].unique())"
   ]
  }
 ],
 "metadata": {
  "kernelspec": {
   "display_name": "Python 3 (ipykernel)",
   "language": "python",
   "name": "python3"
  },
  "language_info": {
   "codemirror_mode": {
    "name": "ipython",
    "version": 3
   },
   "file_extension": ".py",
   "mimetype": "text/x-python",
   "name": "python",
   "nbconvert_exporter": "python",
   "pygments_lexer": "ipython3",
   "version": "3.10.9"
  }
 },
 "nbformat": 4,
 "nbformat_minor": 5
}
