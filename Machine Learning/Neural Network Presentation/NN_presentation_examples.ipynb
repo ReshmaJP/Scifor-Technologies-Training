{
 "cells": [
  {
   "cell_type": "markdown",
   "metadata": {},
   "source": [
    "3 projects using ANN:\n",
    "1. `Binary` Classification\n",
    "2. `Multiclass` Classification\n",
    "3. `Regression`"
   ]
  },
  {
   "cell_type": "markdown",
   "metadata": {},
   "source": [
    "# Binary Classification"
   ]
  },
  {
   "cell_type": "code",
   "execution_count": 334,
   "metadata": {
    "execution": {
     "iopub.execute_input": "2022-03-12T05:40:25.118574Z",
     "iopub.status.busy": "2022-03-12T05:40:25.118061Z",
     "iopub.status.idle": "2022-03-12T05:40:25.122902Z",
     "shell.execute_reply": "2022-03-12T05:40:25.121946Z",
     "shell.execute_reply.started": "2022-03-12T05:40:25.118528Z"
    }
   },
   "outputs": [],
   "source": [
    "# Import Libraries\n",
    "import numpy as np\n",
    "import pandas as pd"
   ]
  },
  {
   "cell_type": "code",
   "execution_count": 335,
   "metadata": {
    "execution": {
     "iopub.execute_input": "2022-03-12T05:40:25.124516Z",
     "iopub.status.busy": "2022-03-12T05:40:25.124127Z",
     "iopub.status.idle": "2022-03-12T05:40:25.174412Z",
     "shell.execute_reply": "2022-03-12T05:40:25.173478Z",
     "shell.execute_reply.started": "2022-03-12T05:40:25.124488Z"
    }
   },
   "outputs": [],
   "source": [
    "# Read Data\n",
    "data = pd.read_csv('Churn_Modelling.csv')"
   ]
  },
  {
   "cell_type": "code",
   "execution_count": 336,
   "metadata": {
    "execution": {
     "iopub.execute_input": "2022-03-12T05:40:25.176437Z",
     "iopub.status.busy": "2022-03-12T05:40:25.176164Z",
     "iopub.status.idle": "2022-03-12T05:40:25.184725Z",
     "shell.execute_reply": "2022-03-12T05:40:25.183688Z",
     "shell.execute_reply.started": "2022-03-12T05:40:25.176380Z"
    }
   },
   "outputs": [
    {
     "data": {
      "text/plain": [
       "(10000, 14)"
      ]
     },
     "execution_count": 336,
     "metadata": {},
     "output_type": "execute_result"
    }
   ],
   "source": [
    "data.shape"
   ]
  },
  {
   "cell_type": "code",
   "execution_count": 337,
   "metadata": {
    "execution": {
     "iopub.execute_input": "2022-03-12T05:40:25.186114Z",
     "iopub.status.busy": "2022-03-12T05:40:25.185893Z",
     "iopub.status.idle": "2022-03-12T05:40:25.212946Z",
     "shell.execute_reply": "2022-03-12T05:40:25.212093Z",
     "shell.execute_reply.started": "2022-03-12T05:40:25.186088Z"
    }
   },
   "outputs": [
    {
     "data": {
      "text/html": [
       "<div>\n",
       "<style scoped>\n",
       "    .dataframe tbody tr th:only-of-type {\n",
       "        vertical-align: middle;\n",
       "    }\n",
       "\n",
       "    .dataframe tbody tr th {\n",
       "        vertical-align: top;\n",
       "    }\n",
       "\n",
       "    .dataframe thead th {\n",
       "        text-align: right;\n",
       "    }\n",
       "</style>\n",
       "<table border=\"1\" class=\"dataframe\">\n",
       "  <thead>\n",
       "    <tr style=\"text-align: right;\">\n",
       "      <th></th>\n",
       "      <th>RowNumber</th>\n",
       "      <th>CustomerId</th>\n",
       "      <th>Surname</th>\n",
       "      <th>CreditScore</th>\n",
       "      <th>Geography</th>\n",
       "      <th>Gender</th>\n",
       "      <th>Age</th>\n",
       "      <th>Tenure</th>\n",
       "      <th>Balance</th>\n",
       "      <th>NumOfProducts</th>\n",
       "      <th>HasCrCard</th>\n",
       "      <th>IsActiveMember</th>\n",
       "      <th>EstimatedSalary</th>\n",
       "      <th>Exited</th>\n",
       "    </tr>\n",
       "  </thead>\n",
       "  <tbody>\n",
       "    <tr>\n",
       "      <th>0</th>\n",
       "      <td>1</td>\n",
       "      <td>15634602</td>\n",
       "      <td>Hargrave</td>\n",
       "      <td>619</td>\n",
       "      <td>France</td>\n",
       "      <td>Female</td>\n",
       "      <td>42</td>\n",
       "      <td>2</td>\n",
       "      <td>0.00</td>\n",
       "      <td>1</td>\n",
       "      <td>1</td>\n",
       "      <td>1</td>\n",
       "      <td>101348.88</td>\n",
       "      <td>1</td>\n",
       "    </tr>\n",
       "    <tr>\n",
       "      <th>1</th>\n",
       "      <td>2</td>\n",
       "      <td>15647311</td>\n",
       "      <td>Hill</td>\n",
       "      <td>608</td>\n",
       "      <td>Spain</td>\n",
       "      <td>Female</td>\n",
       "      <td>41</td>\n",
       "      <td>1</td>\n",
       "      <td>83807.86</td>\n",
       "      <td>1</td>\n",
       "      <td>0</td>\n",
       "      <td>1</td>\n",
       "      <td>112542.58</td>\n",
       "      <td>0</td>\n",
       "    </tr>\n",
       "    <tr>\n",
       "      <th>2</th>\n",
       "      <td>3</td>\n",
       "      <td>15619304</td>\n",
       "      <td>Onio</td>\n",
       "      <td>502</td>\n",
       "      <td>France</td>\n",
       "      <td>Female</td>\n",
       "      <td>42</td>\n",
       "      <td>8</td>\n",
       "      <td>159660.80</td>\n",
       "      <td>3</td>\n",
       "      <td>1</td>\n",
       "      <td>0</td>\n",
       "      <td>113931.57</td>\n",
       "      <td>1</td>\n",
       "    </tr>\n",
       "    <tr>\n",
       "      <th>3</th>\n",
       "      <td>4</td>\n",
       "      <td>15701354</td>\n",
       "      <td>Boni</td>\n",
       "      <td>699</td>\n",
       "      <td>France</td>\n",
       "      <td>Female</td>\n",
       "      <td>39</td>\n",
       "      <td>1</td>\n",
       "      <td>0.00</td>\n",
       "      <td>2</td>\n",
       "      <td>0</td>\n",
       "      <td>0</td>\n",
       "      <td>93826.63</td>\n",
       "      <td>0</td>\n",
       "    </tr>\n",
       "    <tr>\n",
       "      <th>4</th>\n",
       "      <td>5</td>\n",
       "      <td>15737888</td>\n",
       "      <td>Mitchell</td>\n",
       "      <td>850</td>\n",
       "      <td>Spain</td>\n",
       "      <td>Female</td>\n",
       "      <td>43</td>\n",
       "      <td>2</td>\n",
       "      <td>125510.82</td>\n",
       "      <td>1</td>\n",
       "      <td>1</td>\n",
       "      <td>1</td>\n",
       "      <td>79084.10</td>\n",
       "      <td>0</td>\n",
       "    </tr>\n",
       "  </tbody>\n",
       "</table>\n",
       "</div>"
      ],
      "text/plain": [
       "   RowNumber  CustomerId   Surname  CreditScore Geography  Gender  Age  \\\n",
       "0          1    15634602  Hargrave          619    France  Female   42   \n",
       "1          2    15647311      Hill          608     Spain  Female   41   \n",
       "2          3    15619304      Onio          502    France  Female   42   \n",
       "3          4    15701354      Boni          699    France  Female   39   \n",
       "4          5    15737888  Mitchell          850     Spain  Female   43   \n",
       "\n",
       "   Tenure    Balance  NumOfProducts  HasCrCard  IsActiveMember  \\\n",
       "0       2       0.00              1          1               1   \n",
       "1       1   83807.86              1          0               1   \n",
       "2       8  159660.80              3          1               0   \n",
       "3       1       0.00              2          0               0   \n",
       "4       2  125510.82              1          1               1   \n",
       "\n",
       "   EstimatedSalary  Exited  \n",
       "0        101348.88       1  \n",
       "1        112542.58       0  \n",
       "2        113931.57       1  \n",
       "3         93826.63       0  \n",
       "4         79084.10       0  "
      ]
     },
     "execution_count": 337,
     "metadata": {},
     "output_type": "execute_result"
    }
   ],
   "source": [
    "data.head()"
   ]
  },
  {
   "cell_type": "code",
   "execution_count": 338,
   "metadata": {
    "execution": {
     "iopub.execute_input": "2022-03-12T05:40:25.215377Z",
     "iopub.status.busy": "2022-03-12T05:40:25.214753Z",
     "iopub.status.idle": "2022-03-12T05:40:25.242500Z",
     "shell.execute_reply": "2022-03-12T05:40:25.241617Z",
     "shell.execute_reply.started": "2022-03-12T05:40:25.215332Z"
    }
   },
   "outputs": [
    {
     "name": "stdout",
     "output_type": "stream",
     "text": [
      "<class 'pandas.core.frame.DataFrame'>\n",
      "RangeIndex: 10000 entries, 0 to 9999\n",
      "Data columns (total 14 columns):\n",
      " #   Column           Non-Null Count  Dtype  \n",
      "---  ------           --------------  -----  \n",
      " 0   RowNumber        10000 non-null  int64  \n",
      " 1   CustomerId       10000 non-null  int64  \n",
      " 2   Surname          10000 non-null  object \n",
      " 3   CreditScore      10000 non-null  int64  \n",
      " 4   Geography        10000 non-null  object \n",
      " 5   Gender           10000 non-null  object \n",
      " 6   Age              10000 non-null  int64  \n",
      " 7   Tenure           10000 non-null  int64  \n",
      " 8   Balance          10000 non-null  float64\n",
      " 9   NumOfProducts    10000 non-null  int64  \n",
      " 10  HasCrCard        10000 non-null  int64  \n",
      " 11  IsActiveMember   10000 non-null  int64  \n",
      " 12  EstimatedSalary  10000 non-null  float64\n",
      " 13  Exited           10000 non-null  int64  \n",
      "dtypes: float64(2), int64(9), object(3)\n",
      "memory usage: 1.1+ MB\n"
     ]
    }
   ],
   "source": [
    "data.info()"
   ]
  },
  {
   "cell_type": "code",
   "execution_count": 339,
   "metadata": {
    "execution": {
     "iopub.execute_input": "2022-03-12T05:40:25.244439Z",
     "iopub.status.busy": "2022-03-12T05:40:25.243961Z",
     "iopub.status.idle": "2022-03-12T05:40:25.264110Z",
     "shell.execute_reply": "2022-03-12T05:40:25.263058Z",
     "shell.execute_reply.started": "2022-03-12T05:40:25.244380Z"
    }
   },
   "outputs": [
    {
     "data": {
      "text/plain": [
       "0"
      ]
     },
     "execution_count": 339,
     "metadata": {},
     "output_type": "execute_result"
    }
   ],
   "source": [
    "data.duplicated().sum()"
   ]
  },
  {
   "cell_type": "code",
   "execution_count": 340,
   "metadata": {
    "execution": {
     "iopub.execute_input": "2022-03-12T05:40:25.265842Z",
     "iopub.status.busy": "2022-03-12T05:40:25.265438Z",
     "iopub.status.idle": "2022-03-12T05:40:25.273902Z",
     "shell.execute_reply": "2022-03-12T05:40:25.273190Z",
     "shell.execute_reply.started": "2022-03-12T05:40:25.265795Z"
    }
   },
   "outputs": [],
   "source": [
    "# Dropping unnecessary features\n",
    "data.drop(columns=['RowNumber','CustomerId','Surname'],inplace=True)"
   ]
  },
  {
   "cell_type": "code",
   "execution_count": 341,
   "metadata": {
    "execution": {
     "iopub.execute_input": "2022-03-12T05:40:25.275543Z",
     "iopub.status.busy": "2022-03-12T05:40:25.274935Z",
     "iopub.status.idle": "2022-03-12T05:40:25.295311Z",
     "shell.execute_reply": "2022-03-12T05:40:25.294603Z",
     "shell.execute_reply.started": "2022-03-12T05:40:25.275506Z"
    }
   },
   "outputs": [
    {
     "data": {
      "text/html": [
       "<div>\n",
       "<style scoped>\n",
       "    .dataframe tbody tr th:only-of-type {\n",
       "        vertical-align: middle;\n",
       "    }\n",
       "\n",
       "    .dataframe tbody tr th {\n",
       "        vertical-align: top;\n",
       "    }\n",
       "\n",
       "    .dataframe thead th {\n",
       "        text-align: right;\n",
       "    }\n",
       "</style>\n",
       "<table border=\"1\" class=\"dataframe\">\n",
       "  <thead>\n",
       "    <tr style=\"text-align: right;\">\n",
       "      <th></th>\n",
       "      <th>CreditScore</th>\n",
       "      <th>Geography</th>\n",
       "      <th>Gender</th>\n",
       "      <th>Age</th>\n",
       "      <th>Tenure</th>\n",
       "      <th>Balance</th>\n",
       "      <th>NumOfProducts</th>\n",
       "      <th>HasCrCard</th>\n",
       "      <th>IsActiveMember</th>\n",
       "      <th>EstimatedSalary</th>\n",
       "      <th>Exited</th>\n",
       "    </tr>\n",
       "  </thead>\n",
       "  <tbody>\n",
       "    <tr>\n",
       "      <th>0</th>\n",
       "      <td>619</td>\n",
       "      <td>France</td>\n",
       "      <td>Female</td>\n",
       "      <td>42</td>\n",
       "      <td>2</td>\n",
       "      <td>0.00</td>\n",
       "      <td>1</td>\n",
       "      <td>1</td>\n",
       "      <td>1</td>\n",
       "      <td>101348.88</td>\n",
       "      <td>1</td>\n",
       "    </tr>\n",
       "    <tr>\n",
       "      <th>1</th>\n",
       "      <td>608</td>\n",
       "      <td>Spain</td>\n",
       "      <td>Female</td>\n",
       "      <td>41</td>\n",
       "      <td>1</td>\n",
       "      <td>83807.86</td>\n",
       "      <td>1</td>\n",
       "      <td>0</td>\n",
       "      <td>1</td>\n",
       "      <td>112542.58</td>\n",
       "      <td>0</td>\n",
       "    </tr>\n",
       "    <tr>\n",
       "      <th>2</th>\n",
       "      <td>502</td>\n",
       "      <td>France</td>\n",
       "      <td>Female</td>\n",
       "      <td>42</td>\n",
       "      <td>8</td>\n",
       "      <td>159660.80</td>\n",
       "      <td>3</td>\n",
       "      <td>1</td>\n",
       "      <td>0</td>\n",
       "      <td>113931.57</td>\n",
       "      <td>1</td>\n",
       "    </tr>\n",
       "  </tbody>\n",
       "</table>\n",
       "</div>"
      ],
      "text/plain": [
       "   CreditScore Geography  Gender  Age  Tenure    Balance  NumOfProducts  \\\n",
       "0          619    France  Female   42       2       0.00              1   \n",
       "1          608     Spain  Female   41       1   83807.86              1   \n",
       "2          502    France  Female   42       8  159660.80              3   \n",
       "\n",
       "   HasCrCard  IsActiveMember  EstimatedSalary  Exited  \n",
       "0          1               1        101348.88       1  \n",
       "1          0               1        112542.58       0  \n",
       "2          1               0        113931.57       1  "
      ]
     },
     "execution_count": 341,
     "metadata": {},
     "output_type": "execute_result"
    }
   ],
   "source": [
    "data.head(3)"
   ]
  },
  {
   "cell_type": "code",
   "execution_count": 342,
   "metadata": {
    "execution": {
     "iopub.execute_input": "2022-03-12T05:40:25.298291Z",
     "iopub.status.busy": "2022-03-12T05:40:25.297561Z",
     "iopub.status.idle": "2022-03-12T05:40:25.320991Z",
     "shell.execute_reply": "2022-03-12T05:40:25.320179Z",
     "shell.execute_reply.started": "2022-03-12T05:40:25.298241Z"
    }
   },
   "outputs": [
    {
     "data": {
      "text/html": [
       "<div>\n",
       "<style scoped>\n",
       "    .dataframe tbody tr th:only-of-type {\n",
       "        vertical-align: middle;\n",
       "    }\n",
       "\n",
       "    .dataframe tbody tr th {\n",
       "        vertical-align: top;\n",
       "    }\n",
       "\n",
       "    .dataframe thead th {\n",
       "        text-align: right;\n",
       "    }\n",
       "</style>\n",
       "<table border=\"1\" class=\"dataframe\">\n",
       "  <thead>\n",
       "    <tr style=\"text-align: right;\">\n",
       "      <th></th>\n",
       "      <th>CreditScore</th>\n",
       "      <th>Age</th>\n",
       "      <th>Tenure</th>\n",
       "      <th>Balance</th>\n",
       "      <th>NumOfProducts</th>\n",
       "      <th>HasCrCard</th>\n",
       "      <th>IsActiveMember</th>\n",
       "      <th>EstimatedSalary</th>\n",
       "      <th>Exited</th>\n",
       "      <th>Geography_Germany</th>\n",
       "      <th>Geography_Spain</th>\n",
       "      <th>Gender_Male</th>\n",
       "    </tr>\n",
       "  </thead>\n",
       "  <tbody>\n",
       "    <tr>\n",
       "      <th>0</th>\n",
       "      <td>619</td>\n",
       "      <td>42</td>\n",
       "      <td>2</td>\n",
       "      <td>0.00</td>\n",
       "      <td>1</td>\n",
       "      <td>1</td>\n",
       "      <td>1</td>\n",
       "      <td>101348.88</td>\n",
       "      <td>1</td>\n",
       "      <td>0</td>\n",
       "      <td>0</td>\n",
       "      <td>0</td>\n",
       "    </tr>\n",
       "    <tr>\n",
       "      <th>1</th>\n",
       "      <td>608</td>\n",
       "      <td>41</td>\n",
       "      <td>1</td>\n",
       "      <td>83807.86</td>\n",
       "      <td>1</td>\n",
       "      <td>0</td>\n",
       "      <td>1</td>\n",
       "      <td>112542.58</td>\n",
       "      <td>0</td>\n",
       "      <td>0</td>\n",
       "      <td>1</td>\n",
       "      <td>0</td>\n",
       "    </tr>\n",
       "    <tr>\n",
       "      <th>2</th>\n",
       "      <td>502</td>\n",
       "      <td>42</td>\n",
       "      <td>8</td>\n",
       "      <td>159660.80</td>\n",
       "      <td>3</td>\n",
       "      <td>1</td>\n",
       "      <td>0</td>\n",
       "      <td>113931.57</td>\n",
       "      <td>1</td>\n",
       "      <td>0</td>\n",
       "      <td>0</td>\n",
       "      <td>0</td>\n",
       "    </tr>\n",
       "  </tbody>\n",
       "</table>\n",
       "</div>"
      ],
      "text/plain": [
       "   CreditScore  Age  Tenure    Balance  NumOfProducts  HasCrCard  \\\n",
       "0          619   42       2       0.00              1          1   \n",
       "1          608   41       1   83807.86              1          0   \n",
       "2          502   42       8  159660.80              3          1   \n",
       "\n",
       "   IsActiveMember  EstimatedSalary  Exited  Geography_Germany  \\\n",
       "0               1        101348.88       1                  0   \n",
       "1               1        112542.58       0                  0   \n",
       "2               0        113931.57       1                  0   \n",
       "\n",
       "   Geography_Spain  Gender_Male  \n",
       "0                0            0  \n",
       "1                1            0  \n",
       "2                0            0  "
      ]
     },
     "execution_count": 342,
     "metadata": {},
     "output_type": "execute_result"
    }
   ],
   "source": [
    "# Encoding features 'Geography' and 'Gender' \n",
    "df = pd.get_dummies(data,columns=['Geography','Gender'],drop_first=True)\n",
    "df.head(3)"
   ]
  },
  {
   "cell_type": "code",
   "execution_count": 343,
   "metadata": {
    "execution": {
     "iopub.execute_input": "2022-03-12T05:40:25.322360Z",
     "iopub.status.busy": "2022-03-12T05:40:25.322134Z",
     "iopub.status.idle": "2022-03-12T05:40:25.329720Z",
     "shell.execute_reply": "2022-03-12T05:40:25.328908Z",
     "shell.execute_reply.started": "2022-03-12T05:40:25.322329Z"
    }
   },
   "outputs": [],
   "source": [
    "# Extracting input and output features\n",
    "x = df.drop(columns=['Exited'])\n",
    "y = df['Exited']"
   ]
  },
  {
   "cell_type": "code",
   "execution_count": 344,
   "metadata": {
    "execution": {
     "iopub.execute_input": "2022-03-12T05:40:25.331561Z",
     "iopub.status.busy": "2022-03-12T05:40:25.331242Z",
     "iopub.status.idle": "2022-03-12T05:40:26.448924Z",
     "shell.execute_reply": "2022-03-12T05:40:26.447991Z",
     "shell.execute_reply.started": "2022-03-12T05:40:25.331520Z"
    }
   },
   "outputs": [],
   "source": [
    "# Data splitting\n",
    "from sklearn.model_selection import train_test_split\n",
    "\n",
    "train_x,test_x,train_y,test_y = train_test_split(x,y,test_size=0.2,random_state=108)"
   ]
  },
  {
   "cell_type": "code",
   "execution_count": 345,
   "metadata": {
    "execution": {
     "iopub.execute_input": "2022-03-12T05:40:26.450225Z",
     "iopub.status.busy": "2022-03-12T05:40:26.450004Z",
     "iopub.status.idle": "2022-03-12T05:40:26.456413Z",
     "shell.execute_reply": "2022-03-12T05:40:26.455423Z",
     "shell.execute_reply.started": "2022-03-12T05:40:26.450198Z"
    }
   },
   "outputs": [
    {
     "data": {
      "text/plain": [
       "((8000, 11), (2000, 11), (8000,), (2000,))"
      ]
     },
     "execution_count": 345,
     "metadata": {},
     "output_type": "execute_result"
    }
   ],
   "source": [
    "train_x.shape,test_x.shape,train_y.shape,test_y.shape"
   ]
  },
  {
   "cell_type": "code",
   "execution_count": 346,
   "metadata": {
    "execution": {
     "iopub.execute_input": "2022-03-12T05:40:26.458578Z",
     "iopub.status.busy": "2022-03-12T05:40:26.457755Z",
     "iopub.status.idle": "2022-03-12T05:40:26.476331Z",
     "shell.execute_reply": "2022-03-12T05:40:26.475593Z",
     "shell.execute_reply.started": "2022-03-12T05:40:26.458532Z"
    }
   },
   "outputs": [],
   "source": [
    "# Scaling Data\n",
    "from sklearn.preprocessing import StandardScaler\n",
    "\n",
    "scal = StandardScaler()\n",
    "\n",
    "train_x_scal = scal.fit_transform(train_x)\n",
    "test_x_scal = scal.fit_transform(test_x)"
   ]
  },
  {
   "cell_type": "code",
   "execution_count": 347,
   "metadata": {
    "execution": {
     "iopub.execute_input": "2022-03-12T05:40:26.477905Z",
     "iopub.status.busy": "2022-03-12T05:40:26.477538Z",
     "iopub.status.idle": "2022-03-12T05:40:32.259228Z",
     "shell.execute_reply": "2022-03-12T05:40:32.258444Z",
     "shell.execute_reply.started": "2022-03-12T05:40:26.477870Z"
    }
   },
   "outputs": [],
   "source": [
    "# Import Libraries\n",
    "import tensorflow\n",
    "from tensorflow import keras\n",
    "from tensorflow.keras import Sequential\n",
    "from tensorflow.keras.layers import Dense"
   ]
  },
  {
   "cell_type": "markdown",
   "metadata": {},
   "source": [
    "There will be:\n",
    "1. 1 input layer\n",
    "2. 1 hidden layer ==> will put 3 nodes/perceptron in hidden layer\n",
    "3. 1 output layer"
   ]
  },
  {
   "cell_type": "code",
   "execution_count": 348,
   "metadata": {
    "execution": {
     "iopub.execute_input": "2022-03-12T05:40:32.262012Z",
     "iopub.status.busy": "2022-03-12T05:40:32.261679Z",
     "iopub.status.idle": "2022-03-12T05:40:32.373372Z",
     "shell.execute_reply": "2022-03-12T05:40:32.372701Z",
     "shell.execute_reply.started": "2022-03-12T05:40:32.261979Z"
    }
   },
   "outputs": [],
   "source": [
    "# Building model\n",
    "model = Sequential()\n",
    "\n",
    "# Input layer\n",
    "model.add(Dense(3,activation='sigmoid',input_dim=11))\n",
    "# Output layer\n",
    "model.add(Dense(1,activation='sigmoid'))"
   ]
  },
  {
   "cell_type": "code",
   "execution_count": 349,
   "metadata": {
    "execution": {
     "iopub.execute_input": "2022-03-12T05:40:32.374990Z",
     "iopub.status.busy": "2022-03-12T05:40:32.374286Z",
     "iopub.status.idle": "2022-03-12T05:40:32.381307Z",
     "shell.execute_reply": "2022-03-12T05:40:32.380572Z",
     "shell.execute_reply.started": "2022-03-12T05:40:32.374953Z"
    }
   },
   "outputs": [
    {
     "name": "stdout",
     "output_type": "stream",
     "text": [
      "Model: \"sequential_21\"\n",
      "_________________________________________________________________\n",
      " Layer (type)                Output Shape              Param #   \n",
      "=================================================================\n",
      " dense_50 (Dense)            (None, 3)                 36        \n",
      "                                                                 \n",
      " dense_51 (Dense)            (None, 1)                 4         \n",
      "                                                                 \n",
      "=================================================================\n",
      "Total params: 40 (160.00 Byte)\n",
      "Trainable params: 40 (160.00 Byte)\n",
      "Non-trainable params: 0 (0.00 Byte)\n",
      "_________________________________________________________________\n"
     ]
    }
   ],
   "source": [
    "# Summary of model\n",
    "model.summary()"
   ]
  },
  {
   "cell_type": "markdown",
   "metadata": {},
   "source": [
    "**`model compilation stage`**<br>\n",
    "1. Decide which loss function to use\n",
    "2. Decide which optimizer to use for Gradean Descent"
   ]
  },
  {
   "cell_type": "code",
   "execution_count": 350,
   "metadata": {
    "execution": {
     "iopub.execute_input": "2022-03-12T05:40:32.383158Z",
     "iopub.status.busy": "2022-03-12T05:40:32.382445Z",
     "iopub.status.idle": "2022-03-12T05:40:32.399052Z",
     "shell.execute_reply": "2022-03-12T05:40:32.397820Z",
     "shell.execute_reply.started": "2022-03-12T05:40:32.383122Z"
    }
   },
   "outputs": [],
   "source": [
    "#binary_crossentropy or can say log loss \n",
    "model.compile(loss='binary_crossentropy',optimizer='Adam')"
   ]
  },
  {
   "cell_type": "code",
   "execution_count": 351,
   "metadata": {
    "execution": {
     "iopub.execute_input": "2022-03-12T05:40:32.400645Z",
     "iopub.status.busy": "2022-03-12T05:40:32.400221Z",
     "iopub.status.idle": "2022-03-12T05:40:35.395738Z",
     "shell.execute_reply": "2022-03-12T05:40:35.394983Z",
     "shell.execute_reply.started": "2022-03-12T05:40:32.400598Z"
    }
   },
   "outputs": [
    {
     "name": "stdout",
     "output_type": "stream",
     "text": [
      "Epoch 1/10\n",
      "250/250 [==============================] - 2s 3ms/step - loss: 0.6126\n",
      "Epoch 2/10\n",
      "250/250 [==============================] - 1s 3ms/step - loss: 0.5052\n",
      "Epoch 3/10\n",
      "250/250 [==============================] - 1s 3ms/step - loss: 0.4643\n",
      "Epoch 4/10\n",
      "250/250 [==============================] - 1s 3ms/step - loss: 0.4476\n",
      "Epoch 5/10\n",
      "250/250 [==============================] - 1s 3ms/step - loss: 0.4389\n",
      "Epoch 6/10\n",
      "250/250 [==============================] - 1s 3ms/step - loss: 0.4335\n",
      "Epoch 7/10\n",
      "250/250 [==============================] - 1s 3ms/step - loss: 0.4299\n",
      "Epoch 8/10\n",
      "250/250 [==============================] - 1s 3ms/step - loss: 0.4273\n",
      "Epoch 9/10\n",
      "250/250 [==============================] - 1s 3ms/step - loss: 0.4253\n",
      "Epoch 10/10\n",
      "250/250 [==============================] - 1s 3ms/step - loss: 0.4237\n"
     ]
    }
   ],
   "source": [
    "hist = model.fit(train_x_scal, train_y,epochs=10)"
   ]
  },
  {
   "cell_type": "code",
   "execution_count": 352,
   "metadata": {
    "execution": {
     "iopub.execute_input": "2022-03-12T05:40:35.396931Z",
     "iopub.status.busy": "2022-03-12T05:40:35.396739Z",
     "iopub.status.idle": "2022-03-12T05:40:35.402950Z",
     "shell.execute_reply": "2022-03-12T05:40:35.402168Z",
     "shell.execute_reply.started": "2022-03-12T05:40:35.396907Z"
    }
   },
   "outputs": [
    {
     "data": {
      "text/plain": [
       "{'loss': [0.6125969290733337,\n",
       "  0.5052036046981812,\n",
       "  0.4643191993236542,\n",
       "  0.44758930802345276,\n",
       "  0.43885499238967896,\n",
       "  0.4334926903247833,\n",
       "  0.42988231778144836,\n",
       "  0.4272667169570923,\n",
       "  0.42531195282936096,\n",
       "  0.42373523116111755]}"
      ]
     },
     "execution_count": 352,
     "metadata": {},
     "output_type": "execute_result"
    }
   ],
   "source": [
    "hist.history"
   ]
  },
  {
   "cell_type": "code",
   "execution_count": 353,
   "metadata": {
    "execution": {
     "iopub.execute_input": "2022-03-12T05:40:35.405055Z",
     "iopub.status.busy": "2022-03-12T05:40:35.404155Z",
     "iopub.status.idle": "2022-03-12T05:40:35.609407Z",
     "shell.execute_reply": "2022-03-12T05:40:35.608743Z",
     "shell.execute_reply.started": "2022-03-12T05:40:35.405005Z"
    },
    "scrolled": true
   },
   "outputs": [
    {
     "data": {
      "image/png": "[encoded data removed]",
      "text/plain": [
       "<Figure size 640x480 with 1 Axes>"
      ]
     },
     "metadata": {},
     "output_type": "display_data"
    }
   ],
   "source": [
    "import matplotlib.pyplot as plt\n",
    "\n",
    "plt.plot(hist.history['loss'])\n",
    "plt.show()"
   ]
  },
  {
   "cell_type": "code",
   "execution_count": 354,
   "metadata": {},
   "outputs": [],
   "source": [
    "# Get weights and biases for the first hidden layer\n",
    "weights_hidden_layer = model.layers[0].get_weights()[0]\n",
    "biases_hidden_layer = model.layers[0].get_weights()[1]\n",
    "\n",
    "# Get weights and biases for the output layer\n",
    "weights_output_layer = model.layers[1].get_weights()[0]\n",
    "biases_output_layer = model.layers[1].get_weights()[1]"
   ]
  },
  {
   "cell_type": "code",
   "execution_count": 355,
   "metadata": {},
   "outputs": [
    {
     "data": {
      "text/plain": [
       "array([[ 0.09240267, -0.02782314, -0.02001058],\n",
       "       [-1.2658898 , -1.5125557 ,  0.45085406],\n",
       "       [ 0.14999975,  0.26878497,  0.42722538],\n",
       "       [-0.18789464, -0.31214827, -0.04868461],\n",
       "       [ 0.03123307, -0.08660139, -0.71424645],\n",
       "       [ 0.07400771, -0.02963317, -0.14161462],\n",
       "       [ 0.76538   ,  0.46037135, -0.39311215],\n",
       "       [ 0.19555174, -0.25243288,  0.11836012],\n",
       "       [-0.21869873, -0.41712582,  0.88701236],\n",
       "       [ 0.02074012,  0.01029627, -0.10208097],\n",
       "       [ 0.22922245,  0.6276958 , -0.14224419]], dtype=float32)"
      ]
     },
     "execution_count": 355,
     "metadata": {},
     "output_type": "execute_result"
    }
   ],
   "source": [
    "weights_hidden_layer"
   ]
  },
  {
   "cell_type": "code",
   "execution_count": 356,
   "metadata": {},
   "outputs": [
    {
     "data": {
      "text/plain": [
       "array([ 0.45440927,  0.38173547, -0.4508704 ], dtype=float32)"
      ]
     },
     "execution_count": 356,
     "metadata": {},
     "output_type": "execute_result"
    }
   ],
   "source": [
    "biases_hidden_layer"
   ]
  },
  {
   "cell_type": "code",
   "execution_count": 357,
   "metadata": {},
   "outputs": [
    {
     "data": {
      "text/plain": [
       "array([[-1.4220502],\n",
       "       [-1.3336822],\n",
       "       [ 0.8342154]], dtype=float32)"
      ]
     },
     "execution_count": 357,
     "metadata": {},
     "output_type": "execute_result"
    }
   ],
   "source": [
    "weights_output_layer"
   ]
  },
  {
   "cell_type": "code",
   "execution_count": 358,
   "metadata": {},
   "outputs": [
    {
     "data": {
      "text/plain": [
       "array([-0.36348116], dtype=float32)"
      ]
     },
     "execution_count": 358,
     "metadata": {},
     "output_type": "execute_result"
    }
   ],
   "source": [
    "biases_output_layer"
   ]
  },
  {
   "cell_type": "markdown",
   "metadata": {},
   "source": [
    "Here we have all `Weights and Biases` of our model.\n",
    " Let's check all `Weights and Biases` of model now\n"
   ]
  },
  {
   "cell_type": "code",
   "execution_count": 361,
   "metadata": {
    "execution": {
     "iopub.execute_input": "2022-03-12T05:40:35.633041Z",
     "iopub.status.busy": "2022-03-12T05:40:35.632450Z",
     "iopub.status.idle": "2022-03-12T05:40:35.805126Z",
     "shell.execute_reply": "2022-03-12T05:40:35.804079Z",
     "shell.execute_reply.started": "2022-03-12T05:40:35.632994Z"
    }
   },
   "outputs": [
    {
     "name": "stdout",
     "output_type": "stream",
     "text": [
      "63/63 [==============================] - 0s 2ms/step\n"
     ]
    },
    {
     "data": {
      "text/plain": [
       "array([[0.20048788],\n",
       "       [0.09069246],\n",
       "       [0.12018421],\n",
       "       ...,\n",
       "       [0.09865567],\n",
       "       [0.10524528],\n",
       "       [0.07754422]], dtype=float32)"
      ]
     },
     "execution_count": 361,
     "metadata": {},
     "output_type": "execute_result"
    }
   ],
   "source": [
    "#predictions \n",
    "model.predict(test_x_scal)"
   ]
  },
  {
   "cell_type": "markdown",
   "metadata": {},
   "source": [
    "The first row corresponds to the predicted probability for the first sample in the test set.\n",
    "The second row corresponds to the predicted probability for the second sample, and so on.\n",
    "Each value in the array is a probability between 0 and 1. For binary classification tasks, a common threshold value is 0.5. If the predicted probability is greater than 0.5, the sample is predicted to belong to class 1; otherwise, it is predicted to belong to class 0."
   ]
  },
  {
   "cell_type": "code",
   "execution_count": 362,
   "metadata": {
    "execution": {
     "iopub.execute_input": "2022-03-12T05:40:35.806511Z",
     "iopub.status.busy": "2022-03-12T05:40:35.806272Z",
     "iopub.status.idle": "2022-03-12T05:40:35.908274Z",
     "shell.execute_reply": "2022-03-12T05:40:35.907295Z",
     "shell.execute_reply.started": "2022-03-12T05:40:35.806474Z"
    }
   },
   "outputs": [
    {
     "name": "stdout",
     "output_type": "stream",
     "text": [
      "63/63 [==============================] - 0s 2ms/step\n"
     ]
    },
    {
     "data": {
      "text/plain": [
       "array([[0],\n",
       "       [0],\n",
       "       [0],\n",
       "       ...,\n",
       "       [0],\n",
       "       [0],\n",
       "       [0]])"
      ]
     },
     "execution_count": 362,
     "metadata": {},
     "output_type": "execute_result"
    }
   ],
   "source": [
    "#output in classes now\n",
    "y_pred = np.where(model.predict(test_x_scal)>0.5,1,0)\n",
    "y_pred"
   ]
  },
  {
   "cell_type": "markdown",
   "metadata": {},
   "source": [
    "The 'np.where' function is then used to convert these probabilities into binary predictions.\n",
    "If the predicted probability is greater than 0.5, the corresponding element in y_pred is set to 1.\n",
    "If the predicted probability is less than or equal to 0.5, the corresponding element in y_pred is set to 0."
   ]
  },
  {
   "cell_type": "code",
   "execution_count": 363,
   "metadata": {
    "execution": {
     "iopub.execute_input": "2022-03-12T05:40:35.909666Z",
     "iopub.status.busy": "2022-03-12T05:40:35.909465Z",
     "iopub.status.idle": "2022-03-12T05:40:35.915834Z",
     "shell.execute_reply": "2022-03-12T05:40:35.915238Z",
     "shell.execute_reply.started": "2022-03-12T05:40:35.909641Z"
    }
   },
   "outputs": [
    {
     "data": {
      "text/plain": [
       "0.8035"
      ]
     },
     "execution_count": 363,
     "metadata": {},
     "output_type": "execute_result"
    }
   ],
   "source": [
    "# Check for accuracy score\n",
    "from sklearn.metrics import accuracy_score\n",
    "\n",
    "accuracy_score(test_y,y_pred)"
   ]
  },
  {
   "cell_type": "markdown",
   "metadata": {},
   "source": [
    "For better performance,\n",
    "This can be improved by:\n",
    "1. Hidden layer activation fucntion to `ReLU`\n",
    "2. Increase Epoch to `1000`\n",
    "3. Increase number of nodes in Hidden layer \n",
    "4. Increased number of Hidden Layers  ==> can lead to overfitting"
   ]
  },
  {
   "cell_type": "code",
   "execution_count": 364,
   "metadata": {
    "execution": {
     "iopub.execute_input": "2022-03-12T05:40:35.917555Z",
     "iopub.status.busy": "2022-03-12T05:40:35.916909Z",
     "iopub.status.idle": "2022-03-12T05:40:35.955572Z",
     "shell.execute_reply": "2022-03-12T05:40:35.954739Z",
     "shell.execute_reply.started": "2022-03-12T05:40:35.917518Z"
    }
   },
   "outputs": [
    {
     "name": "stdout",
     "output_type": "stream",
     "text": [
      "Model: \"sequential_22\"\n",
      "_________________________________________________________________\n",
      " Layer (type)                Output Shape              Param #   \n",
      "=================================================================\n",
      " dense_52 (Dense)            (None, 11)                132       \n",
      "                                                                 \n",
      " dense_53 (Dense)            (None, 11)                132       \n",
      "                                                                 \n",
      " dense_54 (Dense)            (None, 1)                 12        \n",
      "                                                                 \n",
      "=================================================================\n",
      "Total params: 276 (1.08 KB)\n",
      "Trainable params: 276 (1.08 KB)\n",
      "Non-trainable params: 0 (0.00 Byte)\n",
      "_________________________________________________________________\n"
     ]
    }
   ],
   "source": [
    "# Building model\n",
    "model = Sequential()\n",
    "\n",
    "# Input layer\n",
    "model.add(Dense(11,activation='relu',input_dim=11))\n",
    "model.add(Dense(11,activation='relu'))\n",
    "# Output layer\n",
    "model.add(Dense(1,activation='sigmoid'))\n",
    "\n",
    "model.summary()"
   ]
  },
  {
   "cell_type": "code",
   "execution_count": 365,
   "metadata": {
    "execution": {
     "iopub.execute_input": "2022-03-12T05:40:35.957454Z",
     "iopub.status.busy": "2022-03-12T05:40:35.956990Z",
     "iopub.status.idle": "2022-03-12T05:41:11.534060Z",
     "shell.execute_reply": "2022-03-12T05:41:11.533263Z",
     "shell.execute_reply.started": "2022-03-12T05:40:35.957422Z"
    },
    "jupyter": {
     "outputs_hidden": true
    }
   },
   "outputs": [
    {
     "name": "stdout",
     "output_type": "stream",
     "text": [
      "Epoch 1/100\n",
      "200/200 [==============================] - 3s 4ms/step - loss: 0.5193 - accuracy: 0.7686 - val_loss: 0.4478 - val_accuracy: 0.8112\n",
      "Epoch 2/100\n",
      "200/200 [==============================] - 1s 3ms/step - loss: 0.4456 - accuracy: 0.8044 - val_loss: 0.4244 - val_accuracy: 0.8112\n",
      "Epoch 3/100\n",
      "200/200 [==============================] - 1s 3ms/step - loss: 0.4232 - accuracy: 0.8098 - val_loss: 0.4142 - val_accuracy: 0.8144\n",
      "Epoch 4/100\n",
      "200/200 [==============================] - 1s 3ms/step - loss: 0.4092 - accuracy: 0.8177 - val_loss: 0.4064 - val_accuracy: 0.8138\n",
      "Epoch 5/100\n",
      "200/200 [==============================] - 1s 3ms/step - loss: 0.3953 - accuracy: 0.8291 - val_loss: 0.3939 - val_accuracy: 0.8213\n",
      "Epoch 6/100\n",
      "200/200 [==============================] - 1s 3ms/step - loss: 0.3809 - accuracy: 0.8381 - val_loss: 0.3836 - val_accuracy: 0.8338\n",
      "Epoch 7/100\n",
      "200/200 [==============================] - 1s 4ms/step - loss: 0.3699 - accuracy: 0.8448 - val_loss: 0.3742 - val_accuracy: 0.8394\n",
      "Epoch 8/100\n",
      "200/200 [==============================] - 1s 4ms/step - loss: 0.3618 - accuracy: 0.8483 - val_loss: 0.3690 - val_accuracy: 0.8431\n",
      "Epoch 9/100\n",
      "200/200 [==============================] - 1s 4ms/step - loss: 0.3562 - accuracy: 0.8525 - val_loss: 0.3648 - val_accuracy: 0.8444\n",
      "Epoch 10/100\n",
      "200/200 [==============================] - 1s 4ms/step - loss: 0.3523 - accuracy: 0.8561 - val_loss: 0.3618 - val_accuracy: 0.8481\n",
      "Epoch 11/100\n",
      "200/200 [==============================] - 1s 4ms/step - loss: 0.3491 - accuracy: 0.8570 - val_loss: 0.3589 - val_accuracy: 0.8512\n",
      "Epoch 12/100\n",
      "200/200 [==============================] - 1s 4ms/step - loss: 0.3463 - accuracy: 0.8550 - val_loss: 0.3567 - val_accuracy: 0.8537\n",
      "Epoch 13/100\n",
      "200/200 [==============================] - 1s 4ms/step - loss: 0.3439 - accuracy: 0.8577 - val_loss: 0.3554 - val_accuracy: 0.8506\n",
      "Epoch 14/100\n",
      "200/200 [==============================] - 1s 4ms/step - loss: 0.3421 - accuracy: 0.8584 - val_loss: 0.3536 - val_accuracy: 0.8525\n",
      "Epoch 15/100\n",
      "200/200 [==============================] - 1s 4ms/step - loss: 0.3402 - accuracy: 0.8603 - val_loss: 0.3532 - val_accuracy: 0.8506\n",
      "Epoch 16/100\n",
      "200/200 [==============================] - 1s 4ms/step - loss: 0.3380 - accuracy: 0.8600 - val_loss: 0.3536 - val_accuracy: 0.8537\n",
      "Epoch 17/100\n",
      "200/200 [==============================] - 1s 4ms/step - loss: 0.3372 - accuracy: 0.8616 - val_loss: 0.3527 - val_accuracy: 0.8500\n",
      "Epoch 18/100\n",
      "200/200 [==============================] - 1s 4ms/step - loss: 0.3360 - accuracy: 0.8617 - val_loss: 0.3509 - val_accuracy: 0.8525\n",
      "Epoch 19/100\n",
      "200/200 [==============================] - 1s 3ms/step - loss: 0.3354 - accuracy: 0.8608 - val_loss: 0.3500 - val_accuracy: 0.8506\n",
      "Epoch 20/100\n",
      "200/200 [==============================] - 1s 3ms/step - loss: 0.3333 - accuracy: 0.8616 - val_loss: 0.3506 - val_accuracy: 0.8550\n",
      "Epoch 21/100\n",
      "200/200 [==============================] - 1s 3ms/step - loss: 0.3331 - accuracy: 0.8602 - val_loss: 0.3495 - val_accuracy: 0.8494\n",
      "Epoch 22/100\n",
      "200/200 [==============================] - 1s 3ms/step - loss: 0.3325 - accuracy: 0.8634 - val_loss: 0.3483 - val_accuracy: 0.8519\n",
      "Epoch 23/100\n",
      "200/200 [==============================] - 1s 3ms/step - loss: 0.3317 - accuracy: 0.8617 - val_loss: 0.3493 - val_accuracy: 0.8462\n",
      "Epoch 24/100\n",
      "200/200 [==============================] - 1s 3ms/step - loss: 0.3312 - accuracy: 0.8608 - val_loss: 0.3495 - val_accuracy: 0.8512\n",
      "Epoch 25/100\n",
      "200/200 [==============================] - 1s 3ms/step - loss: 0.3313 - accuracy: 0.8608 - val_loss: 0.3482 - val_accuracy: 0.8487\n",
      "Epoch 26/100\n",
      "200/200 [==============================] - 1s 3ms/step - loss: 0.3300 - accuracy: 0.8612 - val_loss: 0.3475 - val_accuracy: 0.8475\n",
      "Epoch 27/100\n",
      "200/200 [==============================] - 1s 3ms/step - loss: 0.3296 - accuracy: 0.8633 - val_loss: 0.3473 - val_accuracy: 0.8512\n",
      "Epoch 28/100\n",
      "200/200 [==============================] - 1s 3ms/step - loss: 0.3298 - accuracy: 0.8617 - val_loss: 0.3462 - val_accuracy: 0.8519\n",
      "Epoch 29/100\n",
      "200/200 [==============================] - 1s 3ms/step - loss: 0.3294 - accuracy: 0.8631 - val_loss: 0.3487 - val_accuracy: 0.8475\n",
      "Epoch 30/100\n",
      "200/200 [==============================] - 1s 4ms/step - loss: 0.3282 - accuracy: 0.8625 - val_loss: 0.3470 - val_accuracy: 0.8494\n",
      "Epoch 31/100\n",
      "200/200 [==============================] - 1s 4ms/step - loss: 0.3287 - accuracy: 0.8630 - val_loss: 0.3466 - val_accuracy: 0.8512\n",
      "Epoch 32/100\n",
      "200/200 [==============================] - 1s 4ms/step - loss: 0.3277 - accuracy: 0.8619 - val_loss: 0.3477 - val_accuracy: 0.8569\n",
      "Epoch 33/100\n",
      "200/200 [==============================] - 1s 4ms/step - loss: 0.3280 - accuracy: 0.8620 - val_loss: 0.3472 - val_accuracy: 0.8481\n",
      "Epoch 34/100\n",
      "200/200 [==============================] - 1s 4ms/step - loss: 0.3273 - accuracy: 0.8628 - val_loss: 0.3461 - val_accuracy: 0.8537\n",
      "Epoch 35/100\n",
      "200/200 [==============================] - 1s 4ms/step - loss: 0.3271 - accuracy: 0.8641 - val_loss: 0.3459 - val_accuracy: 0.8494\n",
      "Epoch 36/100\n",
      "200/200 [==============================] - 1s 4ms/step - loss: 0.3271 - accuracy: 0.8630 - val_loss: 0.3461 - val_accuracy: 0.8531\n",
      "Epoch 37/100\n",
      "200/200 [==============================] - 1s 4ms/step - loss: 0.3268 - accuracy: 0.8636 - val_loss: 0.3474 - val_accuracy: 0.8494\n",
      "Epoch 38/100\n",
      "200/200 [==============================] - 1s 4ms/step - loss: 0.3265 - accuracy: 0.8641 - val_loss: 0.3462 - val_accuracy: 0.8500\n",
      "Epoch 39/100\n",
      "200/200 [==============================] - 1s 4ms/step - loss: 0.3264 - accuracy: 0.8650 - val_loss: 0.3469 - val_accuracy: 0.8556\n",
      "Epoch 40/100\n",
      "200/200 [==============================] - 1s 4ms/step - loss: 0.3265 - accuracy: 0.8628 - val_loss: 0.3463 - val_accuracy: 0.8556\n",
      "Epoch 41/100\n",
      "200/200 [==============================] - 1s 3ms/step - loss: 0.3258 - accuracy: 0.8645 - val_loss: 0.3469 - val_accuracy: 0.8537\n",
      "Epoch 42/100\n",
      "200/200 [==============================] - 1s 3ms/step - loss: 0.3252 - accuracy: 0.8652 - val_loss: 0.3491 - val_accuracy: 0.8481\n",
      "Epoch 43/100\n",
      "200/200 [==============================] - 1s 3ms/step - loss: 0.3250 - accuracy: 0.8633 - val_loss: 0.3468 - val_accuracy: 0.8512\n",
      "Epoch 44/100\n",
      "200/200 [==============================] - 1s 3ms/step - loss: 0.3249 - accuracy: 0.8658 - val_loss: 0.3479 - val_accuracy: 0.8475\n",
      "Epoch 45/100\n",
      "200/200 [==============================] - 1s 3ms/step - loss: 0.3254 - accuracy: 0.8656 - val_loss: 0.3452 - val_accuracy: 0.8562\n",
      "Epoch 46/100\n",
      "200/200 [==============================] - 1s 3ms/step - loss: 0.3243 - accuracy: 0.8655 - val_loss: 0.3466 - val_accuracy: 0.8506\n",
      "Epoch 47/100\n",
      "200/200 [==============================] - 1s 3ms/step - loss: 0.3238 - accuracy: 0.8669 - val_loss: 0.3462 - val_accuracy: 0.8487\n",
      "Epoch 48/100\n",
      "200/200 [==============================] - 1s 3ms/step - loss: 0.3241 - accuracy: 0.8662 - val_loss: 0.3462 - val_accuracy: 0.8494\n",
      "Epoch 49/100\n",
      "200/200 [==============================] - 1s 3ms/step - loss: 0.3242 - accuracy: 0.8645 - val_loss: 0.3473 - val_accuracy: 0.8487\n",
      "Epoch 50/100\n",
      "200/200 [==============================] - 1s 3ms/step - loss: 0.3238 - accuracy: 0.8670 - val_loss: 0.3473 - val_accuracy: 0.8481\n",
      "Epoch 51/100\n",
      "200/200 [==============================] - 1s 3ms/step - loss: 0.3236 - accuracy: 0.8667 - val_loss: 0.3465 - val_accuracy: 0.8512\n",
      "Epoch 52/100\n",
      "200/200 [==============================] - 1s 4ms/step - loss: 0.3235 - accuracy: 0.8662 - val_loss: 0.3467 - val_accuracy: 0.8519\n",
      "Epoch 53/100\n",
      "200/200 [==============================] - 1s 4ms/step - loss: 0.3233 - accuracy: 0.8669 - val_loss: 0.3463 - val_accuracy: 0.8519\n",
      "Epoch 54/100\n",
      "200/200 [==============================] - 1s 5ms/step - loss: 0.3232 - accuracy: 0.8659 - val_loss: 0.3463 - val_accuracy: 0.8481\n",
      "Epoch 55/100\n",
      "200/200 [==============================] - 1s 5ms/step - loss: 0.3226 - accuracy: 0.8655 - val_loss: 0.3477 - val_accuracy: 0.8487\n",
      "Epoch 56/100\n",
      "200/200 [==============================] - 1s 5ms/step - loss: 0.3229 - accuracy: 0.8645 - val_loss: 0.3463 - val_accuracy: 0.8494\n",
      "Epoch 57/100\n",
      "200/200 [==============================] - 1s 5ms/step - loss: 0.3225 - accuracy: 0.8652 - val_loss: 0.3470 - val_accuracy: 0.8512\n"
     ]
    },
    {
     "name": "stdout",
     "output_type": "stream",
     "text": [
      "Epoch 58/100\n",
      "200/200 [==============================] - 1s 5ms/step - loss: 0.3222 - accuracy: 0.8664 - val_loss: 0.3471 - val_accuracy: 0.8487\n",
      "Epoch 59/100\n",
      "200/200 [==============================] - 1s 5ms/step - loss: 0.3222 - accuracy: 0.8672 - val_loss: 0.3482 - val_accuracy: 0.8494\n",
      "Epoch 60/100\n",
      "200/200 [==============================] - 1s 5ms/step - loss: 0.3221 - accuracy: 0.8655 - val_loss: 0.3473 - val_accuracy: 0.8475\n",
      "Epoch 61/100\n",
      "200/200 [==============================] - 1s 5ms/step - loss: 0.3221 - accuracy: 0.8658 - val_loss: 0.3488 - val_accuracy: 0.8487\n",
      "Epoch 62/100\n",
      "200/200 [==============================] - 1s 4ms/step - loss: 0.3221 - accuracy: 0.8667 - val_loss: 0.3483 - val_accuracy: 0.8469\n",
      "Epoch 63/100\n",
      "200/200 [==============================] - 1s 5ms/step - loss: 0.3216 - accuracy: 0.8677 - val_loss: 0.3470 - val_accuracy: 0.8500\n",
      "Epoch 64/100\n",
      "200/200 [==============================] - 1s 3ms/step - loss: 0.3214 - accuracy: 0.8653 - val_loss: 0.3478 - val_accuracy: 0.8519\n",
      "Epoch 65/100\n",
      "200/200 [==============================] - 1s 3ms/step - loss: 0.3212 - accuracy: 0.8656 - val_loss: 0.3459 - val_accuracy: 0.8506\n",
      "Epoch 66/100\n",
      "200/200 [==============================] - 1s 3ms/step - loss: 0.3213 - accuracy: 0.8664 - val_loss: 0.3484 - val_accuracy: 0.8475\n",
      "Epoch 67/100\n",
      "200/200 [==============================] - 1s 3ms/step - loss: 0.3213 - accuracy: 0.8664 - val_loss: 0.3479 - val_accuracy: 0.8494\n",
      "Epoch 68/100\n",
      "200/200 [==============================] - 1s 3ms/step - loss: 0.3211 - accuracy: 0.8684 - val_loss: 0.3473 - val_accuracy: 0.8537\n",
      "Epoch 69/100\n",
      "200/200 [==============================] - 1s 3ms/step - loss: 0.3210 - accuracy: 0.8669 - val_loss: 0.3478 - val_accuracy: 0.8500\n",
      "Epoch 70/100\n",
      "200/200 [==============================] - 1s 3ms/step - loss: 0.3204 - accuracy: 0.8681 - val_loss: 0.3482 - val_accuracy: 0.8494\n",
      "Epoch 71/100\n",
      "200/200 [==============================] - 1s 3ms/step - loss: 0.3208 - accuracy: 0.8667 - val_loss: 0.3482 - val_accuracy: 0.8512\n",
      "Epoch 72/100\n",
      "200/200 [==============================] - 1s 3ms/step - loss: 0.3205 - accuracy: 0.8687 - val_loss: 0.3473 - val_accuracy: 0.8506\n",
      "Epoch 73/100\n",
      "200/200 [==============================] - 1s 3ms/step - loss: 0.3205 - accuracy: 0.8669 - val_loss: 0.3473 - val_accuracy: 0.8525\n",
      "Epoch 74/100\n",
      "200/200 [==============================] - 1s 3ms/step - loss: 0.3202 - accuracy: 0.8661 - val_loss: 0.3517 - val_accuracy: 0.8481\n",
      "Epoch 75/100\n",
      "200/200 [==============================] - 1s 3ms/step - loss: 0.3201 - accuracy: 0.8677 - val_loss: 0.3477 - val_accuracy: 0.8519\n",
      "Epoch 76/100\n",
      "200/200 [==============================] - 1s 4ms/step - loss: 0.3201 - accuracy: 0.8672 - val_loss: 0.3483 - val_accuracy: 0.8525\n",
      "Epoch 77/100\n",
      "200/200 [==============================] - 1s 4ms/step - loss: 0.3200 - accuracy: 0.8669 - val_loss: 0.3474 - val_accuracy: 0.8525\n",
      "Epoch 78/100\n",
      "200/200 [==============================] - 1s 4ms/step - loss: 0.3196 - accuracy: 0.8680 - val_loss: 0.3478 - val_accuracy: 0.8531\n",
      "Epoch 79/100\n",
      "200/200 [==============================] - 1s 4ms/step - loss: 0.3193 - accuracy: 0.8673 - val_loss: 0.3496 - val_accuracy: 0.8519\n",
      "Epoch 80/100\n",
      "200/200 [==============================] - 1s 5ms/step - loss: 0.3195 - accuracy: 0.8666 - val_loss: 0.3504 - val_accuracy: 0.8519\n",
      "Epoch 81/100\n",
      "200/200 [==============================] - 1s 4ms/step - loss: 0.3194 - accuracy: 0.8675 - val_loss: 0.3486 - val_accuracy: 0.8500\n",
      "Epoch 82/100\n",
      "200/200 [==============================] - 1s 4ms/step - loss: 0.3193 - accuracy: 0.8672 - val_loss: 0.3485 - val_accuracy: 0.8512\n",
      "Epoch 83/100\n",
      "200/200 [==============================] - 1s 4ms/step - loss: 0.3190 - accuracy: 0.8662 - val_loss: 0.3511 - val_accuracy: 0.8475\n",
      "Epoch 84/100\n",
      "200/200 [==============================] - 1s 4ms/step - loss: 0.3194 - accuracy: 0.8667 - val_loss: 0.3483 - val_accuracy: 0.8506\n",
      "Epoch 85/100\n",
      "200/200 [==============================] - 1s 4ms/step - loss: 0.3189 - accuracy: 0.8667 - val_loss: 0.3493 - val_accuracy: 0.8506\n",
      "Epoch 86/100\n",
      "200/200 [==============================] - 1s 3ms/step - loss: 0.3189 - accuracy: 0.8675 - val_loss: 0.3481 - val_accuracy: 0.8487\n",
      "Epoch 87/100\n",
      "200/200 [==============================] - 1s 4ms/step - loss: 0.3188 - accuracy: 0.8680 - val_loss: 0.3491 - val_accuracy: 0.8506\n",
      "Epoch 88/100\n",
      "200/200 [==============================] - 1s 3ms/step - loss: 0.3177 - accuracy: 0.8684 - val_loss: 0.3511 - val_accuracy: 0.8500\n",
      "Epoch 89/100\n",
      "200/200 [==============================] - 1s 3ms/step - loss: 0.3186 - accuracy: 0.8678 - val_loss: 0.3502 - val_accuracy: 0.8500\n",
      "Epoch 90/100\n",
      "200/200 [==============================] - 1s 4ms/step - loss: 0.3180 - accuracy: 0.8670 - val_loss: 0.3512 - val_accuracy: 0.8494\n",
      "Epoch 91/100\n",
      "200/200 [==============================] - 1s 3ms/step - loss: 0.3176 - accuracy: 0.8686 - val_loss: 0.3500 - val_accuracy: 0.8506\n",
      "Epoch 92/100\n",
      "200/200 [==============================] - 1s 3ms/step - loss: 0.3179 - accuracy: 0.8681 - val_loss: 0.3514 - val_accuracy: 0.8525\n",
      "Epoch 93/100\n",
      "200/200 [==============================] - 1s 3ms/step - loss: 0.3183 - accuracy: 0.8673 - val_loss: 0.3513 - val_accuracy: 0.8550\n",
      "Epoch 94/100\n",
      "200/200 [==============================] - 1s 4ms/step - loss: 0.3175 - accuracy: 0.8694 - val_loss: 0.3522 - val_accuracy: 0.8494\n",
      "Epoch 95/100\n",
      "200/200 [==============================] - 1s 4ms/step - loss: 0.3177 - accuracy: 0.8678 - val_loss: 0.3514 - val_accuracy: 0.8494\n",
      "Epoch 96/100\n",
      "200/200 [==============================] - 1s 4ms/step - loss: 0.3182 - accuracy: 0.8683 - val_loss: 0.3548 - val_accuracy: 0.8469\n",
      "Epoch 97/100\n",
      "200/200 [==============================] - 1s 4ms/step - loss: 0.3171 - accuracy: 0.8677 - val_loss: 0.3538 - val_accuracy: 0.8481\n",
      "Epoch 98/100\n",
      "200/200 [==============================] - 1s 4ms/step - loss: 0.3171 - accuracy: 0.8686 - val_loss: 0.3504 - val_accuracy: 0.8500\n",
      "Epoch 99/100\n",
      "200/200 [==============================] - 1s 4ms/step - loss: 0.3175 - accuracy: 0.8687 - val_loss: 0.3516 - val_accuracy: 0.8519\n",
      "Epoch 100/100\n",
      "200/200 [==============================] - 1s 4ms/step - loss: 0.3167 - accuracy: 0.8686 - val_loss: 0.3518 - val_accuracy: 0.8537\n"
     ]
    }
   ],
   "source": [
    "# Binary_crossentropy or can say log loss \n",
    "model.compile(loss='binary_crossentropy',optimizer='Adam',metrics=['accuracy'])\n",
    "\n",
    "hist_ = model.fit(train_x_scal, train_y,epochs=100,validation_split=0.2)"
   ]
  },
  {
   "cell_type": "code",
   "execution_count": 366,
   "metadata": {
    "execution": {
     "iopub.execute_input": "2022-03-12T05:41:11.536034Z",
     "iopub.status.busy": "2022-03-12T05:41:11.535551Z",
     "iopub.status.idle": "2022-03-12T05:41:11.698938Z",
     "shell.execute_reply": "2022-03-12T05:41:11.698062Z",
     "shell.execute_reply.started": "2022-03-12T05:41:11.536003Z"
    }
   },
   "outputs": [
    {
     "data": {
      "image/png": "[encoded data removed]",
      "text/plain": [
       "<Figure size 640x480 with 1 Axes>"
      ]
     },
     "metadata": {},
     "output_type": "display_data"
    }
   ],
   "source": [
    "# Plot the loss\n",
    "plt.plot(hist_.history['loss'])\n",
    "plt.plot(hist_.history['val_loss'])\n",
    "plt.show()"
   ]
  },
  {
   "cell_type": "code",
   "execution_count": 367,
   "metadata": {
    "execution": {
     "iopub.execute_input": "2022-03-12T05:41:11.700366Z",
     "iopub.status.busy": "2022-03-12T05:41:11.700131Z",
     "iopub.status.idle": "2022-03-12T05:41:11.876356Z",
     "shell.execute_reply": "2022-03-12T05:41:11.875444Z",
     "shell.execute_reply.started": "2022-03-12T05:41:11.700337Z"
    }
   },
   "outputs": [
    {
     "data": {
      "image/png": "[encoded data removed]",
      "text/plain": [
       "<Figure size 640x480 with 1 Axes>"
      ]
     },
     "metadata": {},
     "output_type": "display_data"
    }
   ],
   "source": [
    "# Plot the accuracy\n",
    "plt.plot(hist_.history['accuracy'])\n",
    "plt.plot(hist_.history['val_accuracy'])\n",
    "plt.show()"
   ]
  },
  {
   "cell_type": "code",
   "execution_count": 368,
   "metadata": {
    "execution": {
     "iopub.execute_input": "2022-03-12T05:41:11.877747Z",
     "iopub.status.busy": "2022-03-12T05:41:11.877517Z",
     "iopub.status.idle": "2022-03-12T05:41:12.022410Z",
     "shell.execute_reply": "2022-03-12T05:41:12.021617Z",
     "shell.execute_reply.started": "2022-03-12T05:41:11.877719Z"
    }
   },
   "outputs": [
    {
     "name": "stdout",
     "output_type": "stream",
     "text": [
      "63/63 [==============================] - 0s 2ms/step\n"
     ]
    }
   ],
   "source": [
    "# Output in classes now\n",
    "y_pred = np.where(model.predict(test_x_scal)>0.5,1,0)"
   ]
  },
  {
   "cell_type": "code",
   "execution_count": 369,
   "metadata": {
    "execution": {
     "iopub.execute_input": "2022-03-12T05:41:12.024235Z",
     "iopub.status.busy": "2022-03-12T05:41:12.023960Z",
     "iopub.status.idle": "2022-03-12T05:41:12.032320Z",
     "shell.execute_reply": "2022-03-12T05:41:12.031415Z",
     "shell.execute_reply.started": "2022-03-12T05:41:12.024199Z"
    }
   },
   "outputs": [
    {
     "data": {
      "text/plain": [
       "0.8485"
      ]
     },
     "execution_count": 369,
     "metadata": {},
     "output_type": "execute_result"
    }
   ],
   "source": [
    "# Accuracybscore\n",
    "accuracy_score(test_y,y_pred)"
   ]
  },
  {
   "cell_type": "markdown",
   "metadata": {},
   "source": [
    "# Multiclass Classification"
   ]
  },
  {
   "cell_type": "markdown",
   "metadata": {},
   "source": [
    "MNIST Dataset Description:\n",
    "\n",
    "1. Number of Classes:\n",
    "There are 10 classes in the dataset, corresponding to the digits 0 through 9.\n",
    "\n",
    "2. Image Size:\n",
    "Each image is a 28x28 pixel grayscale image.\n",
    "\n",
    "The pixel values represent the intensity of the pixel, with 0 being white and 255 being black.\n",
    "\n",
    "3. Number of Samples:\n",
    "The dataset consists of 70,000 images.\n",
    "\n",
    "This dataset is often split into training and testing sets, with common splits being 60,000 training images and 10,000 \n",
    "testing images."
   ]
  },
  {
   "cell_type": "code",
   "execution_count": 370,
   "metadata": {
    "execution": {
     "iopub.execute_input": "2022-03-12T06:00:51.802045Z",
     "iopub.status.busy": "2022-03-12T06:00:51.801450Z",
     "iopub.status.idle": "2022-03-12T06:00:52.856238Z",
     "shell.execute_reply": "2022-03-12T06:00:52.855370Z",
     "shell.execute_reply.started": "2022-03-12T06:00:51.802002Z"
    }
   },
   "outputs": [],
   "source": [
    "(x_train,y_train),(x_test,y_test) = keras.datasets.mnist.load_data()"
   ]
  },
  {
   "cell_type": "code",
   "execution_count": 371,
   "metadata": {
    "execution": {
     "iopub.execute_input": "2022-03-12T06:01:08.422423Z",
     "iopub.status.busy": "2022-03-12T06:01:08.422133Z",
     "iopub.status.idle": "2022-03-12T06:01:08.428775Z",
     "shell.execute_reply": "2022-03-12T06:01:08.427710Z",
     "shell.execute_reply.started": "2022-03-12T06:01:08.422376Z"
    }
   },
   "outputs": [
    {
     "data": {
      "text/plain": [
       "((60000, 28, 28), (60000,), (10000, 28, 28), (10000,))"
      ]
     },
     "execution_count": 371,
     "metadata": {},
     "output_type": "execute_result"
    }
   ],
   "source": [
    "x_train.shape,y_train.shape,x_test.shape,y_test.shape"
   ]
  },
  {
   "cell_type": "code",
   "execution_count": 372,
   "metadata": {
    "execution": {
     "iopub.execute_input": "2022-03-12T06:02:13.671019Z",
     "iopub.status.busy": "2022-03-12T06:02:13.670587Z",
     "iopub.status.idle": "2022-03-12T06:02:13.676676Z",
     "shell.execute_reply": "2022-03-12T06:02:13.675648Z",
     "shell.execute_reply.started": "2022-03-12T06:02:13.670986Z"
    }
   },
   "outputs": [
    {
     "data": {
      "text/plain": [
       "(60000, 28, 28)"
      ]
     },
     "execution_count": 372,
     "metadata": {},
     "output_type": "execute_result"
    }
   ],
   "source": [
    "x_train.shape"
   ]
  },
  {
   "cell_type": "markdown",
   "metadata": {},
   "source": [
    "There are `60k images` with each image of dimension `28*28` in train set, rest of `10k images` are in x_test"
   ]
  },
  {
   "cell_type": "code",
   "execution_count": 373,
   "metadata": {
    "execution": {
     "iopub.execute_input": "2022-03-12T06:01:36.502694Z",
     "iopub.status.busy": "2022-03-12T06:01:36.502231Z",
     "iopub.status.idle": "2022-03-12T06:01:36.509064Z",
     "shell.execute_reply": "2022-03-12T06:01:36.508206Z",
     "shell.execute_reply.started": "2022-03-12T06:01:36.502662Z"
    },
    "jupyter": {
     "outputs_hidden": true
    }
   },
   "outputs": [
    {
     "data": {
      "text/plain": [
       "array([[[0, 0, 0, ..., 0, 0, 0],\n",
       "        [0, 0, 0, ..., 0, 0, 0],\n",
       "        [0, 0, 0, ..., 0, 0, 0],\n",
       "        ...,\n",
       "        [0, 0, 0, ..., 0, 0, 0],\n",
       "        [0, 0, 0, ..., 0, 0, 0],\n",
       "        [0, 0, 0, ..., 0, 0, 0]],\n",
       "\n",
       "       [[0, 0, 0, ..., 0, 0, 0],\n",
       "        [0, 0, 0, ..., 0, 0, 0],\n",
       "        [0, 0, 0, ..., 0, 0, 0],\n",
       "        ...,\n",
       "        [0, 0, 0, ..., 0, 0, 0],\n",
       "        [0, 0, 0, ..., 0, 0, 0],\n",
       "        [0, 0, 0, ..., 0, 0, 0]],\n",
       "\n",
       "       [[0, 0, 0, ..., 0, 0, 0],\n",
       "        [0, 0, 0, ..., 0, 0, 0],\n",
       "        [0, 0, 0, ..., 0, 0, 0],\n",
       "        ...,\n",
       "        [0, 0, 0, ..., 0, 0, 0],\n",
       "        [0, 0, 0, ..., 0, 0, 0],\n",
       "        [0, 0, 0, ..., 0, 0, 0]],\n",
       "\n",
       "       ...,\n",
       "\n",
       "       [[0, 0, 0, ..., 0, 0, 0],\n",
       "        [0, 0, 0, ..., 0, 0, 0],\n",
       "        [0, 0, 0, ..., 0, 0, 0],\n",
       "        ...,\n",
       "        [0, 0, 0, ..., 0, 0, 0],\n",
       "        [0, 0, 0, ..., 0, 0, 0],\n",
       "        [0, 0, 0, ..., 0, 0, 0]],\n",
       "\n",
       "       [[0, 0, 0, ..., 0, 0, 0],\n",
       "        [0, 0, 0, ..., 0, 0, 0],\n",
       "        [0, 0, 0, ..., 0, 0, 0],\n",
       "        ...,\n",
       "        [0, 0, 0, ..., 0, 0, 0],\n",
       "        [0, 0, 0, ..., 0, 0, 0],\n",
       "        [0, 0, 0, ..., 0, 0, 0]],\n",
       "\n",
       "       [[0, 0, 0, ..., 0, 0, 0],\n",
       "        [0, 0, 0, ..., 0, 0, 0],\n",
       "        [0, 0, 0, ..., 0, 0, 0],\n",
       "        ...,\n",
       "        [0, 0, 0, ..., 0, 0, 0],\n",
       "        [0, 0, 0, ..., 0, 0, 0],\n",
       "        [0, 0, 0, ..., 0, 0, 0]]], dtype=uint8)"
      ]
     },
     "execution_count": 373,
     "metadata": {},
     "output_type": "execute_result"
    }
   ],
   "source": [
    "x_train"
   ]
  },
  {
   "cell_type": "markdown",
   "metadata": {},
   "source": [
    "Data is in form of pixels"
   ]
  },
  {
   "cell_type": "code",
   "execution_count": 374,
   "metadata": {
    "execution": {
     "iopub.execute_input": "2022-03-12T06:03:19.920674Z",
     "iopub.status.busy": "2022-03-12T06:03:19.920350Z",
     "iopub.status.idle": "2022-03-12T06:03:19.928996Z",
     "shell.execute_reply": "2022-03-12T06:03:19.928081Z",
     "shell.execute_reply.started": "2022-03-12T06:03:19.920642Z"
    },
    "jupyter": {
     "outputs_hidden": true
    }
   },
   "outputs": [
    {
     "data": {
      "text/plain": [
       "array([[  0,   0,   0,   0,   0,   0,   0,   0,   0,   0,   0,   0,   0,\n",
       "          0,   0,   0,   0,   0,   0,   0,   0,   0,   0,   0,   0,   0,\n",
       "          0,   0],\n",
       "       [  0,   0,   0,   0,   0,   0,   0,   0,   0,   0,   0,   0,   0,\n",
       "          0,   0,   0,   0,   0,   0,   0,   0,   0,   0,   0,   0,   0,\n",
       "          0,   0],\n",
       "       [  0,   0,   0,   0,   0,   0,   0,   0,   0,   0,   0,   0,   0,\n",
       "          0,   0,   0,   0,   0,   0,   0,   0,   0,   0,   0,   0,   0,\n",
       "          0,   0],\n",
       "       [  0,   0,   0,   0,   0,   0,   0,   0,   0,   0,   0,   0,   0,\n",
       "          0,   0,   0,   0,   0,   0,   0,   0,   0,   0,   0,   0,   0,\n",
       "          0,   0],\n",
       "       [  0,   0,   0,   0,   0,   0,   0,   0,   0,   0,   0,   0,   0,\n",
       "          0,   0,   0,   0,   0,   0,   0,   0,   0,   0,   0,   0,   0,\n",
       "          0,   0],\n",
       "       [  0,   0,   0,   0,   0,   0,   0,   0,   0,   0,   0,   0,   3,\n",
       "         18,  18,  18, 126, 136, 175,  26, 166, 255, 247, 127,   0,   0,\n",
       "          0,   0],\n",
       "       [  0,   0,   0,   0,   0,   0,   0,   0,  30,  36,  94, 154, 170,\n",
       "        253, 253, 253, 253, 253, 225, 172, 253, 242, 195,  64,   0,   0,\n",
       "          0,   0],\n",
       "       [  0,   0,   0,   0,   0,   0,   0,  49, 238, 253, 253, 253, 253,\n",
       "        253, 253, 253, 253, 251,  93,  82,  82,  56,  39,   0,   0,   0,\n",
       "          0,   0],\n",
       "       [  0,   0,   0,   0,   0,   0,   0,  18, 219, 253, 253, 253, 253,\n",
       "        253, 198, 182, 247, 241,   0,   0,   0,   0,   0,   0,   0,   0,\n",
       "          0,   0],\n",
       "       [  0,   0,   0,   0,   0,   0,   0,   0,  80, 156, 107, 253, 253,\n",
       "        205,  11,   0,  43, 154,   0,   0,   0,   0,   0,   0,   0,   0,\n",
       "          0,   0],\n",
       "       [  0,   0,   0,   0,   0,   0,   0,   0,   0,  14,   1, 154, 253,\n",
       "         90,   0,   0,   0,   0,   0,   0,   0,   0,   0,   0,   0,   0,\n",
       "          0,   0],\n",
       "       [  0,   0,   0,   0,   0,   0,   0,   0,   0,   0,   0, 139, 253,\n",
       "        190,   2,   0,   0,   0,   0,   0,   0,   0,   0,   0,   0,   0,\n",
       "          0,   0],\n",
       "       [  0,   0,   0,   0,   0,   0,   0,   0,   0,   0,   0,  11, 190,\n",
       "        253,  70,   0,   0,   0,   0,   0,   0,   0,   0,   0,   0,   0,\n",
       "          0,   0],\n",
       "       [  0,   0,   0,   0,   0,   0,   0,   0,   0,   0,   0,   0,  35,\n",
       "        241, 225, 160, 108,   1,   0,   0,   0,   0,   0,   0,   0,   0,\n",
       "          0,   0],\n",
       "       [  0,   0,   0,   0,   0,   0,   0,   0,   0,   0,   0,   0,   0,\n",
       "         81, 240, 253, 253, 119,  25,   0,   0,   0,   0,   0,   0,   0,\n",
       "          0,   0],\n",
       "       [  0,   0,   0,   0,   0,   0,   0,   0,   0,   0,   0,   0,   0,\n",
       "          0,  45, 186, 253, 253, 150,  27,   0,   0,   0,   0,   0,   0,\n",
       "          0,   0],\n",
       "       [  0,   0,   0,   0,   0,   0,   0,   0,   0,   0,   0,   0,   0,\n",
       "          0,   0,  16,  93, 252, 253, 187,   0,   0,   0,   0,   0,   0,\n",
       "          0,   0],\n",
       "       [  0,   0,   0,   0,   0,   0,   0,   0,   0,   0,   0,   0,   0,\n",
       "          0,   0,   0,   0, 249, 253, 249,  64,   0,   0,   0,   0,   0,\n",
       "          0,   0],\n",
       "       [  0,   0,   0,   0,   0,   0,   0,   0,   0,   0,   0,   0,   0,\n",
       "          0,  46, 130, 183, 253, 253, 207,   2,   0,   0,   0,   0,   0,\n",
       "          0,   0],\n",
       "       [  0,   0,   0,   0,   0,   0,   0,   0,   0,   0,   0,   0,  39,\n",
       "        148, 229, 253, 253, 253, 250, 182,   0,   0,   0,   0,   0,   0,\n",
       "          0,   0],\n",
       "       [  0,   0,   0,   0,   0,   0,   0,   0,   0,   0,  24, 114, 221,\n",
       "        253, 253, 253, 253, 201,  78,   0,   0,   0,   0,   0,   0,   0,\n",
       "          0,   0],\n",
       "       [  0,   0,   0,   0,   0,   0,   0,   0,  23,  66, 213, 253, 253,\n",
       "        253, 253, 198,  81,   2,   0,   0,   0,   0,   0,   0,   0,   0,\n",
       "          0,   0],\n",
       "       [  0,   0,   0,   0,   0,   0,  18, 171, 219, 253, 253, 253, 253,\n",
       "        195,  80,   9,   0,   0,   0,   0,   0,   0,   0,   0,   0,   0,\n",
       "          0,   0],\n",
       "       [  0,   0,   0,   0,  55, 172, 226, 253, 253, 253, 253, 244, 133,\n",
       "         11,   0,   0,   0,   0,   0,   0,   0,   0,   0,   0,   0,   0,\n",
       "          0,   0],\n",
       "       [  0,   0,   0,   0, 136, 253, 253, 253, 212, 135, 132,  16,   0,\n",
       "          0,   0,   0,   0,   0,   0,   0,   0,   0,   0,   0,   0,   0,\n",
       "          0,   0],\n",
       "       [  0,   0,   0,   0,   0,   0,   0,   0,   0,   0,   0,   0,   0,\n",
       "          0,   0,   0,   0,   0,   0,   0,   0,   0,   0,   0,   0,   0,\n",
       "          0,   0],\n",
       "       [  0,   0,   0,   0,   0,   0,   0,   0,   0,   0,   0,   0,   0,\n",
       "          0,   0,   0,   0,   0,   0,   0,   0,   0,   0,   0,   0,   0,\n",
       "          0,   0],\n",
       "       [  0,   0,   0,   0,   0,   0,   0,   0,   0,   0,   0,   0,   0,\n",
       "          0,   0,   0,   0,   0,   0,   0,   0,   0,   0,   0,   0,   0,\n",
       "          0,   0]], dtype=uint8)"
      ]
     },
     "execution_count": 374,
     "metadata": {},
     "output_type": "execute_result"
    }
   ],
   "source": [
    "#pixels value of first image \n",
    "x_train[0]"
   ]
  },
  {
   "cell_type": "code",
   "execution_count": 375,
   "metadata": {
    "execution": {
     "iopub.execute_input": "2022-03-12T06:06:23.112588Z",
     "iopub.status.busy": "2022-03-12T06:06:23.112272Z",
     "iopub.status.idle": "2022-03-12T06:06:23.288211Z",
     "shell.execute_reply": "2022-03-12T06:06:23.287372Z",
     "shell.execute_reply.started": "2022-03-12T06:06:23.112553Z"
    }
   },
   "outputs": [
    {
     "data": {
      "image/png": "[encoded data removed]",
      "text/plain": [
       "<Figure size 640x480 with 1 Axes>"
      ]
     },
     "metadata": {},
     "output_type": "display_data"
    }
   ],
   "source": [
    "plt.imshow(x_train[0])\n",
    "plt.show()"
   ]
  },
  {
   "cell_type": "markdown",
   "metadata": {},
   "source": [
    "Normalization:\n",
    "\n",
    "The pixel values are normalized by dividing each value by 255. This step scales the values to a range between 0 and 1."
   ]
  },
  {
   "cell_type": "code",
   "execution_count": 376,
   "metadata": {
    "execution": {
     "iopub.execute_input": "2022-03-12T06:12:41.185621Z",
     "iopub.status.busy": "2022-03-12T06:12:41.185307Z",
     "iopub.status.idle": "2022-03-12T06:12:41.413850Z",
     "shell.execute_reply": "2022-03-12T06:12:41.412964Z",
     "shell.execute_reply.started": "2022-03-12T06:12:41.185588Z"
    }
   },
   "outputs": [],
   "source": [
    "x_train = x_train / 255\n",
    "x_test = x_test / 255"
   ]
  },
  {
   "cell_type": "code",
   "execution_count": 377,
   "metadata": {
    "execution": {
     "iopub.execute_input": "2022-03-12T06:12:45.393721Z",
     "iopub.status.busy": "2022-03-12T06:12:45.393377Z",
     "iopub.status.idle": "2022-03-12T06:12:45.408431Z",
     "shell.execute_reply": "2022-03-12T06:12:45.407564Z",
     "shell.execute_reply.started": "2022-03-12T06:12:45.393686Z"
    },
    "jupyter": {
     "outputs_hidden": true
    },
    "scrolled": false
   },
   "outputs": [
    {
     "data": {
      "text/plain": [
       "array([[0.        , 0.        , 0.        , 0.        , 0.        ,\n",
       "        0.        , 0.        , 0.        , 0.        , 0.        ,\n",
       "        0.        , 0.        , 0.        , 0.        , 0.        ,\n",
       "        0.        , 0.        , 0.        , 0.        , 0.        ,\n",
       "        0.        , 0.        , 0.        , 0.        , 0.        ,\n",
       "        0.        , 0.        , 0.        ],\n",
       "       [0.        , 0.        , 0.        , 0.        , 0.        ,\n",
       "        0.        , 0.        , 0.        , 0.        , 0.        ,\n",
       "        0.        , 0.        , 0.        , 0.        , 0.        ,\n",
       "        0.        , 0.        , 0.        , 0.        , 0.        ,\n",
       "        0.        , 0.        , 0.        , 0.        , 0.        ,\n",
       "        0.        , 0.        , 0.        ],\n",
       "       [0.        , 0.        , 0.        , 0.        , 0.        ,\n",
       "        0.        , 0.        , 0.        , 0.        , 0.        ,\n",
       "        0.        , 0.        , 0.        , 0.        , 0.        ,\n",
       "        0.        , 0.        , 0.        , 0.        , 0.        ,\n",
       "        0.        , 0.        , 0.        , 0.        , 0.        ,\n",
       "        0.        , 0.        , 0.        ],\n",
       "       [0.        , 0.        , 0.        , 0.        , 0.        ,\n",
       "        0.        , 0.        , 0.        , 0.        , 0.        ,\n",
       "        0.        , 0.        , 0.        , 0.        , 0.        ,\n",
       "        0.        , 0.        , 0.        , 0.        , 0.        ,\n",
       "        0.        , 0.        , 0.        , 0.        , 0.        ,\n",
       "        0.        , 0.        , 0.        ],\n",
       "       [0.        , 0.        , 0.        , 0.        , 0.        ,\n",
       "        0.        , 0.        , 0.        , 0.        , 0.        ,\n",
       "        0.        , 0.        , 0.        , 0.        , 0.        ,\n",
       "        0.        , 0.        , 0.        , 0.        , 0.        ,\n",
       "        0.        , 0.        , 0.        , 0.        , 0.        ,\n",
       "        0.        , 0.        , 0.        ],\n",
       "       [0.        , 0.        , 0.        , 0.        , 0.        ,\n",
       "        0.        , 0.        , 0.        , 0.        , 0.        ,\n",
       "        0.        , 0.        , 0.01176471, 0.07058824, 0.07058824,\n",
       "        0.07058824, 0.49411765, 0.53333333, 0.68627451, 0.10196078,\n",
       "        0.65098039, 1.        , 0.96862745, 0.49803922, 0.        ,\n",
       "        0.        , 0.        , 0.        ],\n",
       "       [0.        , 0.        , 0.        , 0.        , 0.        ,\n",
       "        0.        , 0.        , 0.        , 0.11764706, 0.14117647,\n",
       "        0.36862745, 0.60392157, 0.66666667, 0.99215686, 0.99215686,\n",
       "        0.99215686, 0.99215686, 0.99215686, 0.88235294, 0.6745098 ,\n",
       "        0.99215686, 0.94901961, 0.76470588, 0.25098039, 0.        ,\n",
       "        0.        , 0.        , 0.        ],\n",
       "       [0.        , 0.        , 0.        , 0.        , 0.        ,\n",
       "        0.        , 0.        , 0.19215686, 0.93333333, 0.99215686,\n",
       "        0.99215686, 0.99215686, 0.99215686, 0.99215686, 0.99215686,\n",
       "        0.99215686, 0.99215686, 0.98431373, 0.36470588, 0.32156863,\n",
       "        0.32156863, 0.21960784, 0.15294118, 0.        , 0.        ,\n",
       "        0.        , 0.        , 0.        ],\n",
       "       [0.        , 0.        , 0.        , 0.        , 0.        ,\n",
       "        0.        , 0.        , 0.07058824, 0.85882353, 0.99215686,\n",
       "        0.99215686, 0.99215686, 0.99215686, 0.99215686, 0.77647059,\n",
       "        0.71372549, 0.96862745, 0.94509804, 0.        , 0.        ,\n",
       "        0.        , 0.        , 0.        , 0.        , 0.        ,\n",
       "        0.        , 0.        , 0.        ],\n",
       "       [0.        , 0.        , 0.        , 0.        , 0.        ,\n",
       "        0.        , 0.        , 0.        , 0.31372549, 0.61176471,\n",
       "        0.41960784, 0.99215686, 0.99215686, 0.80392157, 0.04313725,\n",
       "        0.        , 0.16862745, 0.60392157, 0.        , 0.        ,\n",
       "        0.        , 0.        , 0.        , 0.        , 0.        ,\n",
       "        0.        , 0.        , 0.        ],\n",
       "       [0.        , 0.        , 0.        , 0.        , 0.        ,\n",
       "        0.        , 0.        , 0.        , 0.        , 0.05490196,\n",
       "        0.00392157, 0.60392157, 0.99215686, 0.35294118, 0.        ,\n",
       "        0.        , 0.        , 0.        , 0.        , 0.        ,\n",
       "        0.        , 0.        , 0.        , 0.        , 0.        ,\n",
       "        0.        , 0.        , 0.        ],\n",
       "       [0.        , 0.        , 0.        , 0.        , 0.        ,\n",
       "        0.        , 0.        , 0.        , 0.        , 0.        ,\n",
       "        0.        , 0.54509804, 0.99215686, 0.74509804, 0.00784314,\n",
       "        0.        , 0.        , 0.        , 0.        , 0.        ,\n",
       "        0.        , 0.        , 0.        , 0.        , 0.        ,\n",
       "        0.        , 0.        , 0.        ],\n",
       "       [0.        , 0.        , 0.        , 0.        , 0.        ,\n",
       "        0.        , 0.        , 0.        , 0.        , 0.        ,\n",
       "        0.        , 0.04313725, 0.74509804, 0.99215686, 0.2745098 ,\n",
       "        0.        , 0.        , 0.        , 0.        , 0.        ,\n",
       "        0.        , 0.        , 0.        , 0.        , 0.        ,\n",
       "        0.        , 0.        , 0.        ],\n",
       "       [0.        , 0.        , 0.        , 0.        , 0.        ,\n",
       "        0.        , 0.        , 0.        , 0.        , 0.        ,\n",
       "        0.        , 0.        , 0.1372549 , 0.94509804, 0.88235294,\n",
       "        0.62745098, 0.42352941, 0.00392157, 0.        , 0.        ,\n",
       "        0.        , 0.        , 0.        , 0.        , 0.        ,\n",
       "        0.        , 0.        , 0.        ],\n",
       "       [0.        , 0.        , 0.        , 0.        , 0.        ,\n",
       "        0.        , 0.        , 0.        , 0.        , 0.        ,\n",
       "        0.        , 0.        , 0.        , 0.31764706, 0.94117647,\n",
       "        0.99215686, 0.99215686, 0.46666667, 0.09803922, 0.        ,\n",
       "        0.        , 0.        , 0.        , 0.        , 0.        ,\n",
       "        0.        , 0.        , 0.        ],\n",
       "       [0.        , 0.        , 0.        , 0.        , 0.        ,\n",
       "        0.        , 0.        , 0.        , 0.        , 0.        ,\n",
       "        0.        , 0.        , 0.        , 0.        , 0.17647059,\n",
       "        0.72941176, 0.99215686, 0.99215686, 0.58823529, 0.10588235,\n",
       "        0.        , 0.        , 0.        , 0.        , 0.        ,\n",
       "        0.        , 0.        , 0.        ],\n",
       "       [0.        , 0.        , 0.        , 0.        , 0.        ,\n",
       "        0.        , 0.        , 0.        , 0.        , 0.        ,\n",
       "        0.        , 0.        , 0.        , 0.        , 0.        ,\n",
       "        0.0627451 , 0.36470588, 0.98823529, 0.99215686, 0.73333333,\n",
       "        0.        , 0.        , 0.        , 0.        , 0.        ,\n",
       "        0.        , 0.        , 0.        ],\n",
       "       [0.        , 0.        , 0.        , 0.        , 0.        ,\n",
       "        0.        , 0.        , 0.        , 0.        , 0.        ,\n",
       "        0.        , 0.        , 0.        , 0.        , 0.        ,\n",
       "        0.        , 0.        , 0.97647059, 0.99215686, 0.97647059,\n",
       "        0.25098039, 0.        , 0.        , 0.        , 0.        ,\n",
       "        0.        , 0.        , 0.        ],\n",
       "       [0.        , 0.        , 0.        , 0.        , 0.        ,\n",
       "        0.        , 0.        , 0.        , 0.        , 0.        ,\n",
       "        0.        , 0.        , 0.        , 0.        , 0.18039216,\n",
       "        0.50980392, 0.71764706, 0.99215686, 0.99215686, 0.81176471,\n",
       "        0.00784314, 0.        , 0.        , 0.        , 0.        ,\n",
       "        0.        , 0.        , 0.        ],\n",
       "       [0.        , 0.        , 0.        , 0.        , 0.        ,\n",
       "        0.        , 0.        , 0.        , 0.        , 0.        ,\n",
       "        0.        , 0.        , 0.15294118, 0.58039216, 0.89803922,\n",
       "        0.99215686, 0.99215686, 0.99215686, 0.98039216, 0.71372549,\n",
       "        0.        , 0.        , 0.        , 0.        , 0.        ,\n",
       "        0.        , 0.        , 0.        ],\n",
       "       [0.        , 0.        , 0.        , 0.        , 0.        ,\n",
       "        0.        , 0.        , 0.        , 0.        , 0.        ,\n",
       "        0.09411765, 0.44705882, 0.86666667, 0.99215686, 0.99215686,\n",
       "        0.99215686, 0.99215686, 0.78823529, 0.30588235, 0.        ,\n",
       "        0.        , 0.        , 0.        , 0.        , 0.        ,\n",
       "        0.        , 0.        , 0.        ],\n",
       "       [0.        , 0.        , 0.        , 0.        , 0.        ,\n",
       "        0.        , 0.        , 0.        , 0.09019608, 0.25882353,\n",
       "        0.83529412, 0.99215686, 0.99215686, 0.99215686, 0.99215686,\n",
       "        0.77647059, 0.31764706, 0.00784314, 0.        , 0.        ,\n",
       "        0.        , 0.        , 0.        , 0.        , 0.        ,\n",
       "        0.        , 0.        , 0.        ],\n",
       "       [0.        , 0.        , 0.        , 0.        , 0.        ,\n",
       "        0.        , 0.07058824, 0.67058824, 0.85882353, 0.99215686,\n",
       "        0.99215686, 0.99215686, 0.99215686, 0.76470588, 0.31372549,\n",
       "        0.03529412, 0.        , 0.        , 0.        , 0.        ,\n",
       "        0.        , 0.        , 0.        , 0.        , 0.        ,\n",
       "        0.        , 0.        , 0.        ],\n",
       "       [0.        , 0.        , 0.        , 0.        , 0.21568627,\n",
       "        0.6745098 , 0.88627451, 0.99215686, 0.99215686, 0.99215686,\n",
       "        0.99215686, 0.95686275, 0.52156863, 0.04313725, 0.        ,\n",
       "        0.        , 0.        , 0.        , 0.        , 0.        ,\n",
       "        0.        , 0.        , 0.        , 0.        , 0.        ,\n",
       "        0.        , 0.        , 0.        ],\n",
       "       [0.        , 0.        , 0.        , 0.        , 0.53333333,\n",
       "        0.99215686, 0.99215686, 0.99215686, 0.83137255, 0.52941176,\n",
       "        0.51764706, 0.0627451 , 0.        , 0.        , 0.        ,\n",
       "        0.        , 0.        , 0.        , 0.        , 0.        ,\n",
       "        0.        , 0.        , 0.        , 0.        , 0.        ,\n",
       "        0.        , 0.        , 0.        ],\n",
       "       [0.        , 0.        , 0.        , 0.        , 0.        ,\n",
       "        0.        , 0.        , 0.        , 0.        , 0.        ,\n",
       "        0.        , 0.        , 0.        , 0.        , 0.        ,\n",
       "        0.        , 0.        , 0.        , 0.        , 0.        ,\n",
       "        0.        , 0.        , 0.        , 0.        , 0.        ,\n",
       "        0.        , 0.        , 0.        ],\n",
       "       [0.        , 0.        , 0.        , 0.        , 0.        ,\n",
       "        0.        , 0.        , 0.        , 0.        , 0.        ,\n",
       "        0.        , 0.        , 0.        , 0.        , 0.        ,\n",
       "        0.        , 0.        , 0.        , 0.        , 0.        ,\n",
       "        0.        , 0.        , 0.        , 0.        , 0.        ,\n",
       "        0.        , 0.        , 0.        ],\n",
       "       [0.        , 0.        , 0.        , 0.        , 0.        ,\n",
       "        0.        , 0.        , 0.        , 0.        , 0.        ,\n",
       "        0.        , 0.        , 0.        , 0.        , 0.        ,\n",
       "        0.        , 0.        , 0.        , 0.        , 0.        ,\n",
       "        0.        , 0.        , 0.        , 0.        , 0.        ,\n",
       "        0.        , 0.        , 0.        ]])"
      ]
     },
     "execution_count": 377,
     "metadata": {},
     "output_type": "execute_result"
    }
   ],
   "source": [
    "x_train[0]"
   ]
  },
  {
   "cell_type": "code",
   "execution_count": 378,
   "metadata": {
    "execution": {
     "iopub.execute_input": "2022-03-12T06:16:34.922726Z",
     "iopub.status.busy": "2022-03-12T06:16:34.922441Z",
     "iopub.status.idle": "2022-03-12T06:16:34.926932Z",
     "shell.execute_reply": "2022-03-12T06:16:34.925954Z",
     "shell.execute_reply.started": "2022-03-12T06:16:34.922696Z"
    }
   },
   "outputs": [],
   "source": [
    "# Flattening\n",
    "from tensorflow.keras.layers import Dense,Flatten"
   ]
  },
  {
   "cell_type": "markdown",
   "metadata": {},
   "source": [
    "Flattening:\n",
    "    \n",
    "Before feeding the images into a neural network, they are flattened from a 2D array (28x28) to a 1D array (784).\n",
    "This is done using the Flatten layer in the neural network model."
   ]
  },
  {
   "cell_type": "markdown",
   "metadata": {},
   "source": [
    "Flatten layer convers high dimensions layer to 1-D"
   ]
  },
  {
   "cell_type": "code",
   "execution_count": 379,
   "metadata": {
    "execution": {
     "iopub.execute_input": "2022-03-12T06:21:22.062541Z",
     "iopub.status.busy": "2022-03-12T06:21:22.062239Z",
     "iopub.status.idle": "2022-03-12T06:21:22.093059Z",
     "shell.execute_reply": "2022-03-12T06:21:22.092250Z",
     "shell.execute_reply.started": "2022-03-12T06:21:22.062506Z"
    }
   },
   "outputs": [],
   "source": [
    "# Building model\n",
    "model = Sequential()\n",
    "\n",
    "model.add(Flatten(input_shape=(28,28))) #changing 28*28 to 784 nodes\n",
    "model.add(Dense(128,activation='relu')) #no need to given number of input as Flatten output will become input bydefault\n",
    "model.add(Dense(10,activation='softmax'))"
   ]
  },
  {
   "cell_type": "code",
   "execution_count": 380,
   "metadata": {
    "execution": {
     "iopub.execute_input": "2022-03-12T06:21:31.425858Z",
     "iopub.status.busy": "2022-03-12T06:21:31.425558Z",
     "iopub.status.idle": "2022-03-12T06:21:31.433677Z",
     "shell.execute_reply": "2022-03-12T06:21:31.432691Z",
     "shell.execute_reply.started": "2022-03-12T06:21:31.425824Z"
    }
   },
   "outputs": [
    {
     "name": "stdout",
     "output_type": "stream",
     "text": [
      "Model: \"sequential_23\"\n",
      "_________________________________________________________________\n",
      " Layer (type)                Output Shape              Param #   \n",
      "=================================================================\n",
      " flatten_4 (Flatten)         (None, 784)               0         \n",
      "                                                                 \n",
      " dense_55 (Dense)            (None, 128)               100480    \n",
      "                                                                 \n",
      " dense_56 (Dense)            (None, 10)                1290      \n",
      "                                                                 \n",
      "=================================================================\n",
      "Total params: 101770 (397.54 KB)\n",
      "Trainable params: 101770 (397.54 KB)\n",
      "Non-trainable params: 0 (0.00 Byte)\n",
      "_________________________________________________________________\n"
     ]
    }
   ],
   "source": [
    "model.summary()"
   ]
  },
  {
   "cell_type": "markdown",
   "metadata": {},
   "source": [
    "* (input)784 * 128(nodes) + 128(biases) ==> `100480` <== trainable params\n",
    "* (hidden layer node)128 * 10(output layer nodes) + 10(biases) ==> `1290` <== trainable params"
   ]
  },
  {
   "cell_type": "code",
   "execution_count": 381,
   "metadata": {},
   "outputs": [],
   "source": [
    "# Get weights and biases for the first hidden layer\n",
    "weights_hidden_layer = model.layers[1].get_weights()[0]\n",
    "biases_hidden_layer = model.layers[1].get_weights()[1]\n",
    "\n",
    "# Get weights and biases for the output layer\n",
    "weights_output_layer = model.layers[2].get_weights()[0]\n",
    "biases_output_layer = model.layers[2].get_weights()[1]"
   ]
  },
  {
   "cell_type": "code",
   "execution_count": 382,
   "metadata": {},
   "outputs": [
    {
     "data": {
      "text/plain": [
       "array([[-0.08102792, -0.0626864 ,  0.05904161, ..., -0.01839352,\n",
       "         0.00362317,  0.06446642],\n",
       "       [ 0.04101052,  0.07242402, -0.02875435, ...,  0.05692308,\n",
       "        -0.05413916, -0.07864153],\n",
       "       [-0.03633247, -0.02938211, -0.04485292, ...,  0.04272204,\n",
       "        -0.05717136, -0.0088126 ],\n",
       "       ...,\n",
       "       [-0.01575596,  0.04431137, -0.0796924 , ...,  0.07239503,\n",
       "        -0.00560281,  0.0685067 ],\n",
       "       [ 0.0617931 , -0.01498163,  0.05905264, ..., -0.0353473 ,\n",
       "        -0.02045445, -0.06718937],\n",
       "       [-0.04202569,  0.07530569,  0.04475778, ...,  0.03324302,\n",
       "         0.03102554, -0.00118778]], dtype=float32)"
      ]
     },
     "execution_count": 382,
     "metadata": {},
     "output_type": "execute_result"
    }
   ],
   "source": [
    "weights_hidden_layer"
   ]
  },
  {
   "cell_type": "code",
   "execution_count": 383,
   "metadata": {},
   "outputs": [
    {
     "data": {
      "text/plain": [
       "array([0., 0., 0., 0., 0., 0., 0., 0., 0., 0., 0., 0., 0., 0., 0., 0., 0.,\n",
       "       0., 0., 0., 0., 0., 0., 0., 0., 0., 0., 0., 0., 0., 0., 0., 0., 0.,\n",
       "       0., 0., 0., 0., 0., 0., 0., 0., 0., 0., 0., 0., 0., 0., 0., 0., 0.,\n",
       "       0., 0., 0., 0., 0., 0., 0., 0., 0., 0., 0., 0., 0., 0., 0., 0., 0.,\n",
       "       0., 0., 0., 0., 0., 0., 0., 0., 0., 0., 0., 0., 0., 0., 0., 0., 0.,\n",
       "       0., 0., 0., 0., 0., 0., 0., 0., 0., 0., 0., 0., 0., 0., 0., 0., 0.,\n",
       "       0., 0., 0., 0., 0., 0., 0., 0., 0., 0., 0., 0., 0., 0., 0., 0., 0.,\n",
       "       0., 0., 0., 0., 0., 0., 0., 0., 0.], dtype=float32)"
      ]
     },
     "execution_count": 383,
     "metadata": {},
     "output_type": "execute_result"
    }
   ],
   "source": [
    "biases_hidden_layer"
   ]
  },
  {
   "cell_type": "code",
   "execution_count": 384,
   "metadata": {},
   "outputs": [
    {
     "data": {
      "text/plain": [
       "array([[ 0.04453917, -0.18233174,  0.04271562, ..., -0.00626174,\n",
       "        -0.13598892,  0.15149553],\n",
       "       [ 0.00792532,  0.124061  ,  0.10797147, ..., -0.00902264,\n",
       "        -0.15704128, -0.14578894],\n",
       "       [-0.06100713,  0.14002581,  0.10401182, ..., -0.11673842,\n",
       "         0.18547048, -0.05159631],\n",
       "       ...,\n",
       "       [ 0.00788902, -0.1164481 ,  0.1758598 , ..., -0.10485744,\n",
       "         0.09222867, -0.19802168],\n",
       "       [ 0.19492058,  0.15648331,  0.13877143, ..., -0.19273229,\n",
       "        -0.19258633, -0.15503936],\n",
       "       [ 0.04767375,  0.04420568,  0.18115194, ...,  0.13592602,\n",
       "         0.12736155,  0.13080655]], dtype=float32)"
      ]
     },
     "execution_count": 384,
     "metadata": {},
     "output_type": "execute_result"
    }
   ],
   "source": [
    "weights_output_layer"
   ]
  },
  {
   "cell_type": "code",
   "execution_count": 385,
   "metadata": {},
   "outputs": [
    {
     "data": {
      "text/plain": [
       "array([0., 0., 0., 0., 0., 0., 0., 0., 0., 0.], dtype=float32)"
      ]
     },
     "execution_count": 385,
     "metadata": {},
     "output_type": "execute_result"
    }
   ],
   "source": [
    "biases_output_layer"
   ]
  },
  {
   "cell_type": "markdown",
   "metadata": {},
   "source": [
    "**`NOTE`**<br>\n",
    "If you have more then 1 node in output ==> use softmax for classification"
   ]
  },
  {
   "cell_type": "code",
   "execution_count": 386,
   "metadata": {
    "execution": {
     "iopub.execute_input": "2022-03-12T06:36:34.151586Z",
     "iopub.status.busy": "2022-03-12T06:36:34.151297Z",
     "iopub.status.idle": "2022-03-12T06:37:10.015825Z",
     "shell.execute_reply": "2022-03-12T06:37:10.015172Z",
     "shell.execute_reply.started": "2022-03-12T06:36:34.151557Z"
    },
    "jupyter": {
     "outputs_hidden": true
    }
   },
   "outputs": [
    {
     "name": "stdout",
     "output_type": "stream",
     "text": [
      "Epoch 1/10\n",
      "1500/1500 [==============================] - 12s 7ms/step - loss: 0.2891 - accuracy: 0.9169 - val_loss: 0.1575 - val_accuracy: 0.9566\n",
      "Epoch 2/10\n",
      "1500/1500 [==============================] - 9s 6ms/step - loss: 0.1304 - accuracy: 0.9623 - val_loss: 0.1188 - val_accuracy: 0.9657\n",
      "Epoch 3/10\n",
      "1500/1500 [==============================] - 10s 7ms/step - loss: 0.0883 - accuracy: 0.9744 - val_loss: 0.0956 - val_accuracy: 0.9718\n",
      "Epoch 4/10\n",
      "1500/1500 [==============================] - 8s 5ms/step - loss: 0.0646 - accuracy: 0.9809 - val_loss: 0.0967 - val_accuracy: 0.9709\n",
      "Epoch 5/10\n",
      "1500/1500 [==============================] - 8s 6ms/step - loss: 0.0495 - accuracy: 0.9854 - val_loss: 0.0919 - val_accuracy: 0.9734\n",
      "Epoch 6/10\n",
      "1500/1500 [==============================] - 8s 5ms/step - loss: 0.0407 - accuracy: 0.9875 - val_loss: 0.0863 - val_accuracy: 0.9760\n",
      "Epoch 7/10\n",
      "1500/1500 [==============================] - 10s 7ms/step - loss: 0.0307 - accuracy: 0.9908 - val_loss: 0.0930 - val_accuracy: 0.9752\n",
      "Epoch 8/10\n",
      "1500/1500 [==============================] - 9s 6ms/step - loss: 0.0258 - accuracy: 0.9922 - val_loss: 0.0959 - val_accuracy: 0.9748\n",
      "Epoch 9/10\n",
      "1500/1500 [==============================] - 10s 6ms/step - loss: 0.0200 - accuracy: 0.9941 - val_loss: 0.1105 - val_accuracy: 0.9723\n",
      "Epoch 10/10\n",
      "1500/1500 [==============================] - 9s 6ms/step - loss: 0.0172 - accuracy: 0.9951 - val_loss: 0.0835 - val_accuracy: 0.9779\n"
     ]
    }
   ],
   "source": [
    "#model compilation\n",
    "model.compile(loss='sparse_categorical_crossentropy',optimizer='Adam',metrics=['accuracy'])\n",
    "\n",
    "#train model\n",
    "hist = model.fit(x_train,y_train,epochs=10,validation_split=0.2)"
   ]
  },
  {
   "cell_type": "markdown",
   "metadata": {},
   "source": [
    "* in `sparse_categorical_crossentropy` ==> no need to one-hot encode labels i.e. 0 to 9\n",
    "* in `categorical_crossentropy` ==> need to one-hot encode labels i.e. 0 to 9\n",
    "\n",
    "validation_split=0.2: This parameter specifies that 20% of the training data will be used as validation data. The training data will be split, and the model's performance on the validation data will be monitored during training."
   ]
  },
  {
   "cell_type": "code",
   "execution_count": 387,
   "metadata": {
    "execution": {
     "iopub.execute_input": "2022-03-12T06:38:35.359002Z",
     "iopub.status.busy": "2022-03-12T06:38:35.358155Z",
     "iopub.status.idle": "2022-03-12T06:38:35.709853Z",
     "shell.execute_reply": "2022-03-12T06:38:35.709143Z",
     "shell.execute_reply.started": "2022-03-12T06:38:35.358956Z"
    }
   },
   "outputs": [
    {
     "name": "stdout",
     "output_type": "stream",
     "text": [
      "313/313 [==============================] - 1s 3ms/step\n"
     ]
    }
   ],
   "source": [
    "y_prob = model.predict(x_test)"
   ]
  },
  {
   "cell_type": "markdown",
   "metadata": {},
   "source": [
    "It is giving probability for different number from 0 to 9 <br>\n",
    "Aim to find out which number is the given input off, so :\n",
    "* take out max value index position out of above array"
   ]
  },
  {
   "cell_type": "code",
   "execution_count": 388,
   "metadata": {
    "execution": {
     "iopub.execute_input": "2022-03-12T06:38:37.089963Z",
     "iopub.status.busy": "2022-03-12T06:38:37.089142Z",
     "iopub.status.idle": "2022-03-12T06:38:37.095180Z",
     "shell.execute_reply": "2022-03-12T06:38:37.094549Z",
     "shell.execute_reply.started": "2022-03-12T06:38:37.089922Z"
    }
   },
   "outputs": [
    {
     "data": {
      "text/plain": [
       "array([7, 2, 1, ..., 4, 5, 6], dtype=int64)"
      ]
     },
     "execution_count": 388,
     "metadata": {},
     "output_type": "execute_result"
    }
   ],
   "source": [
    "y_pred = y_prob.argmax(axis=1)\n",
    "y_pred "
   ]
  },
  {
   "cell_type": "code",
   "execution_count": 389,
   "metadata": {
    "execution": {
     "iopub.execute_input": "2022-03-12T06:38:37.518743Z",
     "iopub.status.busy": "2022-03-12T06:38:37.518112Z",
     "iopub.status.idle": "2022-03-12T06:38:37.524731Z",
     "shell.execute_reply": "2022-03-12T06:38:37.524014Z",
     "shell.execute_reply.started": "2022-03-12T06:38:37.518704Z"
    }
   },
   "outputs": [
    {
     "data": {
      "text/plain": [
       "0.9791"
      ]
     },
     "execution_count": 389,
     "metadata": {},
     "output_type": "execute_result"
    }
   ],
   "source": [
    "accuracy_score(y_test,y_pred)"
   ]
  },
  {
   "cell_type": "code",
   "execution_count": 390,
   "metadata": {
    "execution": {
     "iopub.execute_input": "2022-03-12T06:38:42.312725Z",
     "iopub.status.busy": "2022-03-12T06:38:42.312200Z",
     "iopub.status.idle": "2022-03-12T06:38:42.487803Z",
     "shell.execute_reply": "2022-03-12T06:38:42.486856Z",
     "shell.execute_reply.started": "2022-03-12T06:38:42.312686Z"
    }
   },
   "outputs": [
    {
     "data": {
      "image/png": "[encoded data removed]",
      "text/plain": [
       "<Figure size 640x480 with 1 Axes>"
      ]
     },
     "metadata": {},
     "output_type": "display_data"
    }
   ],
   "source": [
    "plt.plot(hist.history['accuracy'])\n",
    "plt.plot(hist.history['val_accuracy'])\n",
    "plt.show()"
   ]
  },
  {
   "cell_type": "code",
   "execution_count": 391,
   "metadata": {
    "execution": {
     "iopub.execute_input": "2022-03-12T06:42:24.102114Z",
     "iopub.status.busy": "2022-03-12T06:42:24.101698Z",
     "iopub.status.idle": "2022-03-12T06:42:24.302369Z",
     "shell.execute_reply": "2022-03-12T06:42:24.301487Z",
     "shell.execute_reply.started": "2022-03-12T06:42:24.102074Z"
    }
   },
   "outputs": [
    {
     "data": {
      "text/plain": [
       "<matplotlib.image.AxesImage at 0x216e0e3f5e0>"
      ]
     },
     "execution_count": 391,
     "metadata": {},
     "output_type": "execute_result"
    },
    {
     "data": {
      "image/png": "[encoded data removed]",
      "text/plain": [
       "<Figure size 640x480 with 1 Axes>"
      ]
     },
     "metadata": {},
     "output_type": "display_data"
    }
   ],
   "source": [
    "plt.imshow(x_test[6])"
   ]
  },
  {
   "cell_type": "code",
   "execution_count": 392,
   "metadata": {
    "execution": {
     "iopub.execute_input": "2022-03-12T06:42:24.752412Z",
     "iopub.status.busy": "2022-03-12T06:42:24.751889Z",
     "iopub.status.idle": "2022-03-12T06:42:24.831223Z",
     "shell.execute_reply": "2022-03-12T06:42:24.830536Z",
     "shell.execute_reply.started": "2022-03-12T06:42:24.752367Z"
    }
   },
   "outputs": [
    {
     "name": "stdout",
     "output_type": "stream",
     "text": [
      "1/1 [==============================] - 0s 46ms/step\n"
     ]
    },
    {
     "data": {
      "text/plain": [
       "array([4], dtype=int64)"
      ]
     },
     "execution_count": 392,
     "metadata": {},
     "output_type": "execute_result"
    }
   ],
   "source": [
    "# lets see how it is predicting\n",
    "model.predict(x_test[6].reshape(1,28,28)).argmax(axis=1)"
   ]
  },
  {
   "cell_type": "code",
   "execution_count": 393,
   "metadata": {},
   "outputs": [
    {
     "name": "stdout",
     "output_type": "stream",
     "text": [
      "True label for the first test image: 4\n"
     ]
    }
   ],
   "source": [
    "true_label = y_test[6]\n",
    "print(f\"True label for the first test image: {true_label}\")"
   ]
  },
  {
   "cell_type": "markdown",
   "metadata": {},
   "source": [
    "# Regression"
   ]
  },
  {
   "cell_type": "code",
   "execution_count": 394,
   "metadata": {
    "execution": {
     "iopub.execute_input": "2022-03-12T07:05:08.042502Z",
     "iopub.status.busy": "2022-03-12T07:05:08.042218Z",
     "iopub.status.idle": "2022-03-12T07:05:08.057497Z",
     "shell.execute_reply": "2022-03-12T07:05:08.056825Z",
     "shell.execute_reply.started": "2022-03-12T07:05:08.042464Z"
    }
   },
   "outputs": [
    {
     "data": {
      "text/plain": [
       "(500, 9)"
      ]
     },
     "execution_count": 394,
     "metadata": {},
     "output_type": "execute_result"
    }
   ],
   "source": [
    "#path = '/kaggle/input/graduate-admissions/'\n",
    "data = pd.read_csv('Admission_Predict_Ver1.1.csv')\n",
    "data.shape"
   ]
  },
  {
   "cell_type": "code",
   "execution_count": 395,
   "metadata": {
    "execution": {
     "iopub.execute_input": "2022-03-12T07:05:08.497799Z",
     "iopub.status.busy": "2022-03-12T07:05:08.497197Z",
     "iopub.status.idle": "2022-03-12T07:05:08.510698Z",
     "shell.execute_reply": "2022-03-12T07:05:08.509974Z",
     "shell.execute_reply.started": "2022-03-12T07:05:08.497755Z"
    }
   },
   "outputs": [
    {
     "data": {
      "text/html": [
       "<div>\n",
       "<style scoped>\n",
       "    .dataframe tbody tr th:only-of-type {\n",
       "        vertical-align: middle;\n",
       "    }\n",
       "\n",
       "    .dataframe tbody tr th {\n",
       "        vertical-align: top;\n",
       "    }\n",
       "\n",
       "    .dataframe thead th {\n",
       "        text-align: right;\n",
       "    }\n",
       "</style>\n",
       "<table border=\"1\" class=\"dataframe\">\n",
       "  <thead>\n",
       "    <tr style=\"text-align: right;\">\n",
       "      <th></th>\n",
       "      <th>Serial No.</th>\n",
       "      <th>GRE Score</th>\n",
       "      <th>TOEFL Score</th>\n",
       "      <th>University Rating</th>\n",
       "      <th>SOP</th>\n",
       "      <th>LOR</th>\n",
       "      <th>CGPA</th>\n",
       "      <th>Research</th>\n",
       "      <th>Chance of Admit</th>\n",
       "    </tr>\n",
       "  </thead>\n",
       "  <tbody>\n",
       "    <tr>\n",
       "      <th>0</th>\n",
       "      <td>1</td>\n",
       "      <td>337</td>\n",
       "      <td>118</td>\n",
       "      <td>4</td>\n",
       "      <td>4.5</td>\n",
       "      <td>4.5</td>\n",
       "      <td>9.65</td>\n",
       "      <td>1</td>\n",
       "      <td>0.92</td>\n",
       "    </tr>\n",
       "    <tr>\n",
       "      <th>1</th>\n",
       "      <td>2</td>\n",
       "      <td>324</td>\n",
       "      <td>107</td>\n",
       "      <td>4</td>\n",
       "      <td>4.0</td>\n",
       "      <td>4.5</td>\n",
       "      <td>8.87</td>\n",
       "      <td>1</td>\n",
       "      <td>0.76</td>\n",
       "    </tr>\n",
       "    <tr>\n",
       "      <th>2</th>\n",
       "      <td>3</td>\n",
       "      <td>316</td>\n",
       "      <td>104</td>\n",
       "      <td>3</td>\n",
       "      <td>3.0</td>\n",
       "      <td>3.5</td>\n",
       "      <td>8.00</td>\n",
       "      <td>1</td>\n",
       "      <td>0.72</td>\n",
       "    </tr>\n",
       "    <tr>\n",
       "      <th>3</th>\n",
       "      <td>4</td>\n",
       "      <td>322</td>\n",
       "      <td>110</td>\n",
       "      <td>3</td>\n",
       "      <td>3.5</td>\n",
       "      <td>2.5</td>\n",
       "      <td>8.67</td>\n",
       "      <td>1</td>\n",
       "      <td>0.80</td>\n",
       "    </tr>\n",
       "    <tr>\n",
       "      <th>4</th>\n",
       "      <td>5</td>\n",
       "      <td>314</td>\n",
       "      <td>103</td>\n",
       "      <td>2</td>\n",
       "      <td>2.0</td>\n",
       "      <td>3.0</td>\n",
       "      <td>8.21</td>\n",
       "      <td>0</td>\n",
       "      <td>0.65</td>\n",
       "    </tr>\n",
       "  </tbody>\n",
       "</table>\n",
       "</div>"
      ],
      "text/plain": [
       "   Serial No.  GRE Score  TOEFL Score  University Rating  SOP  LOR   CGPA  \\\n",
       "0           1        337          118                  4  4.5   4.5  9.65   \n",
       "1           2        324          107                  4  4.0   4.5  8.87   \n",
       "2           3        316          104                  3  3.0   3.5  8.00   \n",
       "3           4        322          110                  3  3.5   2.5  8.67   \n",
       "4           5        314          103                  2  2.0   3.0  8.21   \n",
       "\n",
       "   Research  Chance of Admit   \n",
       "0         1              0.92  \n",
       "1         1              0.76  \n",
       "2         1              0.72  \n",
       "3         1              0.80  \n",
       "4         0              0.65  "
      ]
     },
     "execution_count": 395,
     "metadata": {},
     "output_type": "execute_result"
    }
   ],
   "source": [
    "data.head()"
   ]
  },
  {
   "cell_type": "code",
   "execution_count": 396,
   "metadata": {
    "execution": {
     "iopub.execute_input": "2022-03-12T07:05:09.179082Z",
     "iopub.status.busy": "2022-03-12T07:05:09.178287Z",
     "iopub.status.idle": "2022-03-12T07:05:09.186018Z",
     "shell.execute_reply": "2022-03-12T07:05:09.185211Z",
     "shell.execute_reply.started": "2022-03-12T07:05:09.179045Z"
    }
   },
   "outputs": [
    {
     "data": {
      "text/plain": [
       "Serial No.           0\n",
       "GRE Score            0\n",
       "TOEFL Score          0\n",
       "University Rating    0\n",
       "SOP                  0\n",
       "LOR                  0\n",
       "CGPA                 0\n",
       "Research             0\n",
       "Chance of Admit      0\n",
       "dtype: int64"
      ]
     },
     "execution_count": 396,
     "metadata": {},
     "output_type": "execute_result"
    }
   ],
   "source": [
    "data.isnull().sum()"
   ]
  },
  {
   "cell_type": "code",
   "execution_count": 397,
   "metadata": {
    "execution": {
     "iopub.execute_input": "2022-03-12T07:05:09.732832Z",
     "iopub.status.busy": "2022-03-12T07:05:09.732428Z",
     "iopub.status.idle": "2022-03-12T07:05:09.743887Z",
     "shell.execute_reply": "2022-03-12T07:05:09.743216Z",
     "shell.execute_reply.started": "2022-03-12T07:05:09.732802Z"
    }
   },
   "outputs": [
    {
     "name": "stdout",
     "output_type": "stream",
     "text": [
      "<class 'pandas.core.frame.DataFrame'>\n",
      "RangeIndex: 500 entries, 0 to 499\n",
      "Data columns (total 9 columns):\n",
      " #   Column             Non-Null Count  Dtype  \n",
      "---  ------             --------------  -----  \n",
      " 0   Serial No.         500 non-null    int64  \n",
      " 1   GRE Score          500 non-null    int64  \n",
      " 2   TOEFL Score        500 non-null    int64  \n",
      " 3   University Rating  500 non-null    int64  \n",
      " 4   SOP                500 non-null    float64\n",
      " 5   LOR                500 non-null    float64\n",
      " 6   CGPA               500 non-null    float64\n",
      " 7   Research           500 non-null    int64  \n",
      " 8   Chance of Admit    500 non-null    float64\n",
      "dtypes: float64(4), int64(5)\n",
      "memory usage: 35.3 KB\n"
     ]
    }
   ],
   "source": [
    "data.info()"
   ]
  },
  {
   "cell_type": "code",
   "execution_count": 398,
   "metadata": {
    "execution": {
     "iopub.execute_input": "2022-03-12T07:05:10.570944Z",
     "iopub.status.busy": "2022-03-12T07:05:10.570540Z",
     "iopub.status.idle": "2022-03-12T07:05:10.575310Z",
     "shell.execute_reply": "2022-03-12T07:05:10.574661Z",
     "shell.execute_reply.started": "2022-03-12T07:05:10.570910Z"
    }
   },
   "outputs": [],
   "source": [
    "data.drop(columns=['Serial No.'],inplace=True)"
   ]
  },
  {
   "cell_type": "code",
   "execution_count": 399,
   "metadata": {
    "execution": {
     "iopub.execute_input": "2022-03-12T07:05:11.013368Z",
     "iopub.status.busy": "2022-03-12T07:05:11.013006Z",
     "iopub.status.idle": "2022-03-12T07:05:11.025394Z",
     "shell.execute_reply": "2022-03-12T07:05:11.024155Z",
     "shell.execute_reply.started": "2022-03-12T07:05:11.013325Z"
    }
   },
   "outputs": [
    {
     "data": {
      "text/plain": [
       "(500, 8)"
      ]
     },
     "execution_count": 399,
     "metadata": {},
     "output_type": "execute_result"
    }
   ],
   "source": [
    "data.shape"
   ]
  },
  {
   "cell_type": "code",
   "execution_count": 400,
   "metadata": {
    "execution": {
     "iopub.execute_input": "2022-03-12T07:06:14.394111Z",
     "iopub.status.busy": "2022-03-12T07:06:14.393304Z",
     "iopub.status.idle": "2022-03-12T07:06:14.398340Z",
     "shell.execute_reply": "2022-03-12T07:06:14.397712Z",
     "shell.execute_reply.started": "2022-03-12T07:06:14.394073Z"
    }
   },
   "outputs": [],
   "source": [
    "x = data.iloc[:,0:-1]\n",
    "y = data.iloc[:,-1]"
   ]
  },
  {
   "cell_type": "code",
   "execution_count": 401,
   "metadata": {
    "execution": {
     "iopub.execute_input": "2022-03-12T07:09:24.682730Z",
     "iopub.status.busy": "2022-03-12T07:09:24.682188Z",
     "iopub.status.idle": "2022-03-12T07:09:24.692482Z",
     "shell.execute_reply": "2022-03-12T07:09:24.691685Z",
     "shell.execute_reply.started": "2022-03-12T07:09:24.682692Z"
    }
   },
   "outputs": [
    {
     "data": {
      "text/plain": [
       "((400, 7), (400,), (100, 7), (100,))"
      ]
     },
     "execution_count": 401,
     "metadata": {},
     "output_type": "execute_result"
    }
   ],
   "source": [
    "from sklearn.model_selection import train_test_split\n",
    "\n",
    "train_x,test_x,train_y,test_y = train_test_split(x,y,test_size=0.2,random_state=108)\n",
    "\n",
    "train_x.shape,train_y.shape,test_x.shape,test_y.shape"
   ]
  },
  {
   "cell_type": "code",
   "execution_count": 402,
   "metadata": {
    "execution": {
     "iopub.execute_input": "2022-03-12T07:10:47.444161Z",
     "iopub.status.busy": "2022-03-12T07:10:47.443865Z",
     "iopub.status.idle": "2022-03-12T07:10:47.458239Z",
     "shell.execute_reply": "2022-03-12T07:10:47.457249Z",
     "shell.execute_reply.started": "2022-03-12T07:10:47.444129Z"
    }
   },
   "outputs": [],
   "source": [
    "from sklearn.preprocessing import MinMaxScaler\n",
    "\n",
    "scale = MinMaxScaler()\n",
    "\n",
    "train_x_scale = scale.fit_transform(train_x) #scaled np array\n",
    "test_x_scale = scale.fit_transform(test_x)   #scaled np array"
   ]
  },
  {
   "cell_type": "code",
   "execution_count": 403,
   "metadata": {
    "execution": {
     "iopub.execute_input": "2022-03-12T07:13:31.088480Z",
     "iopub.status.busy": "2022-03-12T07:13:31.088216Z",
     "iopub.status.idle": "2022-03-12T07:13:31.115352Z",
     "shell.execute_reply": "2022-03-12T07:13:31.114347Z",
     "shell.execute_reply.started": "2022-03-12T07:13:31.088451Z"
    }
   },
   "outputs": [],
   "source": [
    " model = Sequential()\n",
    "    \n",
    "model.add(Dense(7,activation='relu',input_dim=7))\n",
    "model.add(Dense(1,activation='linear')) #as this is Regression problem"
   ]
  },
  {
   "cell_type": "code",
   "execution_count": 404,
   "metadata": {
    "execution": {
     "iopub.execute_input": "2022-03-12T07:13:40.362327Z",
     "iopub.status.busy": "2022-03-12T07:13:40.361323Z",
     "iopub.status.idle": "2022-03-12T07:13:40.369234Z",
     "shell.execute_reply": "2022-03-12T07:13:40.368201Z",
     "shell.execute_reply.started": "2022-03-12T07:13:40.362280Z"
    }
   },
   "outputs": [
    {
     "name": "stdout",
     "output_type": "stream",
     "text": [
      "Model: \"sequential_24\"\n",
      "_________________________________________________________________\n",
      " Layer (type)                Output Shape              Param #   \n",
      "=================================================================\n",
      " dense_57 (Dense)            (None, 7)                 56        \n",
      "                                                                 \n",
      " dense_58 (Dense)            (None, 1)                 8         \n",
      "                                                                 \n",
      "=================================================================\n",
      "Total params: 64 (256.00 Byte)\n",
      "Trainable params: 64 (256.00 Byte)\n",
      "Non-trainable params: 0 (0.00 Byte)\n",
      "_________________________________________________________________\n"
     ]
    }
   ],
   "source": [
    "model.summary()"
   ]
  },
  {
   "cell_type": "code",
   "execution_count": 405,
   "metadata": {
    "execution": {
     "iopub.execute_input": "2022-03-12T07:15:22.784338Z",
     "iopub.status.busy": "2022-03-12T07:15:22.784024Z",
     "iopub.status.idle": "2022-03-12T07:15:23.729370Z",
     "shell.execute_reply": "2022-03-12T07:15:23.728477Z",
     "shell.execute_reply.started": "2022-03-12T07:15:22.784303Z"
    },
    "jupyter": {
     "outputs_hidden": true
    }
   },
   "outputs": [
    {
     "name": "stdout",
     "output_type": "stream",
     "text": [
      "Epoch 1/10\n",
      "10/10 [==============================] - 1s 35ms/step - loss: 1.6121 - val_loss: 1.4229\n",
      "Epoch 2/10\n",
      "10/10 [==============================] - 0s 8ms/step - loss: 1.2612 - val_loss: 1.1072\n",
      "Epoch 3/10\n",
      "10/10 [==============================] - 0s 7ms/step - loss: 0.9739 - val_loss: 0.8528\n",
      "Epoch 4/10\n",
      "10/10 [==============================] - 0s 8ms/step - loss: 0.7481 - val_loss: 0.6521\n",
      "Epoch 5/10\n",
      "10/10 [==============================] - 0s 8ms/step - loss: 0.5694 - val_loss: 0.4986\n",
      "Epoch 6/10\n",
      "10/10 [==============================] - 0s 8ms/step - loss: 0.4338 - val_loss: 0.3833\n",
      "Epoch 7/10\n",
      "10/10 [==============================] - 0s 8ms/step - loss: 0.3333 - val_loss: 0.2960\n",
      "Epoch 8/10\n",
      "10/10 [==============================] - 0s 8ms/step - loss: 0.2558 - val_loss: 0.2318\n",
      "Epoch 9/10\n",
      "10/10 [==============================] - 0s 8ms/step - loss: 0.2022 - val_loss: 0.1822\n",
      "Epoch 10/10\n",
      "10/10 [==============================] - 0s 8ms/step - loss: 0.1602 - val_loss: 0.1461\n"
     ]
    }
   ],
   "source": [
    "model.compile(loss='mean_squared_error',optimizer='Adam')\n",
    "\n",
    "hist = model.fit(train_x_scale,train_y,epochs=10,validation_split=0.2)"
   ]
  },
  {
   "cell_type": "code",
   "execution_count": 406,
   "metadata": {
    "execution": {
     "iopub.execute_input": "2022-03-12T07:16:17.983084Z",
     "iopub.status.busy": "2022-03-12T07:16:17.982749Z",
     "iopub.status.idle": "2022-03-12T07:16:18.044104Z",
     "shell.execute_reply": "2022-03-12T07:16:18.043403Z",
     "shell.execute_reply.started": "2022-03-12T07:16:17.983047Z"
    }
   },
   "outputs": [
    {
     "name": "stdout",
     "output_type": "stream",
     "text": [
      "4/4 [==============================] - 0s 4ms/step\n"
     ]
    }
   ],
   "source": [
    "#prediction\n",
    "y_pred = model.predict(test_x_scale)"
   ]
  },
  {
   "cell_type": "code",
   "execution_count": 407,
   "metadata": {
    "execution": {
     "iopub.execute_input": "2022-03-12T07:17:23.065132Z",
     "iopub.status.busy": "2022-03-12T07:17:23.064358Z",
     "iopub.status.idle": "2022-03-12T07:17:23.071065Z",
     "shell.execute_reply": "2022-03-12T07:17:23.070374Z",
     "shell.execute_reply.started": "2022-03-12T07:17:23.065091Z"
    }
   },
   "outputs": [
    {
     "data": {
      "text/plain": [
       "-8.190416307631954"
      ]
     },
     "execution_count": 407,
     "metadata": {},
     "output_type": "execute_result"
    }
   ],
   "source": [
    "from sklearn.metrics import r2_score\n",
    "\n",
    "r2_score(test_y,y_pred)"
   ]
  },
  {
   "cell_type": "markdown",
   "metadata": {},
   "source": [
    "Performance is not that good <br>\n",
    "Lets upgrade it's architecture"
   ]
  },
  {
   "cell_type": "code",
   "execution_count": 408,
   "metadata": {
    "execution": {
     "iopub.execute_input": "2022-03-12T07:20:07.979865Z",
     "iopub.status.busy": "2022-03-12T07:20:07.979593Z",
     "iopub.status.idle": "2022-03-12T07:20:08.011379Z",
     "shell.execute_reply": "2022-03-12T07:20:08.010679Z",
     "shell.execute_reply.started": "2022-03-12T07:20:07.979838Z"
    }
   },
   "outputs": [],
   "source": [
    " model = Sequential()\n",
    "    \n",
    "model.add(Dense(7,activation='relu',input_dim=7))\n",
    "model.add(Dense(7,activation='relu'))\n",
    "model.add(Dense(1,activation='linear')) #as this is Regression problem"
   ]
  },
  {
   "cell_type": "code",
   "execution_count": 409,
   "metadata": {
    "execution": {
     "iopub.execute_input": "2022-03-12T07:20:10.093036Z",
     "iopub.status.busy": "2022-03-12T07:20:10.092772Z",
     "iopub.status.idle": "2022-03-12T07:20:10.102334Z",
     "shell.execute_reply": "2022-03-12T07:20:10.101095Z",
     "shell.execute_reply.started": "2022-03-12T07:20:10.093007Z"
    }
   },
   "outputs": [
    {
     "name": "stdout",
     "output_type": "stream",
     "text": [
      "Model: \"sequential_25\"\n",
      "_________________________________________________________________\n",
      " Layer (type)                Output Shape              Param #   \n",
      "=================================================================\n",
      " dense_59 (Dense)            (None, 7)                 56        \n",
      "                                                                 \n",
      " dense_60 (Dense)            (None, 7)                 56        \n",
      "                                                                 \n",
      " dense_61 (Dense)            (None, 1)                 8         \n",
      "                                                                 \n",
      "=================================================================\n",
      "Total params: 120 (480.00 Byte)\n",
      "Trainable params: 120 (480.00 Byte)\n",
      "Non-trainable params: 0 (0.00 Byte)\n",
      "_________________________________________________________________\n"
     ]
    }
   ],
   "source": [
    "model.summary()"
   ]
  },
  {
   "cell_type": "code",
   "execution_count": 410,
   "metadata": {},
   "outputs": [],
   "source": [
    "# Get weights and biases for the first hidden layer\n",
    "weights_hidden_layer = model.layers[1].get_weights()[0]\n",
    "biases_hidden_layer = model.layers[1].get_weights()[1]\n",
    "\n",
    "# Get weights and biases for the output layer\n",
    "weights_output_layer = model.layers[2].get_weights()[0]\n",
    "biases_output_layer = model.layers[2].get_weights()[1]"
   ]
  },
  {
   "cell_type": "code",
   "execution_count": 411,
   "metadata": {},
   "outputs": [
    {
     "data": {
      "text/plain": [
       "array([[-0.06128293, -0.2519413 ,  0.62249076, -0.595446  , -0.42818505,\n",
       "         0.1503542 ,  0.30677903],\n",
       "       [ 0.46710026, -0.55623174, -0.20816118,  0.2951759 ,  0.12819558,\n",
       "        -0.21342972, -0.4328806 ],\n",
       "       [-0.4112224 ,  0.38013923,  0.3926251 , -0.47022828,  0.32580143,\n",
       "        -0.26765105, -0.46454751],\n",
       "       [-0.23597354, -0.26552024,  0.62790406,  0.23552632,  0.38359225,\n",
       "        -0.62655884, -0.12743014],\n",
       "       [-0.34912425, -0.5239384 , -0.4077841 ,  0.04052222,  0.594067  ,\n",
       "         0.02962911,  0.4829452 ],\n",
       "       [ 0.10112154,  0.48353326, -0.63814664,  0.15987003,  0.20896453,\n",
       "        -0.37607783, -0.10470295],\n",
       "       [ 0.11723351,  0.07412595,  0.3690921 , -0.28947532,  0.24518418,\n",
       "        -0.33423343,  0.13736743]], dtype=float32)"
      ]
     },
     "execution_count": 411,
     "metadata": {},
     "output_type": "execute_result"
    }
   ],
   "source": [
    "weights_hidden_layer"
   ]
  },
  {
   "cell_type": "code",
   "execution_count": 412,
   "metadata": {},
   "outputs": [
    {
     "data": {
      "text/plain": [
       "array([0., 0., 0., 0., 0., 0., 0.], dtype=float32)"
      ]
     },
     "execution_count": 412,
     "metadata": {},
     "output_type": "execute_result"
    }
   ],
   "source": [
    "biases_hidden_layer"
   ]
  },
  {
   "cell_type": "code",
   "execution_count": 413,
   "metadata": {},
   "outputs": [
    {
     "data": {
      "text/plain": [
       "array([[-0.79065585],\n",
       "       [ 0.62105817],\n",
       "       [-0.7860702 ],\n",
       "       [ 0.22569007],\n",
       "       [-0.23994142],\n",
       "       [-0.11674368],\n",
       "       [-0.2912038 ]], dtype=float32)"
      ]
     },
     "execution_count": 413,
     "metadata": {},
     "output_type": "execute_result"
    }
   ],
   "source": [
    "weights_output_layer"
   ]
  },
  {
   "cell_type": "code",
   "execution_count": 414,
   "metadata": {},
   "outputs": [
    {
     "data": {
      "text/plain": [
       "array([0.], dtype=float32)"
      ]
     },
     "execution_count": 414,
     "metadata": {},
     "output_type": "execute_result"
    }
   ],
   "source": [
    "biases_output_layer"
   ]
  },
  {
   "cell_type": "code",
   "execution_count": 415,
   "metadata": {
    "execution": {
     "iopub.execute_input": "2022-03-12T07:20:19.456186Z",
     "iopub.status.busy": "2022-03-12T07:20:19.455885Z",
     "iopub.status.idle": "2022-03-12T07:20:25.335963Z",
     "shell.execute_reply": "2022-03-12T07:20:25.334888Z",
     "shell.execute_reply.started": "2022-03-12T07:20:19.456156Z"
    },
    "jupyter": {
     "outputs_hidden": true
    }
   },
   "outputs": [
    {
     "name": "stdout",
     "output_type": "stream",
     "text": [
      "Epoch 1/100\n",
      "10/10 [==============================] - 2s 44ms/step - loss: 1.6866 - val_loss: 1.5007\n",
      "Epoch 2/100\n",
      "10/10 [==============================] - 0s 13ms/step - loss: 1.3962 - val_loss: 1.2309\n",
      "Epoch 3/100\n",
      "10/10 [==============================] - 0s 11ms/step - loss: 1.1455 - val_loss: 1.0026\n",
      "Epoch 4/100\n",
      "10/10 [==============================] - 0s 10ms/step - loss: 0.9426 - val_loss: 0.8165\n",
      "Epoch 5/100\n",
      "10/10 [==============================] - 0s 12ms/step - loss: 0.7872 - val_loss: 0.6843\n",
      "Epoch 6/100\n",
      "10/10 [==============================] - 0s 11ms/step - loss: 0.6712 - val_loss: 0.5942\n",
      "Epoch 7/100\n",
      "10/10 [==============================] - 0s 11ms/step - loss: 0.5921 - val_loss: 0.5282\n",
      "Epoch 8/100\n",
      "10/10 [==============================] - 0s 11ms/step - loss: 0.5333 - val_loss: 0.4839\n",
      "Epoch 9/100\n",
      "10/10 [==============================] - 0s 10ms/step - loss: 0.4805 - val_loss: 0.4318\n",
      "Epoch 10/100\n",
      "10/10 [==============================] - 0s 12ms/step - loss: 0.4177 - val_loss: 0.3640\n",
      "Epoch 11/100\n",
      "10/10 [==============================] - 0s 12ms/step - loss: 0.3402 - val_loss: 0.2864\n",
      "Epoch 12/100\n",
      "10/10 [==============================] - 0s 11ms/step - loss: 0.2528 - val_loss: 0.2003\n",
      "Epoch 13/100\n",
      "10/10 [==============================] - 0s 10ms/step - loss: 0.1686 - val_loss: 0.1255\n",
      "Epoch 14/100\n",
      "10/10 [==============================] - 0s 10ms/step - loss: 0.1050 - val_loss: 0.0747\n",
      "Epoch 15/100\n",
      "10/10 [==============================] - 0s 11ms/step - loss: 0.0616 - val_loss: 0.0442\n",
      "Epoch 16/100\n",
      "10/10 [==============================] - 0s 11ms/step - loss: 0.0378 - val_loss: 0.0274\n",
      "Epoch 17/100\n",
      "10/10 [==============================] - 0s 10ms/step - loss: 0.0261 - val_loss: 0.0211\n",
      "Epoch 18/100\n",
      "10/10 [==============================] - 0s 10ms/step - loss: 0.0226 - val_loss: 0.0201\n",
      "Epoch 19/100\n",
      "10/10 [==============================] - 0s 11ms/step - loss: 0.0219 - val_loss: 0.0198\n",
      "Epoch 20/100\n",
      "10/10 [==============================] - 0s 12ms/step - loss: 0.0216 - val_loss: 0.0194\n",
      "Epoch 21/100\n",
      "10/10 [==============================] - 0s 12ms/step - loss: 0.0211 - val_loss: 0.0190\n",
      "Epoch 22/100\n",
      "10/10 [==============================] - 0s 11ms/step - loss: 0.0206 - val_loss: 0.0187\n",
      "Epoch 23/100\n",
      "10/10 [==============================] - 0s 10ms/step - loss: 0.0203 - val_loss: 0.0184\n",
      "Epoch 24/100\n",
      "10/10 [==============================] - 0s 11ms/step - loss: 0.0199 - val_loss: 0.0181\n",
      "Epoch 25/100\n",
      "10/10 [==============================] - 0s 10ms/step - loss: 0.0196 - val_loss: 0.0179\n",
      "Epoch 26/100\n",
      "10/10 [==============================] - 0s 10ms/step - loss: 0.0193 - val_loss: 0.0176\n",
      "Epoch 27/100\n",
      "10/10 [==============================] - 0s 10ms/step - loss: 0.0190 - val_loss: 0.0174\n",
      "Epoch 28/100\n",
      "10/10 [==============================] - 0s 10ms/step - loss: 0.0187 - val_loss: 0.0171\n",
      "Epoch 29/100\n",
      "10/10 [==============================] - 0s 10ms/step - loss: 0.0184 - val_loss: 0.0169\n",
      "Epoch 30/100\n",
      "10/10 [==============================] - 0s 11ms/step - loss: 0.0181 - val_loss: 0.0167\n",
      "Epoch 31/100\n",
      "10/10 [==============================] - 0s 11ms/step - loss: 0.0179 - val_loss: 0.0165\n",
      "Epoch 32/100\n",
      "10/10 [==============================] - 0s 11ms/step - loss: 0.0176 - val_loss: 0.0163\n",
      "Epoch 33/100\n",
      "10/10 [==============================] - 0s 10ms/step - loss: 0.0173 - val_loss: 0.0161\n",
      "Epoch 34/100\n",
      "10/10 [==============================] - 0s 10ms/step - loss: 0.0171 - val_loss: 0.0159\n",
      "Epoch 35/100\n",
      "10/10 [==============================] - 0s 9ms/step - loss: 0.0169 - val_loss: 0.0157\n",
      "Epoch 36/100\n",
      "10/10 [==============================] - 0s 10ms/step - loss: 0.0166 - val_loss: 0.0155\n",
      "Epoch 37/100\n",
      "10/10 [==============================] - 0s 9ms/step - loss: 0.0164 - val_loss: 0.0153\n",
      "Epoch 38/100\n",
      "10/10 [==============================] - 0s 9ms/step - loss: 0.0162 - val_loss: 0.0152\n",
      "Epoch 39/100\n",
      "10/10 [==============================] - 0s 10ms/step - loss: 0.0160 - val_loss: 0.0150\n",
      "Epoch 40/100\n",
      "10/10 [==============================] - 0s 9ms/step - loss: 0.0158 - val_loss: 0.0148\n",
      "Epoch 41/100\n",
      "10/10 [==============================] - 0s 10ms/step - loss: 0.0156 - val_loss: 0.0147\n",
      "Epoch 42/100\n",
      "10/10 [==============================] - 0s 10ms/step - loss: 0.0154 - val_loss: 0.0145\n",
      "Epoch 43/100\n",
      "10/10 [==============================] - 0s 9ms/step - loss: 0.0153 - val_loss: 0.0143\n",
      "Epoch 44/100\n",
      "10/10 [==============================] - 0s 10ms/step - loss: 0.0151 - val_loss: 0.0142\n",
      "Epoch 45/100\n",
      "10/10 [==============================] - 0s 10ms/step - loss: 0.0149 - val_loss: 0.0140\n",
      "Epoch 46/100\n",
      "10/10 [==============================] - 0s 9ms/step - loss: 0.0147 - val_loss: 0.0138\n",
      "Epoch 47/100\n",
      "10/10 [==============================] - 0s 10ms/step - loss: 0.0145 - val_loss: 0.0136\n",
      "Epoch 48/100\n",
      "10/10 [==============================] - 0s 11ms/step - loss: 0.0143 - val_loss: 0.0133\n",
      "Epoch 49/100\n",
      "10/10 [==============================] - 0s 10ms/step - loss: 0.0140 - val_loss: 0.0129\n",
      "Epoch 50/100\n",
      "10/10 [==============================] - 0s 10ms/step - loss: 0.0137 - val_loss: 0.0127\n",
      "Epoch 51/100\n",
      "10/10 [==============================] - 0s 10ms/step - loss: 0.0135 - val_loss: 0.0125\n",
      "Epoch 52/100\n",
      "10/10 [==============================] - 0s 9ms/step - loss: 0.0133 - val_loss: 0.0123\n",
      "Epoch 53/100\n",
      "10/10 [==============================] - 0s 10ms/step - loss: 0.0131 - val_loss: 0.0121\n",
      "Epoch 54/100\n",
      "10/10 [==============================] - 0s 9ms/step - loss: 0.0129 - val_loss: 0.0120\n",
      "Epoch 55/100\n",
      "10/10 [==============================] - 0s 10ms/step - loss: 0.0128 - val_loss: 0.0118\n",
      "Epoch 56/100\n",
      "10/10 [==============================] - 0s 10ms/step - loss: 0.0126 - val_loss: 0.0117\n",
      "Epoch 57/100\n",
      "10/10 [==============================] - 0s 10ms/step - loss: 0.0125 - val_loss: 0.0115\n",
      "Epoch 58/100\n",
      "10/10 [==============================] - 0s 11ms/step - loss: 0.0123 - val_loss: 0.0114\n",
      "Epoch 59/100\n",
      "10/10 [==============================] - 0s 11ms/step - loss: 0.0121 - val_loss: 0.0112\n",
      "Epoch 60/100\n",
      "10/10 [==============================] - 0s 11ms/step - loss: 0.0120 - val_loss: 0.0111\n",
      "Epoch 61/100\n",
      "10/10 [==============================] - 0s 11ms/step - loss: 0.0118 - val_loss: 0.0109\n",
      "Epoch 62/100\n",
      "10/10 [==============================] - 0s 12ms/step - loss: 0.0116 - val_loss: 0.0107\n",
      "Epoch 63/100\n",
      "10/10 [==============================] - 0s 10ms/step - loss: 0.0114 - val_loss: 0.0105\n",
      "Epoch 64/100\n",
      "10/10 [==============================] - 0s 9ms/step - loss: 0.0112 - val_loss: 0.0103\n",
      "Epoch 65/100\n",
      "10/10 [==============================] - 0s 9ms/step - loss: 0.0110 - val_loss: 0.0102\n",
      "Epoch 66/100\n",
      "10/10 [==============================] - 0s 8ms/step - loss: 0.0109 - val_loss: 0.0100\n",
      "Epoch 67/100\n",
      "10/10 [==============================] - 0s 9ms/step - loss: 0.0107 - val_loss: 0.0099\n",
      "Epoch 68/100\n",
      "10/10 [==============================] - 0s 15ms/step - loss: 0.0106 - val_loss: 0.0098\n",
      "Epoch 69/100\n",
      "10/10 [==============================] - 0s 9ms/step - loss: 0.0104 - val_loss: 0.0096\n",
      "Epoch 70/100\n",
      "10/10 [==============================] - 0s 9ms/step - loss: 0.0103 - val_loss: 0.0095\n",
      "Epoch 71/100\n",
      "10/10 [==============================] - 0s 9ms/step - loss: 0.0102 - val_loss: 0.0094\n",
      "Epoch 72/100\n",
      "10/10 [==============================] - 0s 9ms/step - loss: 0.0100 - val_loss: 0.0093\n",
      "Epoch 73/100\n",
      "10/10 [==============================] - 0s 10ms/step - loss: 0.0099 - val_loss: 0.0092\n",
      "Epoch 74/100\n",
      "10/10 [==============================] - 0s 8ms/step - loss: 0.0097 - val_loss: 0.0091\n",
      "Epoch 75/100\n",
      "10/10 [==============================] - 0s 8ms/step - loss: 0.0097 - val_loss: 0.0090\n",
      "Epoch 76/100\n",
      "10/10 [==============================] - 0s 9ms/step - loss: 0.0095 - val_loss: 0.0088\n",
      "Epoch 77/100\n",
      "10/10 [==============================] - 0s 9ms/step - loss: 0.0094 - val_loss: 0.0087\n",
      "Epoch 78/100\n",
      "10/10 [==============================] - 0s 9ms/step - loss: 0.0092 - val_loss: 0.0086\n",
      "Epoch 79/100\n",
      "10/10 [==============================] - 0s 9ms/step - loss: 0.0091 - val_loss: 0.0084\n",
      "Epoch 80/100\n",
      "10/10 [==============================] - 0s 8ms/step - loss: 0.0089 - val_loss: 0.0083\n",
      "Epoch 81/100\n",
      "10/10 [==============================] - 0s 8ms/step - loss: 0.0087 - val_loss: 0.0081\n",
      "Epoch 82/100\n"
     ]
    },
    {
     "name": "stdout",
     "output_type": "stream",
     "text": [
      "10/10 [==============================] - 0s 8ms/step - loss: 0.0084 - val_loss: 0.0080\n",
      "Epoch 83/100\n",
      "10/10 [==============================] - 0s 7ms/step - loss: 0.0083 - val_loss: 0.0079\n",
      "Epoch 84/100\n",
      "10/10 [==============================] - 0s 7ms/step - loss: 0.0081 - val_loss: 0.0078\n",
      "Epoch 85/100\n",
      "10/10 [==============================] - 0s 9ms/step - loss: 0.0079 - val_loss: 0.0077\n",
      "Epoch 86/100\n",
      "10/10 [==============================] - 0s 7ms/step - loss: 0.0078 - val_loss: 0.0076\n",
      "Epoch 87/100\n",
      "10/10 [==============================] - 0s 8ms/step - loss: 0.0077 - val_loss: 0.0075\n",
      "Epoch 88/100\n",
      "10/10 [==============================] - 0s 7ms/step - loss: 0.0075 - val_loss: 0.0074\n",
      "Epoch 89/100\n",
      "10/10 [==============================] - 0s 8ms/step - loss: 0.0075 - val_loss: 0.0074\n",
      "Epoch 90/100\n",
      "10/10 [==============================] - 0s 7ms/step - loss: 0.0073 - val_loss: 0.0073\n",
      "Epoch 91/100\n",
      "10/10 [==============================] - 0s 8ms/step - loss: 0.0072 - val_loss: 0.0072\n",
      "Epoch 92/100\n",
      "10/10 [==============================] - 0s 7ms/step - loss: 0.0071 - val_loss: 0.0071\n",
      "Epoch 93/100\n",
      "10/10 [==============================] - 0s 8ms/step - loss: 0.0070 - val_loss: 0.0070\n",
      "Epoch 94/100\n",
      "10/10 [==============================] - 0s 7ms/step - loss: 0.0069 - val_loss: 0.0070\n",
      "Epoch 95/100\n",
      "10/10 [==============================] - 0s 8ms/step - loss: 0.0068 - val_loss: 0.0069\n",
      "Epoch 96/100\n",
      "10/10 [==============================] - 0s 7ms/step - loss: 0.0067 - val_loss: 0.0068\n",
      "Epoch 97/100\n",
      "10/10 [==============================] - 0s 8ms/step - loss: 0.0066 - val_loss: 0.0067\n",
      "Epoch 98/100\n",
      "10/10 [==============================] - 0s 8ms/step - loss: 0.0065 - val_loss: 0.0067\n",
      "Epoch 99/100\n",
      "10/10 [==============================] - 0s 8ms/step - loss: 0.0065 - val_loss: 0.0066\n",
      "Epoch 100/100\n",
      "10/10 [==============================] - 0s 8ms/step - loss: 0.0063 - val_loss: 0.0065\n"
     ]
    }
   ],
   "source": [
    "model.compile(loss='mean_squared_error',optimizer='Adam')\n",
    "\n",
    "hist = model.fit(train_x_scale,train_y,epochs=100,validation_split=0.2)"
   ]
  },
  {
   "cell_type": "code",
   "execution_count": 416,
   "metadata": {
    "execution": {
     "iopub.execute_input": "2022-03-12T07:20:26.726483Z",
     "iopub.status.busy": "2022-03-12T07:20:26.726052Z",
     "iopub.status.idle": "2022-03-12T07:20:26.836174Z",
     "shell.execute_reply": "2022-03-12T07:20:26.835489Z",
     "shell.execute_reply.started": "2022-03-12T07:20:26.726447Z"
    }
   },
   "outputs": [
    {
     "name": "stdout",
     "output_type": "stream",
     "text": [
      "4/4 [==============================] - 0s 3ms/step\n"
     ]
    },
    {
     "data": {
      "text/plain": [
       "0.743526994867298"
      ]
     },
     "execution_count": 416,
     "metadata": {},
     "output_type": "execute_result"
    }
   ],
   "source": [
    "#prediction\n",
    "y_pred = model.predict(test_x_scale)\n",
    "\n",
    "r2_score(test_y,y_pred)"
   ]
  },
  {
   "cell_type": "code",
   "execution_count": 417,
   "metadata": {
    "execution": {
     "iopub.execute_input": "2022-03-12T07:22:30.340550Z",
     "iopub.status.busy": "2022-03-12T07:22:30.339893Z",
     "iopub.status.idle": "2022-03-12T07:22:30.522742Z",
     "shell.execute_reply": "2022-03-12T07:22:30.521909Z",
     "shell.execute_reply.started": "2022-03-12T07:22:30.340516Z"
    }
   },
   "outputs": [
    {
     "data": {
      "image/png": "[encoded data removed]",
      "text/plain": [
       "<Figure size 640x480 with 1 Axes>"
      ]
     },
     "metadata": {},
     "output_type": "display_data"
    }
   ],
   "source": [
    "#plotting training and validation loss\n",
    "\n",
    "plt.plot(hist.history['loss'])\n",
    "plt.plot(hist.history['val_loss'])\n",
    "plt.show()"
   ]
  },
  {
   "cell_type": "code",
   "execution_count": null,
   "metadata": {},
   "outputs": [],
   "source": []
  }
 ],
 "metadata": {
  "kernelspec": {
   "display_name": "Python 3 (ipykernel)",
   "language": "python",
   "name": "python3"
  },
  "language_info": {
   "codemirror_mode": {
    "name": "ipython",
    "version": 3
   },
   "file_extension": ".py",
   "mimetype": "text/x-python",
   "name": "python",
   "nbconvert_exporter": "python",
   "pygments_lexer": "ipython3",
   "version": "3.10.9"
  }
 },
 "nbformat": 4,
 "nbformat_minor": 4
}
