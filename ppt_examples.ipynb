{
 "cells": [
  {
   "cell_type": "markdown",
   "id": "e4423bc9",
   "metadata": {},
   "source": [
    "# Python Lists"
   ]
  },
  {
   "cell_type": "code",
   "execution_count": 1,
   "id": "2f7cb1d6",
   "metadata": {},
   "outputs": [
    {
     "name": "stdout",
     "output_type": "stream",
     "text": [
      "Zahara\n"
     ]
    }
   ],
   "source": [
    "#Index\n",
    "names = ['Zahara', 'David', 'Abi']\n",
    "print(names[0])"
   ]
  },
  {
   "cell_type": "code",
   "execution_count": 2,
   "id": "6351ad03",
   "metadata": {},
   "outputs": [
    {
     "name": "stdout",
     "output_type": "stream",
     "text": [
      "['fish', 'frog']\n"
     ]
    }
   ],
   "source": [
    "#list within list\n",
    "list1 = [2, 9.7, 'word', True]\n",
    "list2 = ['cat', 'dog', ['fish', 'frog'], 70]\n",
    "print(list2[2])"
   ]
  },
  {
   "cell_type": "code",
   "execution_count": 3,
   "id": "53ecf18c",
   "metadata": {},
   "outputs": [
    {
     "name": "stdout",
     "output_type": "stream",
     "text": [
      "w\n"
     ]
    }
   ],
   "source": [
    "list2 = list1[2]\n",
    "print(list2[0])"
   ]
  },
  {
   "cell_type": "code",
   "execution_count": 4,
   "id": "3e0d61b5",
   "metadata": {},
   "outputs": [
    {
     "name": "stdout",
     "output_type": "stream",
     "text": [
      "[2.5, 4, 9.0, 23.5]\n"
     ]
    }
   ],
   "source": [
    "#list functions\n",
    "#sort\n",
    "prices = [23.5, 4, 2.5, 9.0]\n",
    "prices.sort()\n",
    "print(prices)"
   ]
  },
  {
   "cell_type": "code",
   "execution_count": 5,
   "id": "464a8469",
   "metadata": {},
   "outputs": [
    {
     "name": "stdout",
     "output_type": "stream",
     "text": [
      "<class 'list'>\n"
     ]
    }
   ],
   "source": [
    "#type\n",
    "list1 = [2, 9.7, 'word', True]\n",
    "print(type(list1))"
   ]
  },
  {
   "cell_type": "code",
   "execution_count": 6,
   "id": "0ed551ee",
   "metadata": {},
   "outputs": [
    {
     "name": "stdout",
     "output_type": "stream",
     "text": [
      "<class 'float'>\n"
     ]
    }
   ],
   "source": [
    "#type\n",
    "list1 = [2, 9.7, 'word', True]\n",
    "print(type(list1[1]))"
   ]
  },
  {
   "cell_type": "code",
   "execution_count": 7,
   "id": "21e0d3b6",
   "metadata": {},
   "outputs": [
    {
     "name": "stdout",
     "output_type": "stream",
     "text": [
      "['monday', 'tuesday', 'wednesday', 'thursday']\n"
     ]
    }
   ],
   "source": [
    "#append\n",
    "weeks = ['monday', 'tuesday', 'wednesday']\n",
    "weeks.append('thursday')\n",
    "print(weeks)"
   ]
  },
  {
   "cell_type": "code",
   "execution_count": 8,
   "id": "b936a774",
   "metadata": {},
   "outputs": [
    {
     "name": "stdout",
     "output_type": "stream",
     "text": [
      "['monday', 'tuesday', 'wednesday', 'thursday', 'friday']\n"
     ]
    }
   ],
   "source": [
    "#extend\n",
    "weeks = ['monday', 'tuesday', 'wednesday']\n",
    "weeks.extend(['thursday', 'friday'])\n",
    "print(weeks)"
   ]
  },
  {
   "cell_type": "code",
   "execution_count": 9,
   "id": "60f5847c",
   "metadata": {},
   "outputs": [
    {
     "name": "stdout",
     "output_type": "stream",
     "text": [
      "2\n"
     ]
    }
   ],
   "source": [
    "#index\n",
    "x = [1, 2, 3, 4, 5]\n",
    "print(x.index(3))"
   ]
  },
  {
   "cell_type": "code",
   "execution_count": 10,
   "id": "ab11375f",
   "metadata": {},
   "outputs": [
    {
     "name": "stdout",
     "output_type": "stream",
     "text": [
      "7\n"
     ]
    }
   ],
   "source": [
    "#max\n",
    "age = [3, 5, 7]\n",
    "print(max(age))"
   ]
  },
  {
   "cell_type": "code",
   "execution_count": 11,
   "id": "fe1ecee0",
   "metadata": {},
   "outputs": [
    {
     "name": "stdout",
     "output_type": "stream",
     "text": [
      "3\n"
     ]
    }
   ],
   "source": [
    "#min\n",
    "age = [3, 5, 7]\n",
    "print(min(age))"
   ]
  },
  {
   "cell_type": "code",
   "execution_count": 12,
   "id": "8f249ee7",
   "metadata": {},
   "outputs": [
    {
     "name": "stdout",
     "output_type": "stream",
     "text": [
      "3\n"
     ]
    }
   ],
   "source": [
    "#len\n",
    "weeks = ['monday', 'tuesday', 'wednesday']\n",
    "print(len(weeks))"
   ]
  },
  {
   "cell_type": "markdown",
   "id": "510291df",
   "metadata": {},
   "source": [
    "# Python Tuple"
   ]
  },
  {
   "cell_type": "code",
   "execution_count": 13,
   "id": "772be6ca",
   "metadata": {},
   "outputs": [
    {
     "name": "stdout",
     "output_type": "stream",
     "text": [
      "(1, 2, 3, 4)\n",
      "(1, 2, 3, 4, 5)\n"
     ]
    }
   ],
   "source": [
    "#create a tuple\n",
    "t1 = (1, 2, 3, 4)\n",
    "\n",
    "#create a tuple from a list\n",
    "t2 = tuple([1, 2, 3, 4, 5])\n",
    "\n",
    "print(t1)\n",
    "print(t2)"
   ]
  },
  {
   "cell_type": "code",
   "execution_count": 14,
   "id": "60c3bca7",
   "metadata": {},
   "outputs": [
    {
     "name": "stdout",
     "output_type": "stream",
     "text": [
      "(2, 4, 5)\n",
      "(8, 10)\n",
      "(7, 8, 10)\n",
      "(5, 7, 8)\n"
     ]
    }
   ],
   "source": [
    "#Indexing and Slicing a tuple\n",
    "num_tuple = 2, 4, 5, 7, 8, 10\n",
    "print(num_tuple[:3])\n",
    "print(num_tuple[4:])\n",
    "print(num_tuple[-3:])\n",
    "print(num_tuple[2:5])"
   ]
  },
  {
   "cell_type": "markdown",
   "id": "dbe41a41",
   "metadata": {},
   "source": [
    "# Python Sets"
   ]
  },
  {
   "cell_type": "code",
   "execution_count": 15,
   "id": "6299f4de",
   "metadata": {},
   "outputs": [
    {
     "name": "stdout",
     "output_type": "stream",
     "text": [
      "{'red', 'black', 'green', 'white'}\n"
     ]
    }
   ],
   "source": [
    "#create set\n",
    "colors = {'red', 'black', 'white', 'green'}\n",
    "print(colors)"
   ]
  },
  {
   "cell_type": "code",
   "execution_count": 16,
   "id": "25266e6f",
   "metadata": {},
   "outputs": [
    {
     "name": "stdout",
     "output_type": "stream",
     "text": [
      "{'red', 'black', 'green', 'white'}\n"
     ]
    }
   ],
   "source": [
    "colors = set(['red', 'black', 'white', 'green'])\n",
    "print(colors)"
   ]
  },
  {
   "cell_type": "code",
   "execution_count": 17,
   "id": "717d8d1c",
   "metadata": {},
   "outputs": [
    {
     "name": "stdout",
     "output_type": "stream",
     "text": [
      "{'blue', 'white', 'green', 'red', 'black'}\n"
     ]
    }
   ],
   "source": [
    "#add\n",
    "colors = set(['red', 'black', 'white', 'green'])\n",
    "colors.add('blue')\n",
    "print(colors)"
   ]
  },
  {
   "cell_type": "code",
   "execution_count": 18,
   "id": "76bc78c1",
   "metadata": {},
   "outputs": [
    {
     "name": "stdout",
     "output_type": "stream",
     "text": [
      "{'black', 'green', 'white'}\n"
     ]
    }
   ],
   "source": [
    "#remove\n",
    "colors = set(['red', 'black', 'white', 'green'])\n",
    "colors.remove('red')\n",
    "print(colors)"
   ]
  },
  {
   "cell_type": "code",
   "execution_count": 19,
   "id": "6f81d94d",
   "metadata": {},
   "outputs": [
    {
     "name": "stdout",
     "output_type": "stream",
     "text": [
      "{'blue', 'yellow', 'green', 'red', 'orange'}\n"
     ]
    }
   ],
   "source": [
    "#set union\n",
    "A = {'red', 'green', 'blue'}\n",
    "B = {'yellow', 'red', 'orange'}\n",
    "print(A|B)"
   ]
  },
  {
   "cell_type": "code",
   "execution_count": 20,
   "id": "7384ff83",
   "metadata": {},
   "outputs": [
    {
     "name": "stdout",
     "output_type": "stream",
     "text": [
      "{'red'}\n"
     ]
    }
   ],
   "source": [
    "#set intersection\n",
    "A = {'red', 'green', 'blue'}\n",
    "B = {'yellow', 'red', 'orange'}\n",
    "print(A & B)"
   ]
  },
  {
   "cell_type": "code",
   "execution_count": 21,
   "id": "87df2bb4",
   "metadata": {},
   "outputs": [
    {
     "name": "stdout",
     "output_type": "stream",
     "text": [
      "{'blue', 'green'}\n"
     ]
    }
   ],
   "source": [
    "#set difference\n",
    "A = {'red', 'green', 'blue'}\n",
    "B = {'yellow', 'red', 'orange'}\n",
    "print(A - B)"
   ]
  },
  {
   "cell_type": "markdown",
   "id": "5c3ca4e2",
   "metadata": {},
   "source": [
    "# Python Dictionaries"
   ]
  },
  {
   "cell_type": "code",
   "execution_count": 22,
   "id": "23cf076e",
   "metadata": {},
   "outputs": [
    {
     "name": "stdout",
     "output_type": "stream",
     "text": [
      "{'John': {'Age': 27, 'Hometown': 'Boston'}, 'Rebecca': {'Age': 31, 'Hometown': 'Chicago'}}\n",
      "{'Age': 27, 'Hometown': 'Boston'}\n"
     ]
    }
   ],
   "source": [
    "#create dictionary\n",
    "d1 = {'John': {'Age':27, 'Hometown':'Boston'}, 'Rebecca': {'Age':31, 'Hometown':'Chicago'}}\n",
    "print(d1)\n",
    "print(d1['John'])"
   ]
  },
  {
   "cell_type": "code",
   "execution_count": 23,
   "id": "6cedc525",
   "metadata": {},
   "outputs": [
    {
     "name": "stdout",
     "output_type": "stream",
     "text": [
      "{'one': 1, 'two': 2}\n"
     ]
    }
   ],
   "source": [
    "#create dictionary\n",
    "d2 = dict([['one',1], ['two',2]])\n",
    "print(d2)"
   ]
  },
  {
   "cell_type": "markdown",
   "id": "db1d2b87",
   "metadata": {},
   "source": [
    "# RegEx "
   ]
  },
  {
   "cell_type": "code",
   "execution_count": 24,
   "id": "8075ecba",
   "metadata": {},
   "outputs": [
    {
     "name": "stdout",
     "output_type": "stream",
     "text": [
      "YES! We have a match!\n"
     ]
    }
   ],
   "source": [
    "#Search the string to see if it starts with 'The' and ends with 'Spain'\n",
    "import re\n",
    "txt = 'The rain in Spain'\n",
    "x = re.search(\"^The.*Spain$\", txt) #'^'Asserts the start of a string and '$' end of a string. The '.' means any character, and '*' means zero or more occurrences.\n",
    "\n",
    "if x:\n",
    "    print('YES! We have a match!')\n",
    "else:\n",
    "    print('No match')"
   ]
  },
  {
   "cell_type": "code",
   "execution_count": 25,
   "id": "8e03985b",
   "metadata": {},
   "outputs": [
    {
     "name": "stdout",
     "output_type": "stream",
     "text": [
      "['ai', 'ai']\n"
     ]
    }
   ],
   "source": [
    "#findall\n",
    "#Print a list of all matches\n",
    "import re\n",
    "txt = \"The rain in Spain\"\n",
    "x = re.findall(\"ai\", txt)\n",
    "print(x)"
   ]
  },
  {
   "cell_type": "code",
   "execution_count": 26,
   "id": "e932f3a8",
   "metadata": {},
   "outputs": [
    {
     "name": "stdout",
     "output_type": "stream",
     "text": [
      "The first white-space character is located in position: 3\n"
     ]
    }
   ],
   "source": [
    "#search\n",
    "#Search for the first white-space character in the string:\n",
    "import re\n",
    "txt = \"The rain in Spain\"\n",
    "x = re.search(\"\\s\", txt)\n",
    "\n",
    "print(\"The first white-space character is located in position:\", x.start())\n"
   ]
  },
  {
   "cell_type": "code",
   "execution_count": 27,
   "id": "aa2cf71e",
   "metadata": {},
   "outputs": [
    {
     "name": "stdout",
     "output_type": "stream",
     "text": [
      "['The', 'rain', 'in', 'Spain']\n"
     ]
    }
   ],
   "source": [
    "#Split at each white-space character:\n",
    "import re\n",
    "txt = \"The rain in Spain\"\n",
    "x = re.split(\"\\s\", txt)\n",
    "print(x)"
   ]
  },
  {
   "cell_type": "code",
   "execution_count": 28,
   "id": "22740dc1",
   "metadata": {},
   "outputs": [
    {
     "name": "stdout",
     "output_type": "stream",
     "text": [
      "The9rain9in9Spain\n"
     ]
    }
   ],
   "source": [
    "#Replace every white-space character with the number 9:\n",
    "import re\n",
    "txt = \"The rain in Spain\"\n",
    "x = re.sub(\"\\s\", \"9\", txt)\n",
    "print(x)"
   ]
  },
  {
   "cell_type": "markdown",
   "id": "da12766f",
   "metadata": {},
   "source": [
    "# While Loop"
   ]
  },
  {
   "cell_type": "code",
   "execution_count": 29,
   "id": "9de3dc71",
   "metadata": {},
   "outputs": [
    {
     "name": "stdout",
     "output_type": "stream",
     "text": [
      "Thank you\n",
      "Thank you\n",
      "Thank you\n"
     ]
    }
   ],
   "source": [
    "# Take user input\n",
    "number = 2  \n",
    "\n",
    "# Condition of the while loop\n",
    "while number < 5 :  \n",
    "    print(\"Thank you\")\n",
    "    # Increment the value of the variable \"number by 1\"\n",
    "    number = number+1"
   ]
  },
  {
   "cell_type": "code",
   "execution_count": 30,
   "id": "2ac5e730",
   "metadata": {},
   "outputs": [
    {
     "name": "stdout",
     "output_type": "stream",
     "text": [
      "The number 2 is even\n",
      "The number 3 is odd\n",
      "The number 4 is even\n"
     ]
    }
   ],
   "source": [
    "# Take user input\n",
    "number = 2 \n",
    "\n",
    "# Condition of the while loop\n",
    "while number < 5 :  \n",
    "    # Find the mod of 2\n",
    "    if number%2 == 0:  \n",
    "        print(\"The number \"+str(number)+\" is even\")\n",
    "    else:\n",
    "        print(\"The number \"+str(number)+\" is odd\")\n",
    "\n",
    "    # Increment `number` by 1\n",
    "    number = number+1"
   ]
  },
  {
   "cell_type": "code",
   "execution_count": 31,
   "id": "f2860fc3",
   "metadata": {},
   "outputs": [
    {
     "name": "stdout",
     "output_type": "stream",
     "text": [
      "Give me a number: 5\n",
      "16\n",
      "8\n",
      "4\n",
      "2\n",
      "1\n"
     ]
    }
   ],
   "source": [
    "def collatz(number):\n",
    "    # Is the mod of 2 equal to 0?\n",
    "    if number % 2 == 0:\n",
    "        print(number // 2)\n",
    "        return number // 2\n",
    "\n",
    "    # If the mod of 2 isn't equal to 0, print `3 * number + 1`\n",
    "    elif number % 2 == 1:\n",
    "        result = 3 * number + 1\n",
    "        print(result)\n",
    "        return result\n",
    "\n",
    "# Ask input from the user    \n",
    "n = input(\"Give me a number: \")\n",
    "\n",
    "# As long as `n` is not equal to `1`, run `collatz()`\n",
    "while n != 1:\n",
    "    n = collatz(int(n))"
   ]
  },
  {
   "cell_type": "markdown",
   "id": "379a7f7b",
   "metadata": {},
   "source": [
    "# For Loop"
   ]
  },
  {
   "cell_type": "code",
   "execution_count": 32,
   "id": "e1052128",
   "metadata": {},
   "outputs": [
    {
     "name": "stdout",
     "output_type": "stream",
     "text": [
      "Swift\n",
      "Python\n",
      "Go\n",
      "JavaScript\n"
     ]
    }
   ],
   "source": [
    "languages = ['Swift', 'Python', 'Go', 'JavaScript']\n",
    "\n",
    "# run a loop for each item of the list\n",
    "for language in languages:\n",
    "    print(language)"
   ]
  },
  {
   "cell_type": "code",
   "execution_count": 33,
   "id": "73be43f8",
   "metadata": {},
   "outputs": [
    {
     "name": "stdout",
     "output_type": "stream",
     "text": [
      "Greatest number:  101\n"
     ]
    }
   ],
   "source": [
    "numbers = [1, 2, 3, 5, 9, 6, 101, 88, 66, 6, 101, 55, -1001]\n",
    "maxi = numbers[0]\n",
    "\n",
    "for i in numbers:\n",
    "    if i > maxi:\n",
    "        maxi = i\n",
    "        \n",
    "print(\"Greatest number: \", maxi)"
   ]
  }
 ],
 "metadata": {
  "kernelspec": {
   "display_name": "Python 3 (ipykernel)",
   "language": "python",
   "name": "python3"
  },
  "language_info": {
   "codemirror_mode": {
    "name": "ipython",
    "version": 3
   },
   "file_extension": ".py",
   "mimetype": "text/x-python",
   "name": "python",
   "nbconvert_exporter": "python",
   "pygments_lexer": "ipython3",
   "version": "3.10.9"
  }
 },
 "nbformat": 4,
 "nbformat_minor": 5
}
