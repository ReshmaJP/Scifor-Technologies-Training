{
  "nbformat": 4,
  "nbformat_minor": 0,
  "metadata": {
    "colab": {
      "provenance": []
    },
    "kernelspec": {
      "name": "python3",
      "display_name": "Python 3"
    },
    "language_info": {
      "name": "python"
    }
  },
  "cells": [
    {
      "cell_type": "code",
      "execution_count": null,
      "metadata": {
        "id": "4eD_KRtFG6O7"
      },
      "outputs": [],
      "source": [
        "#  Implement Binary search logic in python on a list of numbers.\n",
        "# Compare the middle element of the search space with the key.\n",
        "# If the key is found at the middle element, the process is terminated.\n",
        "# If the key is not found at the middle element, choose which half will be used as the next search space."
      ]
    },
    {
      "cell_type": "code",
      "source": [
        "#Code-1\n",
        "def binarysearch(arr, key):\n",
        "  low, high = 0, len(arr)-1\n",
        "\n",
        "  while low<=high:\n",
        "    mid=(low+high)//2\n",
        "    mid_element=arr[mid]\n",
        "\n",
        "    if mid_element==key:\n",
        "      return mid\n",
        "\n",
        "    elif mid_element < key:\n",
        "      low=mid+1\n",
        "\n",
        "    else:\n",
        "      high=mid-1\n",
        "\n",
        "  return -1\n",
        "\n",
        "numbers=[1,2,3,4,5,6,7,8,9,10]\n",
        "searchkey=7\n",
        "\n",
        "result = binarysearch(numbers,searchkey)\n",
        "if result!=-1:\n",
        "  print(f\"{searchkey} found at index {result}\")\n",
        "else:\n",
        "  print(f\"key {searchkey} not found\")"
      ],
      "metadata": {
        "colab": {
          "base_uri": "https://localhost:8080/"
        },
        "id": "Y6V1fO9XHCg8",
        "outputId": "e40a98b3-f80b-4b82-80cd-217ac64f7382"
      },
      "execution_count": null,
      "outputs": [
        {
          "output_type": "stream",
          "name": "stdout",
          "text": [
            "7 found at index 6\n"
          ]
        }
      ]
    },
    {
      "cell_type": "code",
      "source": [
        "# You have been given a list of integers, and your task is to find the maximum sum that can be obtained by selecting a contiguous subarray from the list. Write a Python function max_subarray_sum that takes in a list of integers and returns the maximum sum.\n",
        "# For example, given the list [1, -2, 3, 4, -1, 2, 1, -5, 4], the contiguous subarray with the maximum sum is [3, 4, -1, 2, 1], and the maximum sum is 9"
      ],
      "metadata": {
        "id": "fEOsPttFJBNY"
      },
      "execution_count": null,
      "outputs": []
    },
    {
      "cell_type": "code",
      "source": [
        "# You are given a string containing lowercase letters. Your task is to find the longest substring without repeating characters and return its length. Write a Python function longest_substring_length that takes in a string and returns the length of the longest substring without repeating characters.\n",
        "# For example, given the string \"abcabcbb\", the longest substring without repeating characters is \"abc\", and the function should return 3"
      ],
      "metadata": {
        "id": "ZYTzvZPvLIZU"
      },
      "execution_count": null,
      "outputs": []
    },
    {
      "cell_type": "code",
      "source": [
        "#Code-2\n",
        "def max_subarray_sum(numbers):\n",
        "  if not numbers:\n",
        "    return 0\n",
        "\n",
        "  max_sum = current_sum = numbers[0]\n",
        "\n",
        "  for num in numbers[1:]:\n",
        "    current_sum=max(num,current_sum + num)\n",
        "    max_sum = max(max_sum, current_sum)\n",
        "\n",
        "  return max_sum\n",
        "\n",
        "numbers1=[1, -2, 3, 4, -1, 2, 1, -5, 4]\n",
        "result = max_subarray_sum(numbers1)\n",
        "\n",
        "print(result)\n"
      ],
      "metadata": {
        "colab": {
          "base_uri": "https://localhost:8080/"
        },
        "id": "PfAYQJfLJIrH",
        "outputId": "9650573e-078e-4cfa-babc-d41d492f56f3"
      },
      "execution_count": null,
      "outputs": [
        {
          "output_type": "stream",
          "name": "stdout",
          "text": [
            "9\n"
          ]
        }
      ]
    },
    {
      "cell_type": "code",
      "source": [
        "#Code-3\n",
        "def longest_substringlength(s):\n",
        "  if not s :\n",
        "    return 0\n",
        "\n",
        "  char_index_map={}\n",
        "  max_length = start = 0\n",
        "\n",
        "  for i, char in enumerate(s):\n",
        "    if char in char_index_map and char_index_map[char] >= start:\n",
        "      start= char_index_map[char]+1\n",
        "\n",
        "    char_index_map[char]=i\n",
        "    max_length = max(max_length, i - start + 1)\n",
        "\n",
        "  return max_length\n",
        "\n",
        "input1= \"abcabcbb\"\n",
        "res=longest_substringlength(input1)\n",
        "\n",
        "print(res)\n"
      ],
      "metadata": {
        "colab": {
          "base_uri": "https://localhost:8080/"
        },
        "id": "15nq9SoYLOWo",
        "outputId": "f0216a15-e291-45c9-c4b2-2694ea671dd6"
      },
      "execution_count": null,
      "outputs": [
        {
          "output_type": "stream",
          "name": "stdout",
          "text": [
            "3\n"
          ]
        }
      ]
    }
  ]
}