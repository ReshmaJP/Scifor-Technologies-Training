{
  "nbformat": 4,
  "nbformat_minor": 0,
  "metadata": {
    "colab": {
      "provenance": []
    },
    "kernelspec": {
      "name": "python3",
      "display_name": "Python 3"
    },
    "language_info": {
      "name": "python"
    }
  },
  "cells": [
    {
      "cell_type": "code",
      "source": [],
      "metadata": {
        "id": "QPX--T0NicS8"
      },
      "execution_count": 12,
      "outputs": []
    },
    {
      "cell_type": "markdown",
      "source": [
        "1. Implement Binary search logic in python on a list of numbers.\n",
        "Compare the middle element of the search space with the key.\n",
        "If the key is found at the middle element, the process is terminated.\n",
        "If the key is not found at the middle element, choose which half will be used as the next search space."
      ],
      "metadata": {
        "id": "X9VrjbU_ilF_"
      }
    },
    {
      "cell_type": "code",
      "source": [
        "l1 = [1, 2, 3, 4, 5, 6, 7, 8, 9, 10]\n",
        "key = int(input(\"Enter the number you want to search for: \"))\n",
        "\n",
        "first_index = 0\n",
        "last_index = len(l1) - 1\n",
        "\n",
        "while first_index <= last_index:\n",
        "    mid_index = (first_index + last_index) // 2\n",
        "    mid_value = l1[mid_index]\n",
        "\n",
        "    if mid_value == key:\n",
        "        print(f\"Element {key} found at index {mid_index}\")\n",
        "        break\n",
        "    elif mid_value < key:\n",
        "        first_index = mid_index + 1\n",
        "    else:\n",
        "        last_index = mid_index - 1\n",
        "else:\n",
        "    print(f\"Element {key} not found in the list\")"
      ],
      "metadata": {
        "colab": {
          "base_uri": "https://localhost:8080/"
        },
        "id": "Km891kGSi1nD",
        "outputId": "b83ce340-e449-46f5-f089-50e533488a3e"
      },
      "execution_count": 13,
      "outputs": [
        {
          "output_type": "stream",
          "name": "stdout",
          "text": [
            "Enter the number you want to search for: 6\n",
            "Element 6 found at index 5\n"
          ]
        }
      ]
    },
    {
      "cell_type": "markdown",
      "source": [
        "2. You have been given a list of integers, and your task is to find the maximum sum that can be obtained by selecting a contiguous subarray from the list. Write a Python function max_subarray_sum that takes in a list of integers and returns the maximum sum.\n",
        "\n",
        "For example, given the list [1, -2, 3, 4, -1, 2, 1, -5, 4], the contiguous subarray with the maximum sum is [3, 4, -1, 2, 1], and the maximum sum is 9"
      ],
      "metadata": {
        "id": "IleRBt1mkXh6"
      }
    },
    {
      "cell_type": "code",
      "source": [
        "l2 = [1, -2, 3, 4, -1, 2, 1, -5, 4]\n",
        "\n",
        "max_sum = current_sum = l2[0]\n",
        "\n",
        "# Iterate through the list starting from the second element\n",
        "for num in l2[1:]:\n",
        "    current_sum = max(num, current_sum + num)\n",
        "    max_sum = max(max_sum, current_sum)\n",
        "\n",
        "print(f\"The maximum subarray sum is: {max_sum}\")"
      ],
      "metadata": {
        "colab": {
          "base_uri": "https://localhost:8080/"
        },
        "id": "-7UdDOjFk64L",
        "outputId": "b34f793e-70a9-4a4f-b06d-4c86f030639d"
      },
      "execution_count": 14,
      "outputs": [
        {
          "output_type": "stream",
          "name": "stdout",
          "text": [
            "The maximum subarray sum is: 9\n"
          ]
        }
      ]
    },
    {
      "cell_type": "markdown",
      "source": [
        "3. You are given a string containing lowercase letters. Your task is to find the longest substring without repeating characters and return its length. Write a Python function longest_substring_length that takes in a string and returns the length of the longest substring without repeating characters.\n",
        "\n",
        "For example, given the string \"abcabcbb\", the longest substring without repeating characters is \"abc\", and the function should return 3"
      ],
      "metadata": {
        "id": "WVDydH4vlwKh"
      }
    },
    {
      "cell_type": "code",
      "source": [
        "s1 = \"abcabcbb\"\n",
        "start = 0\n",
        "max_length = 0\n",
        "char_set = {}\n",
        "\n",
        "# Iterate through the string using a for loop and range\n",
        "for end in range(len(s1)):\n",
        "    char = s1[end]\n",
        "\n",
        "    while char in char_set:\n",
        "        del char_set[s1[start]]\n",
        "        start += 1\n",
        "\n",
        "    char_set[char] = end\n",
        "    max_length = max(max_length, end - start + 1)\n",
        "\n",
        "# Print the result\n",
        "print(f\"The length of the longest substring without repeating characters is: {max_length}\")\n"
      ],
      "metadata": {
        "colab": {
          "base_uri": "https://localhost:8080/"
        },
        "id": "M-gXcKfXpGM1",
        "outputId": "2b3ed320-0dc1-4680-ea2e-4bca84e05464"
      },
      "execution_count": 15,
      "outputs": [
        {
          "output_type": "stream",
          "name": "stdout",
          "text": [
            "The length of the longest substring without repeating characters is: 3\n"
          ]
        }
      ]
    }
  ]
}