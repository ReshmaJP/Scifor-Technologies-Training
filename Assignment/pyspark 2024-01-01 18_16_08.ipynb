{
 "cells": [
  {
   "cell_type": "code",
   "execution_count": 0,
   "metadata": {
    "application/vnd.databricks.v1+cell": {
     "cellMetadata": {
      "byteLimit": 2048000,
      "rowLimit": 10000
     },
     "inputWidgets": {},
     "nuid": "ba0a1291-aaf3-4509-b6b2-3c2d68a3a753",
     "showTitle": false,
     "title": ""
    }
   },
   "outputs": [
    {
     "output_type": "display_data",
     "data": {
      "text/html": [
       "<style scoped>\n",
       "  .table-result-container {\n",
       "    max-height: 300px;\n",
       "    overflow: auto;\n",
       "  }\n",
       "  table, th, td {\n",
       "    border: 1px solid black;\n",
       "    border-collapse: collapse;\n",
       "  }\n",
       "  th, td {\n",
       "    padding: 5px;\n",
       "  }\n",
       "  th {\n",
       "    text-align: left;\n",
       "  }\n",
       "</style><div class='table-result-container'><table class='table-result'><thead style='background-color: white'><tr><th>_c0</th><th>_c1</th><th>_c2</th><th>_c3</th><th>_c4</th></tr></thead><tbody><tr><td>null</td><td>Age</td><td>PreviousCTC</td><td>YearsExperience</td><td>Salary</td></tr><tr><td>0</td><td>25</td><td>20000</td><td>1.2</td><td>39344</td></tr><tr><td>1</td><td>23</td><td>25000</td><td>1.4</td><td>46206</td></tr><tr><td>2</td><td>24</td><td>28000</td><td>1.6</td><td>37732</td></tr><tr><td>3</td><td>25</td><td>35000</td><td>2.1</td><td>43526</td></tr><tr><td>4</td><td>24</td><td>32000</td><td>2.3</td><td>39892</td></tr><tr><td>5</td><td>28</td><td>45000</td><td>3</td><td>56643</td></tr><tr><td>6</td><td>29</td><td>50000</td><td>3.1</td><td>60151</td></tr><tr><td>7</td><td>25</td><td>50000</td><td>3.3</td><td>54446</td></tr><tr><td>8</td><td>24</td><td>55000</td><td>3.3</td><td>64446</td></tr><tr><td>9</td><td>26</td><td>52000</td><td>3.8</td><td>57190</td></tr><tr><td>10</td><td>29</td><td>55000</td><td>4</td><td>63219</td></tr><tr><td>11</td><td>30</td><td>45000</td><td>4.1</td><td>55795</td></tr><tr><td>12</td><td>29</td><td>45000</td><td>4.1</td><td>56958</td></tr><tr><td>13</td><td>32</td><td>48000</td><td>4.2</td><td>57082</td></tr><tr><td>14</td><td>30</td><td>55000</td><td>4.6</td><td>61112</td></tr><tr><td>15</td><td>32</td><td>60000</td><td>5</td><td>67939</td></tr><tr><td>16</td><td>28</td><td>55000</td><td>5.2</td><td>66030</td></tr><tr><td>17</td><td>26</td><td>70000</td><td>5.4</td><td>83089</td></tr><tr><td>18</td><td>28</td><td>70000</td><td>6</td><td>81364</td></tr><tr><td>19</td><td>29</td><td>80000</td><td>6.1</td><td>93941</td></tr><tr><td>20</td><td>34</td><td>82000</td><td>6.9</td><td>91739</td></tr><tr><td>21</td><td>33</td><td>85000</td><td>7.2</td><td>98274</td></tr><tr><td>22</td><td>30</td><td>90000</td><td>8</td><td>101303</td></tr><tr><td>23</td><td>34</td><td>95000</td><td>8.3</td><td>113813</td></tr><tr><td>24</td><td>29</td><td>92000</td><td>8.8</td><td>109432</td></tr><tr><td>25</td><td>35</td><td>98000</td><td>9.1</td><td>105583</td></tr><tr><td>26</td><td>33</td><td>85000</td><td>9.6</td><td>116970</td></tr><tr><td>27</td><td>32</td><td>85000</td><td>9.7</td><td>112636</td></tr><tr><td>28</td><td>35</td><td>110000</td><td>10.4</td><td>122392</td></tr><tr><td>29</td><td>36</td><td>115000</td><td>10.6</td><td>121873</td></tr></tbody></table></div>"
      ]
     },
     "metadata": {
      "application/vnd.databricks.v1+output": {
       "addedWidgets": {},
       "aggData": [],
       "aggError": "",
       "aggOverflow": false,
       "aggSchema": [],
       "aggSeriesLimitReached": false,
       "aggType": "",
       "arguments": {},
       "columnCustomDisplayInfos": {},
       "data": [
        [
         null,
         "Age",
         "PreviousCTC",
         "YearsExperience",
         "Salary"
        ],
        [
         "0",
         "25",
         "20000",
         "1.2",
         "39344"
        ],
        [
         "1",
         "23",
         "25000",
         "1.4",
         "46206"
        ],
        [
         "2",
         "24",
         "28000",
         "1.6",
         "37732"
        ],
        [
         "3",
         "25",
         "35000",
         "2.1",
         "43526"
        ],
        [
         "4",
         "24",
         "32000",
         "2.3",
         "39892"
        ],
        [
         "5",
         "28",
         "45000",
         "3",
         "56643"
        ],
        [
         "6",
         "29",
         "50000",
         "3.1",
         "60151"
        ],
        [
         "7",
         "25",
         "50000",
         "3.3",
         "54446"
        ],
        [
         "8",
         "24",
         "55000",
         "3.3",
         "64446"
        ],
        [
         "9",
         "26",
         "52000",
         "3.8",
         "57190"
        ],
        [
         "10",
         "29",
         "55000",
         "4",
         "63219"
        ],
        [
         "11",
         "30",
         "45000",
         "4.1",
         "55795"
        ],
        [
         "12",
         "29",
         "45000",
         "4.1",
         "56958"
        ],
        [
         "13",
         "32",
         "48000",
         "4.2",
         "57082"
        ],
        [
         "14",
         "30",
         "55000",
         "4.6",
         "61112"
        ],
        [
         "15",
         "32",
         "60000",
         "5",
         "67939"
        ],
        [
         "16",
         "28",
         "55000",
         "5.2",
         "66030"
        ],
        [
         "17",
         "26",
         "70000",
         "5.4",
         "83089"
        ],
        [
         "18",
         "28",
         "70000",
         "6",
         "81364"
        ],
        [
         "19",
         "29",
         "80000",
         "6.1",
         "93941"
        ],
        [
         "20",
         "34",
         "82000",
         "6.9",
         "91739"
        ],
        [
         "21",
         "33",
         "85000",
         "7.2",
         "98274"
        ],
        [
         "22",
         "30",
         "90000",
         "8",
         "101303"
        ],
        [
         "23",
         "34",
         "95000",
         "8.3",
         "113813"
        ],
        [
         "24",
         "29",
         "92000",
         "8.8",
         "109432"
        ],
        [
         "25",
         "35",
         "98000",
         "9.1",
         "105583"
        ],
        [
         "26",
         "33",
         "85000",
         "9.6",
         "116970"
        ],
        [
         "27",
         "32",
         "85000",
         "9.7",
         "112636"
        ],
        [
         "28",
         "35",
         "110000",
         "10.4",
         "122392"
        ],
        [
         "29",
         "36",
         "115000",
         "10.6",
         "121873"
        ]
       ],
       "datasetInfos": [],
       "dbfsResultPath": null,
       "isJsonSchema": true,
       "metadata": {},
       "overflow": false,
       "plotOptions": {
        "customPlotOptions": {},
        "displayType": "table",
        "pivotAggregation": null,
        "pivotColumns": null,
        "xColumns": null,
        "yColumns": null
       },
       "removedWidgets": [],
       "schema": [
        {
         "metadata": "{}",
         "name": "_c0",
         "type": "\"string\""
        },
        {
         "metadata": "{}",
         "name": "_c1",
         "type": "\"string\""
        },
        {
         "metadata": "{}",
         "name": "_c2",
         "type": "\"string\""
        },
        {
         "metadata": "{}",
         "name": "_c3",
         "type": "\"string\""
        },
        {
         "metadata": "{}",
         "name": "_c4",
         "type": "\"string\""
        }
       ],
       "type": "table"
      }
     },
     "output_type": "display_data"
    }
   ],
   "source": [
    "# File location and type\n",
    "file_location = \"/FileStore/tables/Salary_dataset_1.csv\"\n",
    "file_type = \"csv\"\n",
    "\n",
    "# CSV options\n",
    "infer_schema = \"false\"\n",
    "first_row_is_header = \"false\"\n",
    "delimiter = \",\"\n",
    "\n",
    "# The applied options are for CSV files. For other file types, these will be ignored.\n",
    "df = spark.read.format(file_type) \\\n",
    "  .option(\"inferSchema\", infer_schema) \\\n",
    "  .option(\"header\", first_row_is_header) \\\n",
    "  .option(\"sep\", delimiter) \\\n",
    "  .load(file_location)\n",
    "\n",
    "display(df)"
   ]
  },
  {
   "cell_type": "code",
   "execution_count": 0,
   "metadata": {
    "application/vnd.databricks.v1+cell": {
     "cellMetadata": {
      "byteLimit": 2048000,
      "rowLimit": 10000
     },
     "inputWidgets": {},
     "nuid": "b7e4c36f-80de-49c1-b61c-c2b946e331d2",
     "showTitle": false,
     "title": ""
    }
   },
   "outputs": [],
   "source": [
    "val = df.groupBy('Age')"
   ]
  },
  {
   "cell_type": "code",
   "execution_count": 0,
   "metadata": {
    "application/vnd.databricks.v1+cell": {
     "cellMetadata": {
      "byteLimit": 2048000,
      "rowLimit": 10000
     },
     "inputWidgets": {},
     "nuid": "22e5a5b3-5f3e-4535-aa04-3eb575bb581c",
     "showTitle": false,
     "title": ""
    }
   },
   "outputs": [
    {
     "output_type": "stream",
     "name": "stdout",
     "output_type": "stream",
     "text": [
      "+----+---+-----------+---------------+------+\n| _c0|_c1|        _c2|            _c3|   _c4|\n+----+---+-----------+---------------+------+\n|null|Age|PreviousCTC|YearsExperience|Salary|\n|   0| 25|      20000|            1.2| 39344|\n|   1| 23|      25000|            1.4| 46206|\n|   2| 24|      28000|            1.6| 37732|\n|   3| 25|      35000|            2.1| 43526|\n|   4| 24|      32000|            2.3| 39892|\n|   5| 28|      45000|              3| 56643|\n|   6| 29|      50000|            3.1| 60151|\n|   7| 25|      50000|            3.3| 54446|\n|   8| 24|      55000|            3.3| 64446|\n|   9| 26|      52000|            3.8| 57190|\n|  10| 29|      55000|              4| 63219|\n|  11| 30|      45000|            4.1| 55795|\n|  12| 29|      45000|            4.1| 56958|\n|  13| 32|      48000|            4.2| 57082|\n|  14| 30|      55000|            4.6| 61112|\n|  15| 32|      60000|              5| 67939|\n|  16| 28|      55000|            5.2| 66030|\n|  17| 26|      70000|            5.4| 83089|\n|  18| 28|      70000|              6| 81364|\n+----+---+-----------+---------------+------+\nonly showing top 20 rows\n\n"
     ]
    }
   ],
   "source": [
    "df.show()"
   ]
  },
  {
   "cell_type": "code",
   "execution_count": 0,
   "metadata": {
    "application/vnd.databricks.v1+cell": {
     "cellMetadata": {
      "byteLimit": 2048000,
      "rowLimit": 10000
     },
     "inputWidgets": {},
     "nuid": "85c0de23-5cc4-456a-a100-2bea57e68fcd",
     "showTitle": false,
     "title": ""
    }
   },
   "outputs": [
    {
     "output_type": "stream",
     "name": "stdout",
     "output_type": "stream",
     "text": [
      "+---+-----+\n|_c1|count|\n+---+-----+\n| 29|    5|\n| 30|    3|\n| 34|    2|\n| 28|    3|\n| 35|    2|\n| 26|    2|\n|Age|    1|\n| 23|    1|\n| 25|    3|\n| 33|    2|\n| 24|    3|\n| 32|    3|\n| 36|    1|\n+---+-----+\n\n"
     ]
    }
   ],
   "source": [
    "#aggregate\n",
    "val = df.groupBy('_c1')\n",
    "result = val.count()\n",
    "result.show()"
   ]
  },
  {
   "cell_type": "code",
   "execution_count": 0,
   "metadata": {
    "application/vnd.databricks.v1+cell": {
     "cellMetadata": {
      "byteLimit": 2048000,
      "rowLimit": 10000
     },
     "inputWidgets": {},
     "nuid": "28eb2723-7475-436c-ac82-c11d6dbad0cb",
     "showTitle": false,
     "title": ""
    }
   },
   "outputs": [
    {
     "output_type": "stream",
     "name": "stdout",
     "output_type": "stream",
     "text": [
      "root\n |-- _c0: string (nullable = true)\n |-- _c1: string (nullable = true)\n |-- _c2: string (nullable = true)\n |-- _c3: string (nullable = true)\n |-- _c4: string (nullable = true)\n\n"
     ]
    }
   ],
   "source": [
    "df.printSchema()"
   ]
  }
 ],
 "metadata": {
  "application/vnd.databricks.v1+notebook": {
   "dashboards": [],
   "language": "python",
   "notebookMetadata": {
    "pythonIndentUnit": 4
   },
   "notebookName": "Untitled Notebook 2024-01-01 18:16:08",
   "widgets": {}
  }
 },
 "nbformat": 4,
 "nbformat_minor": 0
}
