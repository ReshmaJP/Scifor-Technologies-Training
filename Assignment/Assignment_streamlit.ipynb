{
 "cells": [
  {
   "cell_type": "code",
   "execution_count": 3,
   "id": "f3fd7c76",
   "metadata": {},
   "outputs": [
    {
     "data": {
      "text/plain": [
       "'\\nWhat is Streamlit, and how does it differ from other web frameworks?\\n\\nExplain the basic structure of a Streamlit app.\\n\\nHow can you add a title to your Streamlit app?\\n\\nWhat is the purpose of the st.write() function in Streamlit?\\n\\nHow do you create interactive widgets in Streamlit? Provide examples.\\n'"
      ]
     },
     "execution_count": 3,
     "metadata": {},
     "output_type": "execute_result"
    }
   ],
   "source": [
    "'''\n",
    "What is Streamlit, and how does it differ from other web frameworks?\n",
    "\n",
    "Explain the basic structure of a Streamlit app.\n",
    "\n",
    "How can you add a title to your Streamlit app?\n",
    "\n",
    "What is the purpose of the st.write() function in Streamlit?\n",
    "\n",
    "How do you create interactive widgets in Streamlit? Provide examples.\n",
    "'''"
   ]
  },
  {
   "cell_type": "markdown",
   "id": "e3159af9",
   "metadata": {},
   "source": [
    "# What is Streamlit, and how does it differ from other web frameworks?\n",
    "Streamlit is a framework used to create web applications in Python. It is used for various applications in the domain of \n",
    "Data Science, Machine Learning, Artificial Intelligence and many more. Streamlit are user friendly and easy to understand\n",
    "the syntax and functions compared to other frameworks like Python Flask. Deployment can be done easily in cloud servers.\n",
    "When it comes to build a dashboard, it is easy to find many options like to place text elements, all type of widgets, charts,\n",
    "images, files. But in the case of other frameworks like flask we require more lines of code and the complexity level is high.\n",
    "For data visualization also there are many options like, area chart, line chart, bar chart and many more also we can import\n",
    "all visualization libraries like matplotlib, plotly, seaborn. Here by importing streamlit library we can easily build a code\n",
    "and build an application whereas in flask we need to do html codes.\n",
    "\n",
    "Some basic functions of Streamlit,\n"
   ]
  },
  {
   "cell_type": "markdown",
   "id": "259c718d",
   "metadata": {},
   "source": [
    "# Explain the basic structure of a Streamlit app\n",
    "Streamlit application can be developed by importing streamlit library and the corresponding other libraries based on the \n",
    "requirements. Start the code with the input data and include the trained model. For example if we are predicting any scenario,\n",
    "its corresponding results and evalutions. The application must be in the way where a user can give inputs anf get their ouput\n",
    "results. Exploratory data analysis can be shown by data visualization and also the poytput results can also be in the form of\n",
    "visualization to be more attractive and understanding. Once we complete with building the application, next we have to deploy it cloud server. \n",
    "\n",
    "These are basic functions used,"
   ]
  },
  {
   "cell_type": "code",
   "execution_count": 9,
   "id": "bda62ccc",
   "metadata": {
    "scrolled": true
   },
   "outputs": [
    {
     "data": {
      "text/plain": [
       "'\\'\\nimport streamlit as st\\n\\n# Title\\nst.title(\"text\")\\n\\n# Header\\nst.header(\"text\")\\n\\n# Subheader\\nst.subheader(\"text\")\\n\\n# Text\\nst.text(\"text\")\\n\\n# Markdown\\nst.markdown(\"text\")\\n\\n# Write\\nst.write(\"   \")\\n\\n# Button\\nif st.button(\"Submit\"):\\n    st.success(\"Sucessfully Submitted!\")\\n\\n# Slider\\nslider_value = st.slider(\"text\", min_value=0, max_value=100, value=10)\\n\\n# Text area\\ntext_area = st.text_area(\"Enter some long text\", \"Default text\")\\n\\n# Date input\\ndate_input = st.date_input(\"Select a date\")\\n\\n# Time input\\ntime_input = st.time_input(\"Select a time\")\\n\\n# File uploader\\nfile_uploaded = st.file_uploader(\"Upload a file\")\\n\\n# Plotting a chart\\nimport matplotlib.pyplot as plt\\nimport seaborn as sns\\nimport numpy as np\\n\\ndata = np.random.randn(x,y)\\nfig, ax = plt.subplots()\\nax.scatter(data)\\nst.pyplot(fig)\\n\\n# Displaying data frame\\nimport pandas as pd\\n\\ndf = pd.DataFrame({\"x\": [1,2,3], \"y\": [4,5,6]})\\nst.dataframe(df)\\n'"
      ]
     },
     "execution_count": 9,
     "metadata": {},
     "output_type": "execute_result"
    }
   ],
   "source": [
    "''''\n",
    "import streamlit as st\n",
    "\n",
    "# Title\n",
    "st.title(\"text\")\n",
    "\n",
    "# Header\n",
    "st.header(\"text\")\n",
    "\n",
    "# Subheader\n",
    "st.subheader(\"text\")\n",
    "\n",
    "# Text\n",
    "st.text(\"text\")\n",
    "\n",
    "# Markdown\n",
    "st.markdown(\"text\")\n",
    "\n",
    "# Write\n",
    "st.write(\"   \")\n",
    "\n",
    "# Button\n",
    "if st.button(\"Submit\"):\n",
    "    st.success(\"Sucessfully Submitted!\")\n",
    "\n",
    "# Slider\n",
    "slider_value = st.slider(\"text\", min_value=0, max_value=100, value=10)\n",
    "\n",
    "# Text area\n",
    "text_area = st.text_area(\"Enter some long text\", \"Default text\")\n",
    "\n",
    "# Date input\n",
    "date_input = st.date_input(\"Select a date\")\n",
    "\n",
    "# Time input\n",
    "time_input = st.time_input(\"Select a time\")\n",
    "\n",
    "# File uploader\n",
    "file_uploaded = st.file_uploader(\"Upload a file\")\n",
    "\n",
    "# Plotting a chart\n",
    "import matplotlib.pyplot as plt\n",
    "import seaborn as sns\n",
    "import numpy as np\n",
    "\n",
    "data = np.random.randn(x,y)\n",
    "fig, ax = plt.subplots()\n",
    "ax.scatter(data)\n",
    "st.pyplot(fig)\n",
    "\n",
    "# Displaying data frame\n",
    "import pandas as pd\n",
    "\n",
    "df = pd.DataFrame({\"x\": [1,2,3], \"y\": [4,5,6]})\n",
    "st.dataframe(df)\n",
    "'''"
   ]
  },
  {
   "cell_type": "markdown",
   "id": "b96f487a",
   "metadata": {},
   "source": [
    "# How can you add a title to your Streamlit app?"
   ]
  },
  {
   "cell_type": "code",
   "execution_count": 12,
   "id": "b99780b0",
   "metadata": {},
   "outputs": [
    {
     "data": {
      "text/plain": [
       "DeltaGenerator()"
      ]
     },
     "execution_count": 12,
     "metadata": {},
     "output_type": "execute_result"
    }
   ],
   "source": [
    "# How can you add a title to your Streamlit app?\n",
    "\n",
    "import streamlit as st\n",
    "\n",
    "# Title\n",
    "st.title(\"Hi Reshma!\") # Output will display Hi Reshma!"
   ]
  },
  {
   "cell_type": "markdown",
   "id": "54272bf8",
   "metadata": {},
   "source": [
    "# What is the purpose of the st.write() function in Streamlit?\n",
    "st.write() can display anything like text, numerics, operations etc.\n",
    "\n",
    "st.write(\"Hello World!\") # output will display Hello World!\n",
    "\n",
    "num = 5\n",
    "st.write(\"The value of the variable is:\", num) # output will display 'The value of the variable is: 5'"
   ]
  },
  {
   "cell_type": "markdown",
   "id": "b327bb9f",
   "metadata": {},
   "source": [
    "# How do you create interactive widgets in Streamlit? Provide examples."
   ]
  },
  {
   "cell_type": "code",
   "execution_count": 11,
   "id": "62c9695a",
   "metadata": {},
   "outputs": [
    {
     "data": {
      "text/plain": [
       "'\\'\\n# Button\\nif st.button(\"Submit\"):\\n    st.success(\"Sucessfully Submitted!\") \\n\\n# Slider\\nslider_value = st.slider(\"text\", min_value=0, max_value=100, value=10)\\n'"
      ]
     },
     "execution_count": 11,
     "metadata": {},
     "output_type": "execute_result"
    }
   ],
   "source": [
    "''''\n",
    "# Button\n",
    "if st.button(\"Submit\"):\n",
    "    st.success(\"Sucessfully Submitted!\") \n",
    "\n",
    "# Slider\n",
    "slider_value = st.slider(\"text\", min_value=0, max_value=100, value=10)\n",
    "'''"
   ]
  },
  {
   "cell_type": "code",
   "execution_count": null,
   "id": "ab0af0cc",
   "metadata": {},
   "outputs": [],
   "source": []
  }
 ],
 "metadata": {
  "kernelspec": {
   "display_name": "Python 3 (ipykernel)",
   "language": "python",
   "name": "python3"
  },
  "language_info": {
   "codemirror_mode": {
    "name": "ipython",
    "version": 3
   },
   "file_extension": ".py",
   "mimetype": "text/x-python",
   "name": "python",
   "nbconvert_exporter": "python",
   "pygments_lexer": "ipython3",
   "version": "3.10.9"
  }
 },
 "nbformat": 4,
 "nbformat_minor": 5
}
