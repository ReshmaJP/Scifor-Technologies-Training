{
 "cells": [
  {
   "cell_type": "markdown",
   "id": "a28f3848",
   "metadata": {},
   "source": [
    "# Python Practice Codes"
   ]
  },
  {
   "cell_type": "code",
   "execution_count": 1,
   "id": "35c4bebf",
   "metadata": {},
   "outputs": [
    {
     "name": "stdout",
     "output_type": "stream",
     "text": [
      "['php', 'aba', 'level']\n"
     ]
    }
   ],
   "source": [
    "# List of strings\n",
    "string_list = ['python', 'php', 'aba', \"level\"]\n",
    "\n",
    "# Find palindromes\n",
    "palindromes = list(filter(lambda s: s == s[::-1], string_list))\n",
    "print(palindromes)"
   ]
  },
  {
   "cell_type": "code",
   "execution_count": 2,
   "id": "41613327",
   "metadata": {},
   "outputs": [
    {
     "name": "stdout",
     "output_type": "stream",
     "text": [
      "Numbers Divisible by 2 and 3: [6, 60, 90, 120]\n"
     ]
    }
   ],
   "source": [
    "# List of numbers\n",
    "numbers_list = [2, 3, 6, 9, 27, 60, 90, 120, 55, 46]\n",
    "\n",
    "# Filter the numbers in the given list that are divisible by 2 and 3\n",
    "filtered_numbers = list(filter(lambda x: x % 2 == 0 and x % 3 == 0, numbers_list))\n",
    "print(\"Numbers Divisible by 2 and 3:\", filtered_numbers)"
   ]
  },
  {
   "cell_type": "code",
   "execution_count": 3,
   "id": "adc374d9",
   "metadata": {},
   "outputs": [
    {
     "name": "stdout",
     "output_type": "stream",
     "text": [
      "('Virat Kohli', 24936)\n",
      "('Jack Kallis', 25534)\n",
      "('Ricky Ponting', 27483)\n",
      "('Sachin Tendulkar', 34357)\n"
     ]
    }
   ],
   "source": [
    "# List of tuples\n",
    "list1 = [('Sachin Tendulkar', 34357), ('Ricky Ponting', 27483), ('Jack Kallis', 25534), ('Virat Kohli', 24936)]\n",
    "# Sorted data based on integer values\n",
    "sorted_data = sorted(list1, key=lambda x: x[1])\n",
    "for item in sorted_data:\n",
    "    print(item)"
   ]
  },
  {
   "cell_type": "code",
   "execution_count": 4,
   "id": "bb237518",
   "metadata": {},
   "outputs": [
    {
     "name": "stdout",
     "output_type": "stream",
     "text": [
      "Squared Numbers: [1, 4, 9, 16, 25]\n"
     ]
    }
   ],
   "source": [
    "numbers = [1, 2, 3, 4, 5]\n",
    "squared_numbers = list(map(lambda x: x**2, numbers))\n",
    "print(\"Squared Numbers:\", squared_numbers)"
   ]
  },
  {
   "cell_type": "code",
   "execution_count": 5,
   "id": "06fac570",
   "metadata": {},
   "outputs": [
    {
     "name": "stdout",
     "output_type": "stream",
     "text": [
      "x is equal to 10\n"
     ]
    }
   ],
   "source": [
    "x = 10\n",
    "\n",
    "if x > 10:\n",
    "    print(\"x is greater than 10\")\n",
    "elif x == 10:\n",
    "    print(\"x is equal to 10\")\n",
    "else:\n",
    "    print(\"x is less than 10\")"
   ]
  },
  {
   "cell_type": "code",
   "execution_count": 6,
   "id": "03b87b09",
   "metadata": {},
   "outputs": [
    {
     "name": "stdout",
     "output_type": "stream",
     "text": [
      "Buddy\n",
      "Woof!\n"
     ]
    }
   ],
   "source": [
    "class Dog:\n",
    "    def __init__(self, name, age):\n",
    "        self.name = name\n",
    "        self.age = age\n",
    "\n",
    "    def bark(self):\n",
    "        print(\"Woof!\")\n",
    "\n",
    "# Creating an object\n",
    "my_dog = Dog(\"Buddy\", 3)\n",
    "print(my_dog.name)\n",
    "my_dog.bark()"
   ]
  },
  {
   "cell_type": "code",
   "execution_count": 7,
   "id": "3e6d9921",
   "metadata": {},
   "outputs": [
    {
     "name": "stdout",
     "output_type": "stream",
     "text": [
      "Method A from class A\n",
      "Method B from class B\n",
      "Method C from class C\n"
     ]
    }
   ],
   "source": [
    "class A:\n",
    "    def method_A(self):\n",
    "        print(\"Method A from class A\")\n",
    "\n",
    "class B:\n",
    "    def method_B(self):\n",
    "        print(\"Method B from class B\")\n",
    "\n",
    "class C(A, B):\n",
    "    def method_C(self):\n",
    "        print(\"Method C from class C\")\n",
    "\n",
    "obj_C = C()\n",
    "obj_C.method_A()\n",
    "obj_C.method_B()\n",
    "obj_C.method_C()"
   ]
  },
  {
   "cell_type": "code",
   "execution_count": 8,
   "id": "9f68b943",
   "metadata": {},
   "outputs": [
    {
     "name": "stdout",
     "output_type": "stream",
     "text": [
      "Method A from class A\n",
      "Method B from class B\n",
      "Method C from class C\n"
     ]
    }
   ],
   "source": [
    "class A:\n",
    "    def method_A(self):\n",
    "        print(\"Method A from class A\")\n",
    "\n",
    "class B(A):\n",
    "    def method_B(self):\n",
    "        print(\"Method B from class B\")\n",
    "\n",
    "class C(B):\n",
    "    def method_C(self):\n",
    "        print(\"Method C from class C\")\n",
    "\n",
    "obj_C = C()\n",
    "obj_C.method_A()\n",
    "obj_C.method_B()\n",
    "obj_C.method_C()"
   ]
  },
  {
   "cell_type": "code",
   "execution_count": 9,
   "id": "c260d09b",
   "metadata": {},
   "outputs": [
    {
     "name": "stdout",
     "output_type": "stream",
     "text": [
      "Temperature Analysis:\n",
      "---------------------\n",
      "Temperatures below 20°C: 3\n",
      "Temperatures between 20°C and 25°C: 4\n",
      "Temperatures above 25°C: 3\n"
     ]
    }
   ],
   "source": [
    "# Case Scenario: Temperature Analysis\n",
    "\n",
    "# Sample list of temperatures in Celsius\n",
    "temperatures = [25, 18, 30, 22, 28, 15, 32, 20, 25, 18]\n",
    "\n",
    "# Initialize counters for different temperature ranges\n",
    "below_20 = 0\n",
    "between_20_and_25 = 0\n",
    "above_25 = 0\n",
    "\n",
    "# Loop through each temperature in the list\n",
    "for temp in temperatures:\n",
    "    # Use conditions to categorize temperatures\n",
    "    if temp < 20:\n",
    "        below_20 += 1\n",
    "    elif 20 <= temp <= 25:\n",
    "        between_20_and_25 += 1\n",
    "    else:\n",
    "        above_25 += 1\n",
    "\n",
    "# Display the analysis results\n",
    "print(\"Temperature Analysis:\")\n",
    "print(\"---------------------\")\n",
    "print(f\"Temperatures below 20°C: {below_20}\")\n",
    "print(f\"Temperatures between 20°C and 25°C: {between_20_and_25}\")\n",
    "print(f\"Temperatures above 25°C: {above_25}\")"
   ]
  },
  {
   "cell_type": "code",
   "execution_count": 10,
   "id": "7afb3143",
   "metadata": {},
   "outputs": [
    {
     "name": "stdout",
     "output_type": "stream",
     "text": [
      "Enter your username: rshm44\n",
      "Enter your password: derty\n",
      "Username not found. Please try again.\n",
      "Enter your username: user1\n",
      "Enter your password: password123\n",
      "Authentication successful! Welcome, user1!\n"
     ]
    }
   ],
   "source": [
    "# Case Scenario: User Authentication\n",
    "\n",
    "# Sample user credentials stored in a dictionary\n",
    "user_credentials = {\n",
    "    'user1': 'password123',\n",
    "    'user2': 'securepass',\n",
    "    'admin': 'admin@123'\n",
    "}\n",
    "\n",
    "# Initialize a flag to track authentication status\n",
    "authenticated = False\n",
    "\n",
    "# Use a while loop for user authentication\n",
    "while not authenticated:\n",
    "    # Prompt the user for username and password\n",
    "    username = input(\"Enter your username: \")\n",
    "    password = input(\"Enter your password: \")\n",
    "\n",
    "    # Check if the provided username exists in the dictionary\n",
    "    if username in user_credentials:\n",
    "        # Check if the provided password matches the stored password for the username\n",
    "        if password == user_credentials[username]:\n",
    "            print(\"Authentication successful! Welcome, \" + username + \"!\")\n",
    "            authenticated = True  # Set the flag to exit the loop\n",
    "        else:\n",
    "            print(\"Incorrect password. Please try again.\")\n",
    "    else:\n",
    "        print(\"Username not found. Please try again.\")"
   ]
  },
  {
   "cell_type": "code",
   "execution_count": 11,
   "id": "306e2983",
   "metadata": {},
   "outputs": [
    {
     "name": "stdout",
     "output_type": "stream",
     "text": [
      "Employee Information Summary:\n",
      "----------------------------\n",
      "Name: Alice, Department: HR, Years of Service: 3\n",
      "Name: Bob, Department: Engineering, Years of Service: 5\n",
      "Name: Charlie, Department: Marketing, Years of Service: 2\n",
      "Name: David, Department: Engineering, Years of Service: 8\n",
      "Name: Eva, Department: HR, Years of Service: 4\n",
      "\n",
      "Average Years of Service: 4.4\n"
     ]
    }
   ],
   "source": [
    "# Case Scenario: Employee Information Summary\n",
    "\n",
    "# Sample tuple containing employee information (name, department, and years of service)\n",
    "employee_data = [\n",
    "    (\"Alice\", \"HR\", 3),\n",
    "    (\"Bob\", \"Engineering\", 5),\n",
    "    (\"Charlie\", \"Marketing\", 2),\n",
    "    (\"David\", \"Engineering\", 8),\n",
    "    (\"Eva\", \"HR\", 4)\n",
    "]\n",
    "\n",
    "# Print a summary report using a for loop\n",
    "print(\"Employee Information Summary:\")\n",
    "print(\"----------------------------\")\n",
    "for employee in employee_data:\n",
    "    name, department, years_of_service = employee  # Unpack tuple elements\n",
    "    print(f\"Name: {name}, Department: {department}, Years of Service: {years_of_service}\")\n",
    "\n",
    "# Calculate and print the average years of service\n",
    "total_years_of_service = sum(employee[2] for employee in employee_data)\n",
    "average_years_of_service = total_years_of_service / len(employee_data)\n",
    "print(\"\\nAverage Years of Service:\", average_years_of_service)"
   ]
  },
  {
   "cell_type": "code",
   "execution_count": 12,
   "id": "2f1e40c6",
   "metadata": {},
   "outputs": [
    {
     "name": "stdout",
     "output_type": "stream",
     "text": [
      "Result: 15\n"
     ]
    }
   ],
   "source": [
    "# Function to perform basic arithmetic operations\n",
    "def calculator(x, y, operation):\n",
    "    if operation == 'add':\n",
    "        return x + y\n",
    "    elif operation == 'subtract':\n",
    "        return x - y\n",
    "    elif operation == 'multiply':\n",
    "        return x * y\n",
    "    elif operation == 'divide':\n",
    "        if y != 0:\n",
    "            return x / y\n",
    "        else:\n",
    "            return \"Cannot divide by zero\"\n",
    "    else:\n",
    "        return \"Invalid operation\"\n",
    "\n",
    "# Example usage\n",
    "result = calculator(10, 5, 'add')\n",
    "print(\"Result:\", result)"
   ]
  },
  {
   "cell_type": "code",
   "execution_count": 13,
   "id": "d47cb7c8",
   "metadata": {},
   "outputs": [
    {
     "name": "stdout",
     "output_type": "stream",
     "text": [
      "Fibonacci Sequence up to 50: [0, 1, 1, 2, 3, 5, 8, 13, 21, 34]\n"
     ]
    }
   ],
   "source": [
    "# Function to generate the Fibonacci sequence up to a specified limit\n",
    "def generate_fibonacci(limit):\n",
    "    fib_sequence = [0, 1]\n",
    "    while fib_sequence[-1] + fib_sequence[-2] <= limit:\n",
    "        fib_sequence.append(fib_sequence[-1] + fib_sequence[-2])\n",
    "    return fib_sequence\n",
    "\n",
    "# Example usage\n",
    "fibonacci_result = generate_fibonacci(50)\n",
    "print(\"Fibonacci Sequence up to 50:\", fibonacci_result)"
   ]
  },
  {
   "cell_type": "code",
   "execution_count": 14,
   "id": "c697547d",
   "metadata": {},
   "outputs": [
    {
     "name": "stdout",
     "output_type": "stream",
     "text": [
      "Enter an email address: rshm.jp07@gmail.com\n",
      "Valid email address!\n"
     ]
    }
   ],
   "source": [
    "# Function to validate an email address\n",
    "def is_valid_email(email):\n",
    "    if '@' in email and '.' in email:\n",
    "        return True\n",
    "    else:\n",
    "        return False\n",
    "\n",
    "# Example usage\n",
    "email_input = input(\"Enter an email address: \")\n",
    "if is_valid_email(email_input):\n",
    "    print(\"Valid email address!\")\n",
    "else:\n",
    "    print(\"Invalid email address.\")"
   ]
  },
  {
   "cell_type": "code",
   "execution_count": 15,
   "id": "67b0a64f",
   "metadata": {},
   "outputs": [
    {
     "name": "stdout",
     "output_type": "stream",
     "text": [
      "Engine started\n",
      "Wheels rolling\n",
      "Car is in motion\n"
     ]
    }
   ],
   "source": [
    "class Engine:\n",
    "    def start(self):\n",
    "        print(\"Engine started\")\n",
    "\n",
    "class Wheels:\n",
    "    def roll(self):\n",
    "        print(\"Wheels rolling\")\n",
    "\n",
    "class Car(Engine, Wheels):\n",
    "    def drive(self):\n",
    "        print(\"Car is in motion\")\n",
    "\n",
    "# Create a Car object\n",
    "my_car = Car()\n",
    "my_car.start()  # Accessing method from Engine class\n",
    "my_car.roll()   # Accessing method from Wheels class\n",
    "my_car.drive()  # Accessing method from Car class"
   ]
  },
  {
   "cell_type": "code",
   "execution_count": 16,
   "id": "890e25b3",
   "metadata": {},
   "outputs": [
    {
     "name": "stdout",
     "output_type": "stream",
     "text": [
      "Vehicle started\n",
      "Car is in motion\n",
      "Sports car accelerating\n"
     ]
    }
   ],
   "source": [
    "class Vehicle:\n",
    "    def start(self):\n",
    "        print(\"Vehicle started\")\n",
    "\n",
    "class Car(Vehicle):\n",
    "    def drive(self):\n",
    "        print(\"Car is in motion\")\n",
    "\n",
    "class SportsCar(Car):\n",
    "    def accelerate(self):\n",
    "        print(\"Sports car accelerating\")\n",
    "\n",
    "# Create a SportsCar object\n",
    "my_sports_car = SportsCar()\n",
    "my_sports_car.start()     # Accessing method from Vehicle class\n",
    "my_sports_car.drive()     # Accessing method from Car class\n",
    "my_sports_car.accelerate()  # Accessing method from SportsCar class"
   ]
  },
  {
   "cell_type": "code",
   "execution_count": 17,
   "id": "919a6557",
   "metadata": {},
   "outputs": [
    {
     "name": "stdout",
     "output_type": "stream",
     "text": [
      "Name: Alice, Role: Developer, Language: Python\n",
      "Name: Bob, Role: Manager, Team Size: 10\n"
     ]
    }
   ],
   "source": [
    "class Employee:\n",
    "    def __init__(self, name, role):\n",
    "        self.name = name\n",
    "        self.role = role\n",
    "\n",
    "    def display_info(self):\n",
    "        # Encapsulation: Accessing attributes through methods\n",
    "        print(f\"Name: {self.get_name()}, Role: {self.get_role()}\")\n",
    "\n",
    "    def get_name(self):\n",
    "        return self.name\n",
    "\n",
    "    def get_role(self):\n",
    "        return self.role\n",
    "\n",
    "class Developer(Employee):\n",
    "    def __init__(self, name, programming_language):\n",
    "        # Polymorphism: Overriding the __init__ method\n",
    "        super().__init__(name, role=\"Developer\")\n",
    "        self.programming_language = programming_language\n",
    "\n",
    "    # Polymorphism: Overriding the display_info method\n",
    "    def display_info(self):\n",
    "        print(f\"Name: {self.get_name()}, Role: {self.get_role()}, Language: {self.programming_language}\")\n",
    "\n",
    "class Manager(Employee):\n",
    "    def __init__(self, name, team_size):\n",
    "        super().__init__(name, role=\"Manager\")\n",
    "        self.team_size = team_size\n",
    "\n",
    "    def display_info(self):\n",
    "        print(f\"Name: {self.get_name()}, Role: {self.get_role()}, Team Size: {self.team_size}\")\n",
    "\n",
    "# Using polymorphism with different types of employees\n",
    "employee1 = Developer(\"Alice\", \"Python\")\n",
    "employee2 = Manager(\"Bob\", team_size=10)\n",
    "\n",
    "# Using polymorphism to call the display_info method\n",
    "employee1.display_info()  # Output: Name: Alice, Role: Developer, Language: Python\n",
    "employee2.display_info()  # Output: Name: Bob, Role: Manager, Team Size: 10"
   ]
  },
  {
   "cell_type": "code",
   "execution_count": 18,
   "id": "6cfdc15e",
   "metadata": {},
   "outputs": [
    {
     "name": "stdout",
     "output_type": "stream",
     "text": [
      " current balance after withdraw: 1000\n",
      " current balance after deposit: 3000\n",
      "Wrong Pin\n"
     ]
    }
   ],
   "source": [
    "class BankAccount:\n",
    "#initializing all the necessary variables\n",
    "    def __init__(self,Customer_name,Customer_pin,Bank_balance):\n",
    "        self.Customer_name=Customer_name\n",
    "        self.Customer_pin=Customer_pin\n",
    "        self.Bank_balance=Bank_balance\n",
    "        Bank_balance=2000  #initial amount in account\n",
    "        \n",
    "        \n",
    "    def Withdraw(self,Entered_pin,amount):\n",
    "        if Entered_pin != self.Customer_pin:\n",
    "            print(\"Wrong Pin\")\n",
    "        else:\n",
    "            self.Bank_balance -= amount\n",
    "            print(f\" current balance after withdraw: {self.Bank_balance}\")\n",
    "    \n",
    "    def Deposit(self,amount,Entered_pin):\n",
    "        if Entered_pin != self.Customer_pin:\n",
    "            print(\"Wrong Pin\")\n",
    "        else:\n",
    "            self.Bank_balance += amount\n",
    "            print(f\" current balance after deposit: {self.Bank_balance}\")\n",
    "                  \n",
    "                  \n",
    "Bank_Account1=BankAccount(\"Geethu\",\"1111\",2000)\n",
    "Bank_Account1.Withdraw(\"1111\",1000)\n",
    "Bank_Account1.Deposit(2000,\"1111\")\n",
    "\n",
    "# giving wrong pin\n",
    "Bank_Account1.Deposit(2000,\"1112\")"
   ]
  },
  {
   "cell_type": "code",
   "execution_count": null,
   "id": "4b37d20f",
   "metadata": {},
   "outputs": [],
   "source": []
  }
 ],
 "metadata": {
  "kernelspec": {
   "display_name": "Python 3 (ipykernel)",
   "language": "python",
   "name": "python3"
  },
  "language_info": {
   "codemirror_mode": {
    "name": "ipython",
    "version": 3
   },
   "file_extension": ".py",
   "mimetype": "text/x-python",
   "name": "python",
   "nbconvert_exporter": "python",
   "pygments_lexer": "ipython3",
   "version": "3.10.9"
  }
 },
 "nbformat": 4,
 "nbformat_minor": 5
}
