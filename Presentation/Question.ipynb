{
 "cells": [
  {
   "cell_type": "markdown",
   "id": "7721babd",
   "metadata": {},
   "source": [
    "# Qus. You have a resume document, so in order to extract Email ID from resume, write a regex function."
   ]
  },
  {
   "cell_type": "markdown",
   "id": "56f0601e",
   "metadata": {},
   "source": [
    "Extracting Email ID from the given input 'Hey my name is Reshma and my Email ID is rshm.jp07@gmail.com' with regex function"
   ]
  },
  {
   "cell_type": "code",
   "execution_count": 1,
   "id": "81128de2",
   "metadata": {},
   "outputs": [
    {
     "name": "stdout",
     "output_type": "stream",
     "text": [
      "['rshm.jp07@gmail.com']\n"
     ]
    }
   ],
   "source": [
    "import re\n",
    "\n",
    "def extract_email(resume_text): # Define a function extract_email\n",
    "    # Pattern designed to match email address\n",
    "    email_regex = r'\\b[A-Za-z0-9._%+-]+@[A-Za-z0-9.-]+\\.[A-Z|a-z]{2,}\\b' # Regular Expression for Email\n",
    "    matches = re.findall(email_regex, resume_text) # Using findall function to check all matches\n",
    "    return matches\n",
    "\n",
    "# Sample text including mail ID\n",
    "input_text = \"Hey my name is reshma and my email id is rshm.jp07@gmail.com\"\n",
    "email_addresses = extract_email(input_text)\n",
    "\n",
    "print(email_addresses)"
   ]
  },
  {
   "cell_type": "markdown",
   "id": "32cfa15b",
   "metadata": {},
   "source": [
    "Notes: \\b: Word boundary. This ensures that the email address is a standalone word and not part of a larger word.\n",
    "\n",
    "[A-Za-z0-9._%+-]+: One or more characters that can be letters (both uppercase and lowercase), digits, dots, underscores, percent signs, plus signs, or hyphens. This part matches the username part of the email address.\n",
    "\n",
    "@: The literal '@' symbol, separating the username and domain.\n",
    "\n",
    "[A-Za-z0-9.-]+: One or more characters that can be letters (both uppercase and lowercase), digits, dots, or hyphens. This part matches the domain name.\n",
    "\n",
    ".: The literal '.' character (escaped with backslash), separating the domain name and top-level domain (TLD).\n",
    "\n",
    "[A-Z|a-z]{2,}: Two or more uppercase or lowercase letters representing the TLD (e.g., com, org).\n",
    "\n",
    "\\b: Word boundary. Similar to the first word boundary, this ensures that the TLD is a standalone word and not part of a larger word."
   ]
  }
 ],
 "metadata": {
  "kernelspec": {
   "display_name": "Python 3 (ipykernel)",
   "language": "python",
   "name": "python3"
  },
  "language_info": {
   "codemirror_mode": {
    "name": "ipython",
    "version": 3
   },
   "file_extension": ".py",
   "mimetype": "text/x-python",
   "name": "python",
   "nbconvert_exporter": "python",
   "pygments_lexer": "ipython3",
   "version": "3.10.9"
  }
 },
 "nbformat": 4,
 "nbformat_minor": 5
}
