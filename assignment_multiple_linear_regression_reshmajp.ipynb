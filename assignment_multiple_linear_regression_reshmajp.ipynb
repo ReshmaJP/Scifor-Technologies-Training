{
 "cells": [
  {
   "cell_type": "code",
   "execution_count": 203,
   "id": "399e72c7",
   "metadata": {},
   "outputs": [],
   "source": [
    "# Import Libraries\n",
    "import pandas as pd\n",
    "import numpy as np\n",
    "import matplotlib.pyplot as plt\n",
    "import seaborn as sns"
   ]
  },
  {
   "cell_type": "code",
   "execution_count": 204,
   "id": "3aeaadf5",
   "metadata": {},
   "outputs": [
    {
     "data": {
      "text/html": [
       "<div>\n",
       "<style scoped>\n",
       "    .dataframe tbody tr th:only-of-type {\n",
       "        vertical-align: middle;\n",
       "    }\n",
       "\n",
       "    .dataframe tbody tr th {\n",
       "        vertical-align: top;\n",
       "    }\n",
       "\n",
       "    .dataframe thead th {\n",
       "        text-align: right;\n",
       "    }\n",
       "</style>\n",
       "<table border=\"1\" class=\"dataframe\">\n",
       "  <thead>\n",
       "    <tr style=\"text-align: right;\">\n",
       "      <th></th>\n",
       "      <th>Unnamed: 0</th>\n",
       "      <th>Age</th>\n",
       "      <th>PreviousCTC</th>\n",
       "      <th>YearsExperience</th>\n",
       "      <th>Salary</th>\n",
       "    </tr>\n",
       "  </thead>\n",
       "  <tbody>\n",
       "    <tr>\n",
       "      <th>0</th>\n",
       "      <td>0</td>\n",
       "      <td>25</td>\n",
       "      <td>20000</td>\n",
       "      <td>1.2</td>\n",
       "      <td>39344</td>\n",
       "    </tr>\n",
       "    <tr>\n",
       "      <th>1</th>\n",
       "      <td>1</td>\n",
       "      <td>23</td>\n",
       "      <td>25000</td>\n",
       "      <td>1.4</td>\n",
       "      <td>46206</td>\n",
       "    </tr>\n",
       "    <tr>\n",
       "      <th>2</th>\n",
       "      <td>2</td>\n",
       "      <td>24</td>\n",
       "      <td>28000</td>\n",
       "      <td>1.6</td>\n",
       "      <td>37732</td>\n",
       "    </tr>\n",
       "    <tr>\n",
       "      <th>3</th>\n",
       "      <td>3</td>\n",
       "      <td>25</td>\n",
       "      <td>35000</td>\n",
       "      <td>2.1</td>\n",
       "      <td>43526</td>\n",
       "    </tr>\n",
       "    <tr>\n",
       "      <th>4</th>\n",
       "      <td>4</td>\n",
       "      <td>24</td>\n",
       "      <td>32000</td>\n",
       "      <td>2.3</td>\n",
       "      <td>39892</td>\n",
       "    </tr>\n",
       "  </tbody>\n",
       "</table>\n",
       "</div>"
      ],
      "text/plain": [
       "   Unnamed: 0  Age  PreviousCTC  YearsExperience  Salary\n",
       "0           0   25        20000              1.2   39344\n",
       "1           1   23        25000              1.4   46206\n",
       "2           2   24        28000              1.6   37732\n",
       "3           3   25        35000              2.1   43526\n",
       "4           4   24        32000              2.3   39892"
      ]
     },
     "execution_count": 204,
     "metadata": {},
     "output_type": "execute_result"
    }
   ],
   "source": [
    "# Read Dataset\n",
    "data = pd.read_excel('Salary_dataset_1.xlsx')\n",
    "data.head()"
   ]
  },
  {
   "cell_type": "code",
   "execution_count": 205,
   "id": "16a67a2f",
   "metadata": {},
   "outputs": [
    {
     "data": {
      "text/plain": [
       "(30, 5)"
      ]
     },
     "execution_count": 205,
     "metadata": {},
     "output_type": "execute_result"
    }
   ],
   "source": [
    "# Dataset Size\n",
    "data.shape"
   ]
  },
  {
   "cell_type": "code",
   "execution_count": 206,
   "id": "4d8a7f4e",
   "metadata": {},
   "outputs": [
    {
     "name": "stdout",
     "output_type": "stream",
     "text": [
      "<class 'pandas.core.frame.DataFrame'>\n",
      "RangeIndex: 30 entries, 0 to 29\n",
      "Data columns (total 5 columns):\n",
      " #   Column           Non-Null Count  Dtype  \n",
      "---  ------           --------------  -----  \n",
      " 0   Unnamed: 0       30 non-null     int64  \n",
      " 1   Age              30 non-null     int64  \n",
      " 2   PreviousCTC      30 non-null     int64  \n",
      " 3   YearsExperience  30 non-null     float64\n",
      " 4   Salary           30 non-null     int64  \n",
      "dtypes: float64(1), int64(4)\n",
      "memory usage: 1.3 KB\n"
     ]
    }
   ],
   "source": [
    "# Dataset Info\n",
    "data.info()"
   ]
  },
  {
   "cell_type": "code",
   "execution_count": 207,
   "id": "ad5770ed",
   "metadata": {},
   "outputs": [
    {
     "data": {
      "text/plain": [
       "Unnamed: 0         0\n",
       "Age                0\n",
       "PreviousCTC        0\n",
       "YearsExperience    0\n",
       "Salary             0\n",
       "dtype: int64"
      ]
     },
     "execution_count": 207,
     "metadata": {},
     "output_type": "execute_result"
    }
   ],
   "source": [
    "# To find missing values\n",
    "data.isnull().sum()"
   ]
  },
  {
   "cell_type": "code",
   "execution_count": 208,
   "id": "eadd83c5",
   "metadata": {},
   "outputs": [],
   "source": [
    "# Extract Features and Target\n",
    "X = data.drop(['Salary'], axis=1)\n",
    "Y = data['Salary']"
   ]
  },
  {
   "cell_type": "code",
   "execution_count": 209,
   "id": "de9d97bb",
   "metadata": {},
   "outputs": [
    {
     "data": {
      "text/html": [
       "<div>\n",
       "<style scoped>\n",
       "    .dataframe tbody tr th:only-of-type {\n",
       "        vertical-align: middle;\n",
       "    }\n",
       "\n",
       "    .dataframe tbody tr th {\n",
       "        vertical-align: top;\n",
       "    }\n",
       "\n",
       "    .dataframe thead th {\n",
       "        text-align: right;\n",
       "    }\n",
       "</style>\n",
       "<table border=\"1\" class=\"dataframe\">\n",
       "  <thead>\n",
       "    <tr style=\"text-align: right;\">\n",
       "      <th></th>\n",
       "      <th>Unnamed: 0</th>\n",
       "      <th>Age</th>\n",
       "      <th>PreviousCTC</th>\n",
       "      <th>YearsExperience</th>\n",
       "    </tr>\n",
       "  </thead>\n",
       "  <tbody>\n",
       "    <tr>\n",
       "      <th>0</th>\n",
       "      <td>0</td>\n",
       "      <td>25</td>\n",
       "      <td>20000</td>\n",
       "      <td>1.2</td>\n",
       "    </tr>\n",
       "    <tr>\n",
       "      <th>1</th>\n",
       "      <td>1</td>\n",
       "      <td>23</td>\n",
       "      <td>25000</td>\n",
       "      <td>1.4</td>\n",
       "    </tr>\n",
       "    <tr>\n",
       "      <th>2</th>\n",
       "      <td>2</td>\n",
       "      <td>24</td>\n",
       "      <td>28000</td>\n",
       "      <td>1.6</td>\n",
       "    </tr>\n",
       "    <tr>\n",
       "      <th>3</th>\n",
       "      <td>3</td>\n",
       "      <td>25</td>\n",
       "      <td>35000</td>\n",
       "      <td>2.1</td>\n",
       "    </tr>\n",
       "    <tr>\n",
       "      <th>4</th>\n",
       "      <td>4</td>\n",
       "      <td>24</td>\n",
       "      <td>32000</td>\n",
       "      <td>2.3</td>\n",
       "    </tr>\n",
       "  </tbody>\n",
       "</table>\n",
       "</div>"
      ],
      "text/plain": [
       "   Unnamed: 0  Age  PreviousCTC  YearsExperience\n",
       "0           0   25        20000              1.2\n",
       "1           1   23        25000              1.4\n",
       "2           2   24        28000              1.6\n",
       "3           3   25        35000              2.1\n",
       "4           4   24        32000              2.3"
      ]
     },
     "execution_count": 209,
     "metadata": {},
     "output_type": "execute_result"
    }
   ],
   "source": [
    "X.head()"
   ]
  },
  {
   "cell_type": "code",
   "execution_count": 210,
   "id": "f05f2d78",
   "metadata": {},
   "outputs": [
    {
     "data": {
      "text/plain": [
       "0    39344\n",
       "1    46206\n",
       "2    37732\n",
       "3    43526\n",
       "4    39892\n",
       "Name: Salary, dtype: int64"
      ]
     },
     "execution_count": 210,
     "metadata": {},
     "output_type": "execute_result"
    }
   ],
   "source": [
    "Y.head()"
   ]
  },
  {
   "cell_type": "code",
   "execution_count": 211,
   "id": "975104a2",
   "metadata": {},
   "outputs": [],
   "source": [
    "# Splitting the dataset\n",
    "from sklearn.model_selection import train_test_split\n",
    "X_train, X_test, Y_train, Y_test = train_test_split(X, Y, random_state=42, test_size=0.3)"
   ]
  },
  {
   "cell_type": "code",
   "execution_count": 212,
   "id": "58e9d713",
   "metadata": {},
   "outputs": [],
   "source": [
    "# Adding a Column of Ones for Bias\n",
    "X_train = np.column_stack((np.ones(len(X_train)), X_train))\n",
    "X_test = np.column_stack((np.ones(len(X_test)), X_test))"
   ]
  },
  {
   "cell_type": "code",
   "execution_count": 213,
   "id": "ac3aedb9",
   "metadata": {},
   "outputs": [],
   "source": [
    "# Function to perform Multiple Linear Regression\n",
    "def multiple_linear_regression(X, Y, learning_rate, epochs):\n",
    "    m, n = X.shape\n",
    "    weights = np.zeros(n)\n",
    "    cost_list = []\n",
    "    \n",
    "    for _ in range(epochs):\n",
    "        predictions = np.dot(X, weights)\n",
    "        errors = predictions - Y\n",
    "        gradients = np.dot(X.T, errors) / m\n",
    "        weights -= learning_rate * gradients\n",
    "        \n",
    "        # Calculate the Cost\n",
    "        cost = (1 / (2 * m)) * np.sum(errors**2)\n",
    "        cost_list.append(cost)\n",
    "        \n",
    "    return weights, cost_list"
   ]
  },
  {
   "cell_type": "code",
   "execution_count": 214,
   "id": "2bd1b8d7",
   "metadata": {},
   "outputs": [],
   "source": [
    "# Train the model\n",
    "learning_rate = 0.00000000001\n",
    "epochs = 10000\n",
    "weights, cost_list = multiple_linear_regression(X_train, Y_train, learning_rate, epochs)"
   ]
  },
  {
   "cell_type": "code",
   "execution_count": 215,
   "id": "bf27a7b2",
   "metadata": {},
   "outputs": [],
   "source": [
    "# Predict on the Test Set\n",
    "Y_pred_test = np.dot(X_test, weights)"
   ]
  },
  {
   "cell_type": "code",
   "execution_count": 216,
   "id": "79a9aaa0",
   "metadata": {},
   "outputs": [],
   "source": [
    "# Calculate the Regression Metrics\n",
    "mse = np.mean((Y_test - Y_pred_test)**2)\n",
    "rmse = np.sqrt(mse)\n",
    "mae = np.mean(np.abs(Y_test - Y_pred_test))\n",
    "total_variance = np.sum((Y_test - np.mean(Y_test))**2)\n",
    "r_squared = 1 - (mse / total_variance)"
   ]
  },
  {
   "cell_type": "code",
   "execution_count": 217,
   "id": "0258dcf6",
   "metadata": {},
   "outputs": [
    {
     "name": "stdout",
     "output_type": "stream",
     "text": [
      "MSE: 30426807.803208634\n",
      "RMSE: 5516.050018193148\n",
      "MAE: 4085.126429505939\n",
      "Total Variance: 5807725838.888889\n",
      "R2 Score: 0.9947609772487074\n"
     ]
    }
   ],
   "source": [
    "print(f\"MSE: {mse}\")\n",
    "print(f\"RMSE: {rmse}\")\n",
    "print(f\"MAE: {mae}\")\n",
    "print(f\"Total Variance: {total_variance}\")\n",
    "print(f\"R2 Score: {r_squared}\")"
   ]
  },
  {
   "cell_type": "code",
   "execution_count": 218,
   "id": "86a1c781",
   "metadata": {},
   "outputs": [
    {
     "name": "stdout",
     "output_type": "stream",
     "text": [
      "    Actual Values  Predicted Values  Difference (Actual - Predicted)\n",
      "27         112636      98942.652726                     13693.347274\n",
      "15          67939      69841.917275                     -1902.917275\n",
      "23         113813     110582.959742                      3230.040258\n",
      "17          83089      81482.185160                      1606.814840\n",
      "8           64446      64021.735626                       424.264374\n",
      "9           57190      60529.655505                     -3339.655505\n",
      "28         122392     128043.406517                     -5651.406517\n",
      "24         109432     107090.847619                      2341.152381\n",
      "12          56958      52381.460558                      4576.539442\n"
     ]
    }
   ],
   "source": [
    "# Create a DataFrame with the results\n",
    "results_data = pd.DataFrame({\n",
    "    'Actual Values': Y_test,\n",
    "    'Predicted Values': Y_pred_test,\n",
    "    'Difference (Actual - Predicted)': Y_test - Y_pred_test\n",
    "})\n",
    "\n",
    "# Print the DataFrame\n",
    "print(results_data)"
   ]
  },
  {
   "cell_type": "code",
   "execution_count": 219,
   "id": "256702e1",
   "metadata": {},
   "outputs": [],
   "source": [
    "# DataFrame with random actual and predicted values\n",
    "df = {\n",
    "    'Actual Values': [57190, 67939, 83089, 109432, 113813, 122392],\n",
    "    'Predicted Values': [60529.655505, 69841.917275, 81482.185160, 107090.847619, 110582.959742, 128043.406517]\n",
    "}\n",
    "df1 = pd.DataFrame(df)"
   ]
  },
  {
   "cell_type": "code",
   "execution_count": 220,
   "id": "43fda72c",
   "metadata": {},
   "outputs": [
    {
     "data": {
      "image/png": "[encoded data removed]",
      "text/plain": [
       "<Figure size 1000x600 with 1 Axes>"
      ]
     },
     "metadata": {},
     "output_type": "display_data"
    }
   ],
   "source": [
    "# Plot Line chart for actual and predicted values\n",
    "plt.figure(figsize=(10,6))\n",
    "plt.plot(df1['Actual Values'], df1['Predicted Values'], marker = 'o', linestyle = '-', color = 'red')\n",
    "plt.grid(True)\n",
    "\n",
    "# Display the plot\n",
    "plt.show()"
   ]
  }
 ],
 "metadata": {
  "kernelspec": {
   "display_name": "Python 3 (ipykernel)",
   "language": "python",
   "name": "python3"
  },
  "language_info": {
   "codemirror_mode": {
    "name": "ipython",
    "version": 3
   },
   "file_extension": ".py",
   "mimetype": "text/x-python",
   "name": "python",
   "nbconvert_exporter": "python",
   "pygments_lexer": "ipython3",
   "version": "3.10.9"
  }
 },
 "nbformat": 4,
 "nbformat_minor": 5
}
